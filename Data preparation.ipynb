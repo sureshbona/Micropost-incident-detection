{
 "cells": [
  {
   "cell_type": "markdown",
   "id": "3b35199b",
   "metadata": {},
   "source": [
    "### Migration-Movement-2015 Dataset\n",
    "S. Urchs, L. Wendlinger, J. Mitrović and M. Granitzer, \"MMoveT15: A Twitter Dataset for Extracting and Analysing Migration-Movement Data of the European Migration Crisis 2015,\" 2019 IEEE 28th International Conference on Enabling Technologies: Infrastructure for Collaborative Enterprises (WETICE), 2019, pp. 146-149, doi: 10.1109/WETICE.2019.00039."
   ]
  },
  {
   "cell_type": "code",
   "execution_count": 1,
   "id": "a7c212ed",
   "metadata": {},
   "outputs": [
    {
     "name": "stdout",
     "output_type": "stream",
     "text": [
      "  % Total    % Received % Xferd  Average Speed   Time    Time     Time  Current\n",
      "                                 Dload  Upload   Total   Spent    Left  Speed\n",
      "100 12.0M  100 12.0M    0     0  4476k      0  0:00:02  0:00:02 --:--:-- 4474k\n",
      "  % Total    % Received % Xferd  Average Speed   Time    Time     Time  Current\n",
      "                                 Dload  Upload   Total   Spent    Left  Speed\n",
      "100 4092k  100 4092k    0     0  2312k      0  0:00:01  0:00:01 --:--:-- 2310k\n"
     ]
    }
   ],
   "source": [
    "!curl https://zenodo.org/record/2536590/files/train_data.json?download=1 --create-dirs -o ./Datasets/Migration-Movement-2015/train_data.json\n",
    "!curl https://zenodo.org/record/2536590/files/test_data.json?download=1 --create-dirs -o ./Datasets/Migration-Movement-2015/test_data.json  "
   ]
  },
  {
   "cell_type": "markdown",
   "id": "12ca4515",
   "metadata": {},
   "source": [
    "### Glove word embeddings\n",
    "Jeffrey Pennington, Richard Socher, and Christopher D. Manning. “GloVe: Global Vectors for Word Representation”. In: Empirical Methods in Natural Language Processing (EMNLP). 2014, pp. 1532–1543. url: http://www.aclweb.org/anthology/D14-1162"
   ]
  },
  {
   "cell_type": "code",
   "execution_count": 2,
   "id": "9578f1ac",
   "metadata": {},
   "outputs": [
    {
     "name": "stdout",
     "output_type": "stream",
     "text": [
      "  % Total    % Received % Xferd  Average Speed   Time    Time     Time  Current\n",
      "                                 Dload  Upload   Total   Spent    Left  Speed\n",
      "100 1449M  100 1449M    0     0  25.0M      0  0:00:57  0:00:57 --:--:-- 21.0M\n"
     ]
    }
   ],
   "source": [
    "!curl https://cdn-lfs.huggingface.co/stanfordnlp/glove/3123e7f5c3f6a30095d413b12fc3284bbf717acd2a9bed63d1c7c13bf5223352 --create-dirs -o ./Datasets/Embeddings/Glove_Twitter_27B/glove.twitter.27B.zip"
   ]
  },
  {
   "cell_type": "code",
   "execution_count": 3,
   "id": "6fd9ca20",
   "metadata": {},
   "outputs": [
    {
     "name": "stdout",
     "output_type": "stream",
     "text": [
      "Archive:  ./Datasets/Embeddings/Glove_Twitter_27B/glove.twitter.27B.zip\n",
      "  inflating: ./Datasets/Embeddings/Glove_Twitter_27B/glove.twitter.27B.100d.txt  \n",
      "  inflating: ./Datasets/Embeddings/Glove_Twitter_27B/glove.twitter.27B.200d.txt  \n",
      "  inflating: ./Datasets/Embeddings/Glove_Twitter_27B/glove.twitter.27B.25d.txt  \n",
      "  inflating: ./Datasets/Embeddings/Glove_Twitter_27B/glove.twitter.27B.50d.txt  \n"
     ]
    }
   ],
   "source": [
    "!unzip ./Datasets/Embeddings/Glove_Twitter_27B/glove.twitter.27B.zip -d ./Datasets/Embeddings/Glove_Twitter_27B/"
   ]
  },
  {
   "cell_type": "code",
   "execution_count": 4,
   "id": "55984b34",
   "metadata": {},
   "outputs": [],
   "source": [
    "!rm -r ./Datasets/Embeddings/Glove_Twitter_27B/glove.twitter.27B.zip"
   ]
  },
  {
   "cell_type": "markdown",
   "id": "1c0d9374",
   "metadata": {},
   "source": [
    "### word2vec_twitter_tokens\n",
    "Fréderic Godin. Twitter Word2vec and FastText word embeddings. Aug. 17, 2019. \n",
    "url: https://web.archive.org/web/20200922132606/https://fredericgodin.com/research/twitter-word-embeddings/"
   ]
  },
  {
   "cell_type": "code",
   "execution_count": 1,
   "id": "f668bb93",
   "metadata": {},
   "outputs": [
    {
     "name": "stdout",
     "output_type": "stream",
     "text": [
      "mkdir: cannot create directory ‘./Datasets/Embeddings/word2vec_twitter_400d/’: File exists\n",
      "/root/anaconda3/envs/thesis/lib/python3.9/site-packages/gdown/cli.py:127: FutureWarning: Option `--id` was deprecated in version 4.3.1 and will be removed in 5.0. You don't need to pass it anymore to use a file ID.\n",
      "  warnings.warn(\n",
      "Downloading...\n",
      "From: https://drive.google.com/uc?id=1lw5Hr6Xw0G0bMT1ZllrtMqEgCTrM7dzc\n",
      "To: /root/git/Micropost-incident-detection/Datasets/Embeddings/word2vec_twitter_400d/word2vec_twitter_tokens.bin\n",
      "100%|██████████████████████████████████████| 4.90G/4.90G [01:29<00:00, 54.8MB/s]\n"
     ]
    }
   ],
   "source": [
    "!mkdir \"./Datasets/Embeddings/word2vec_twitter_400d/\"\n",
    "!gdown --id '1lw5Hr6Xw0G0bMT1ZllrtMqEgCTrM7dzc' --output \"./Datasets/Embeddings/word2vec_twitter_400d/word2vec_twitter_tokens.bin\""
   ]
  },
  {
   "cell_type": "markdown",
   "id": "a9965fb2",
   "metadata": {},
   "source": [
    "### GloVe Common Crawl\n",
    "Jeffrey Pennington, Richard Socher, and Christopher D. Manning. “GloVe: Global Vectors for Word Representation”. In: Empirical Methods in Natural Language Processing (EMNLP). 2014, pp. 1532–1543. url: http://www.aclweb.org/anthology/D14-1162"
   ]
  },
  {
   "cell_type": "code",
   "execution_count": 6,
   "id": "3d0a97d0",
   "metadata": {},
   "outputs": [
    {
     "name": "stdout",
     "output_type": "stream",
     "text": [
      "  % Total    % Received % Xferd  Average Speed   Time    Time     Time  Current\n",
      "                                 Dload  Upload   Total   Spent    Left  Speed\n",
      "100 1790M  100 1790M    0     0  24.4M      0  0:01:13  0:01:13 --:--:-- 38.3M\n"
     ]
    }
   ],
   "source": [
    "!curl https://cdn-lfs.huggingface.co/stanfordnlp/glove/357baac33090f645e71e253b3295ee1b767c98a0336e9a1d99c77e9e33b43c4a --create-dirs -o ./Datasets/Embeddings/Glove_CommonCrawl_42B_300d/glove.42B.300d.zip"
   ]
  },
  {
   "cell_type": "code",
   "execution_count": 7,
   "id": "92cc3342",
   "metadata": {},
   "outputs": [
    {
     "name": "stdout",
     "output_type": "stream",
     "text": [
      "Archive:  ./Datasets/Embeddings/Glove_CommonCrawl_42B_300d/glove.42B.300d.zip\n",
      "  inflating: ./Datasets/Embeddings/Glove_CommonCrawl_42B_300d/glove.42B.300d.txt  \n"
     ]
    }
   ],
   "source": [
    "!unzip ./Datasets/Embeddings/Glove_CommonCrawl_42B_300d/glove.42B.300d.zip -d ./Datasets/Embeddings/Glove_CommonCrawl_42B_300d/"
   ]
  },
  {
   "cell_type": "code",
   "execution_count": 8,
   "id": "e3b0e816",
   "metadata": {},
   "outputs": [],
   "source": [
    "!rm -r ./Datasets/Embeddings/Glove_CommonCrawl_42B_300d/glove.42B.300d.zip "
   ]
  },
  {
   "cell_type": "markdown",
   "id": "01b12762",
   "metadata": {},
   "source": [
    "### fasttext_twitter_tokens\n",
    "Fréderic Godin. Twitter Word2vec and FastText word embeddings. Aug. 17, 2019. \n",
    "url: https://web.archive.org/web/20200922132606/https://fredericgodin.com/research/twitter-word-embeddings/"
   ]
  },
  {
   "cell_type": "code",
   "execution_count": 1,
   "id": "7d258fd2",
   "metadata": {},
   "outputs": [
    {
     "name": "stdout",
     "output_type": "stream",
     "text": [
      "mkdir: cannot create directory ‘./Datasets/Embeddings/fasttext_twitter/’: File exists\n",
      "/root/anaconda3/envs/thesis/lib/python3.9/site-packages/gdown/cli.py:127: FutureWarning: Option `--id` was deprecated in version 4.3.1 and will be removed in 5.0. You don't need to pass it anymore to use a file ID.\n",
      "  warnings.warn(\n",
      "Downloading...\n",
      "From: https://drive.google.com/uc?id=15zXlbO3bxSYTPt71Fon5-0-oCB8iMSno\n",
      "To: /root/git/Micropost-incident-detection/Datasets/Embeddings/fasttext_twitter/fasttext_twitter_tokens.bin\n",
      "100%|██████████████████████████████████████| 15.5G/15.5G [03:10<00:00, 81.3MB/s]\n"
     ]
    }
   ],
   "source": [
    "!mkdir \"./Datasets/Embeddings/fasttext_twitter/\"\n",
    "!gdown --id '15zXlbO3bxSYTPt71Fon5-0-oCB8iMSno' --output \"./Datasets/Embeddings/fasttext_twitter/fasttext_twitter_tokens.bin\""
   ]
  },
  {
   "cell_type": "code",
   "execution_count": null,
   "id": "7dcddf01",
   "metadata": {},
   "outputs": [],
   "source": []
  }
 ],
 "metadata": {
  "kernelspec": {
   "display_name": "Python 3 (ipykernel)",
   "language": "python",
   "name": "python3"
  },
  "language_info": {
   "codemirror_mode": {
    "name": "ipython",
    "version": 3
   },
   "file_extension": ".py",
   "mimetype": "text/x-python",
   "name": "python",
   "nbconvert_exporter": "python",
   "pygments_lexer": "ipython3",
   "version": "3.9.12"
  },
  "toc": {
   "base_numbering": 1,
   "nav_menu": {},
   "number_sections": true,
   "sideBar": true,
   "skip_h1_title": false,
   "title_cell": "Table of Contents",
   "title_sidebar": "Contents",
   "toc_cell": false,
   "toc_position": {},
   "toc_section_display": true,
   "toc_window_display": false
  }
 },
 "nbformat": 4,
 "nbformat_minor": 5
}
