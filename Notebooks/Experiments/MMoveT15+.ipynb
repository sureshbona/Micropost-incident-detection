{
 "cells": [
  {
   "cell_type": "markdown",
   "id": "dd120ede",
   "metadata": {},
   "source": [
    "# Imports"
   ]
  },
  {
   "cell_type": "markdown",
   "id": "5a4119c2",
   "metadata": {},
   "source": [
    "## Packages"
   ]
  },
  {
   "cell_type": "code",
   "execution_count": 1,
   "id": "75601799",
   "metadata": {},
   "outputs": [],
   "source": [
    "import os\n",
    "import pandas as pd\n",
    "import numpy as np\n",
    "import random\n",
    "import importlib\n",
    "from pathlib import Path\n",
    "from sklearn.model_selection import StratifiedKFold, GridSearchCV, cross_validate\n",
    "from sklearn.pipeline import Pipeline\n",
    "from sklearn.preprocessing import MultiLabelBinarizer\n",
    "from sklearn.utils.class_weight import compute_class_weight\n",
    "from sklearn.feature_extraction.text import TfidfVectorizer\n",
    "from sklearn.multioutput import MultiOutputClassifier\n",
    "from iterstrat.ml_stratifiers import MultilabelStratifiedKFold\n",
    "from sklearn.svm import SVC\n",
    "from sklearn.metrics import precision_recall_curve, auc\n",
    "import matplotlib.pyplot as plt\n",
    "from matplotlib.ticker import AutoMinorLocator\n",
    "from pylab import *\n",
    "import seaborn as sns\n",
    "import tensorflow as tf\n",
    "from scipy import stats\n",
    "from mlxtend.evaluate import paired_ttest_5x2cv\n",
    "\n",
    "pd.set_option(\"display.max_rows\", None, \"display.max_columns\", None)\n",
    "plt.rcParams['figure.facecolor']='white'\n",
    "os.environ['TF_CPP_MIN_LOG_LEVEL'] = '3'"
   ]
  },
  {
   "cell_type": "markdown",
   "id": "bca1c0a2",
   "metadata": {},
   "source": [
    "## Helpers"
   ]
  },
  {
   "cell_type": "code",
   "execution_count": 2,
   "id": "f31518e4",
   "metadata": {},
   "outputs": [
    {
     "name": "stderr",
     "output_type": "stream",
     "text": [
      "/root/anaconda3/envs/py39/lib/python3.9/site-packages/tqdm/auto.py:22: TqdmWarning: IProgress not found. Please update jupyter and ipywidgets. See https://ipywidgets.readthedocs.io/en/stable/user_install.html\n",
      "  from .autonotebook import tqdm as notebook_tqdm\n"
     ]
    }
   ],
   "source": [
    "import sys\n",
    "sys.path.append(\"../\")\n",
    "\n",
    "# glove preprocessings\n",
    "import Helpers.Glove_transform\n",
    "importlib.reload(Helpers.Glove_transform)\n",
    "from Helpers.Glove_transform import GloveTransform\n",
    "\n",
    "# Stanford tokenizer\n",
    "import Helpers.Stanford_Tokenizer\n",
    "importlib.reload(Helpers.Stanford_Tokenizer)\n",
    "from Helpers.Stanford_Tokenizer import StanfordTokenizer\n",
    "\n",
    "# Tweet tokenizer(from C-BiGRU paper)\n",
    "import Helpers.Tweet_Tokenizer\n",
    "importlib.reload(Helpers.Tweet_Tokenizer)\n",
    "from Helpers.Tweet_Tokenizer import TweetTokenize\n",
    "\n",
    "# glove embeddings\n",
    "import Helpers.Glove_twitter_embeddings\n",
    "importlib.reload(Helpers.Glove_twitter_embeddings)\n",
    "from Helpers.Glove_twitter_embeddings import GloveTwitterEmbeddings\n",
    "\n",
    "# glove common crawl\n",
    "import Helpers.Glove_CommonCrawl_embeddings\n",
    "importlib.reload(Helpers.Glove_CommonCrawl_embeddings)\n",
    "from Helpers.Glove_CommonCrawl_embeddings import GloveCommomCrawlEmbeddings\n",
    "\n",
    "# Word embedding(from C-BiGRU paper)\n",
    "import Helpers.Word2Vec_Twitter\n",
    "importlib.reload(Helpers.Word2Vec_Twitter)\n",
    "from Helpers.Word2Vec_Twitter import Word2VecTwitter\n",
    "\n",
    "# Fasttext embedding\n",
    "import Helpers.Fasttext_Twitter\n",
    "importlib.reload(Helpers.Fasttext_Twitter)\n",
    "from Helpers.Fasttext_Twitter import FasttextTwitter\n",
    "\n",
    "# Padding\n",
    "import Helpers.Padding\n",
    "importlib.reload(Helpers.Padding)\n",
    "from Helpers.Padding import Padding\n",
    "\n",
    "# Kears sklearn CNN classifier\n",
    "import Helpers.CNN_SciKeras_Classifier\n",
    "importlib.reload(Helpers.CNN_SciKeras_Classifier)\n",
    "from Helpers.CNN_SciKeras_Classifier import CNN_classifier\n",
    "\n",
    "# Kears sklearn CBiGRU classifier\n",
    "import Helpers.CBiGRU_SciKeras_Classifier\n",
    "importlib.reload(Helpers.CBiGRU_SciKeras_Classifier)\n",
    "from Helpers.CBiGRU_SciKeras_Classifier import CBiGRU_classifier"
   ]
  },
  {
   "cell_type": "markdown",
   "id": "a18884de",
   "metadata": {},
   "source": [
    "# Directory to store results"
   ]
  },
  {
   "cell_type": "code",
   "execution_count": 10,
   "id": "ae393be8",
   "metadata": {},
   "outputs": [],
   "source": [
    "results_dir = Path('../../results/mmovet15+')\n",
    "results_dir.mkdir(parents=True, exist_ok=True)\n",
    "\n",
    "results_plot = Path('../../results/plots')\n",
    "results_plot.mkdir(parents=True, exist_ok=True)"
   ]
  },
  {
   "cell_type": "markdown",
   "id": "fbc867ee",
   "metadata": {},
   "source": [
    "# Dataset"
   ]
  },
  {
   "cell_type": "code",
   "execution_count": 25,
   "id": "c85dd213",
   "metadata": {},
   "outputs": [
    {
     "name": "stdout",
     "output_type": "stream",
     "text": [
      "Total number of datapoints in train set: 2987\n"
     ]
    }
   ],
   "source": [
    "# read train dataset\n",
    "MMoveT15_2 = \"../../Datasets/MMoveT15+/\"\n",
    "train = pd.read_json(MMoveT15_2 + 'mmovet15_2_train.json')\n",
    "x_train = train[\"text_translated\"]\n",
    "y_train = train[[\"cardinality\", \"migrant_movement\", \"any_mention_of_migrants\"]]\n",
    "\n",
    "# Multi label encode\n",
    "y_train = y_train.loc[:, 'cardinality':'any_mention_of_migrants'].replace(True, pd.Series(y_train.columns, y_train.columns)).replace(False, np.nan)\n",
    "y_train = y_train.T.apply(lambda x: x.dropna().tolist()).tolist()\n",
    "\n",
    "mlp = MultiLabelBinarizer()\n",
    "y_train = mlp.fit_transform(y_train)\n",
    "print(\"Total number of datapoints in train set:\",len(train))"
   ]
  },
  {
   "cell_type": "markdown",
   "id": "d1a5165e",
   "metadata": {},
   "source": [
    "# Experiments"
   ]
  },
  {
   "cell_type": "markdown",
   "id": "e685d086",
   "metadata": {},
   "source": [
    "## SVM + TF-IDF"
   ]
  },
  {
   "cell_type": "markdown",
   "id": "4a15063f",
   "metadata": {},
   "source": [
    "### Pipeline"
   ]
  },
  {
   "cell_type": "code",
   "execution_count": 43,
   "id": "e9a35755",
   "metadata": {},
   "outputs": [
    {
     "data": {
      "text/plain": [
       "{'tfidf': TfidfVectorizer(ngram_range=(1, 2)),\n",
       " 'svm': MultiOutputClassifier(estimator=SVC(probability=True), n_jobs=-1)}"
      ]
     },
     "execution_count": 43,
     "metadata": {},
     "output_type": "execute_result"
    }
   ],
   "source": [
    "# Make it an Multilabel classifier\n",
    "multilabel_classifier = MultiOutputClassifier(SVC(probability=True), n_jobs=-1)\n",
    "\n",
    "# Define component objects of our pipeline then create it!\n",
    "objs = [(\"tfidf\", TfidfVectorizer(ngram_range=(1,2))),\n",
    "        (\"svm\", multilabel_classifier)]\n",
    "pipe = Pipeline(objs)\n",
    "pipe.named_steps"
   ]
  },
  {
   "cell_type": "markdown",
   "id": "c605dcb5",
   "metadata": {},
   "source": [
    "### Cross validation"
   ]
  },
  {
   "cell_type": "code",
   "execution_count": 44,
   "id": "aa250eb6",
   "metadata": {},
   "outputs": [],
   "source": [
    "cv = MultilabelStratifiedKFold(n_splits=10, shuffle=True, random_state=42)\n",
    "pipe.set_params(svm__estimator__C=1)\n",
    "pipe.set_params(tfidf__ngram_range=(1, 2))\n",
    "cv_results = cross_validate(pipe, \n",
    "                                x_train, y_train,\n",
    "                                cv=cv, \n",
    "                                n_jobs = -1,\n",
    "                                scoring=\"average_precision\")"
   ]
  },
  {
   "cell_type": "code",
   "execution_count": 45,
   "id": "730c97c7",
   "metadata": {},
   "outputs": [
    {
     "name": "stdout",
     "output_type": "stream",
     "text": [
      "Average Precision: Mean-0.404, std-0.029\n"
     ]
    }
   ],
   "source": [
    "print(\"Average Precision: Mean-%.3f, std-%.3f\"%(np.mean(cv_results[\"test_score\"]), np.std(cv_results[\"test_score\"])))"
   ]
  },
  {
   "cell_type": "code",
   "execution_count": 46,
   "id": "fca7157d",
   "metadata": {},
   "outputs": [],
   "source": [
    "results = pd.DataFrame(cv_results)[\"test_score\"]\n",
    "results.rename(\"Average Precision\", inplace=True)\n",
    "results.to_csv(Path.joinpath(results_dir, \"SVM_TFIDF.csv\"), index=False)"
   ]
  },
  {
   "cell_type": "markdown",
   "id": "9ec2b0cb",
   "metadata": {},
   "source": [
    "## CNN + Glove Twitter Word Embeddings"
   ]
  },
  {
   "cell_type": "markdown",
   "id": "41023cf4",
   "metadata": {},
   "source": [
    "### Pipeline"
   ]
  },
  {
   "cell_type": "code",
   "execution_count": 5,
   "id": "9b9b034e",
   "metadata": {},
   "outputs": [
    {
     "data": {
      "text/plain": [
       "{'Preprocess': GloveTransform(),\n",
       " 'Tokenize': StanfordTokenizer(),\n",
       " 'W2V': GloveTwitterEmbeddings(transformTo='concat'),\n",
       " 'Pad': Padding(),\n",
       " 'net': CNN_classifier(\n",
       " \tmodel=<function CNN_model at 0x7f836aecc700>\n",
       " \tbuild_fn=None\n",
       " \twarm_start=False\n",
       " \trandom_state=42\n",
       " \toptimizer=<keras.optimizer_v2.adadelta.Adadelta object at 0x7f836aef15b0>\n",
       " \tloss=binary_crossentropy\n",
       " \tmetrics=['accuracy']\n",
       " \tbatch_size=50\n",
       " \tvalidation_batch_size=None\n",
       " \tverbose=1\n",
       " \tcallbacks=None\n",
       " \tvalidation_split=0.1\n",
       " \tshuffle=True\n",
       " \trun_eagerly=False\n",
       " \tepochs=40\n",
       " \tclass_weight=None\n",
       " )}"
      ]
     },
     "execution_count": 5,
     "metadata": {},
     "output_type": "execute_result"
    }
   ],
   "source": [
    "objs_CNN = [\n",
    "     (\"Preprocess\", GloveTransform()),\n",
    "        (\"Tokenize\", StanfordTokenizer()),\n",
    "        (\"W2V\", GloveTwitterEmbeddings(transformTo=\"concat\")),\n",
    "        (\"Pad\", Padding()),\n",
    "        (\"net\", CNN_classifier())\n",
    "              ] \n",
    "pipe_CNN = Pipeline(objs_CNN)\n",
    "\n",
    "pipe_CNN.named_steps"
   ]
  },
  {
   "cell_type": "markdown",
   "id": "a2dcb3d1",
   "metadata": {},
   "source": [
    "### Cross validation"
   ]
  },
  {
   "cell_type": "code",
   "execution_count": 11,
   "id": "be96a86e",
   "metadata": {},
   "outputs": [],
   "source": [
    "cv = MultilabelStratifiedKFold(n_splits=10, shuffle=True, random_state=42)\n",
    "pipe_CNN.set_params(net__verbose=0)\n",
    "pipe_CNN.set_params(net__model__output_size=3)\n",
    "cv_results_CNN = cross_validate(pipe_CNN, \n",
    "                            x_train, \n",
    "                            y_train,\n",
    "                            cv=cv,\n",
    "                            n_jobs=-1,\n",
    "                            scoring=\"average_precision\")"
   ]
  },
  {
   "cell_type": "code",
   "execution_count": 12,
   "id": "b277a181",
   "metadata": {},
   "outputs": [
    {
     "name": "stdout",
     "output_type": "stream",
     "text": [
      "Average Precision: Mean-0.364, std-0.018\n"
     ]
    }
   ],
   "source": [
    "print(\"Average Precision: Mean-%.3f, std-%.3f\"%(np.mean(cv_results_CNN[\"test_score\"]), np.std(cv_results_CNN[\"test_score\"])))"
   ]
  },
  {
   "cell_type": "code",
   "execution_count": 13,
   "id": "00214a95",
   "metadata": {},
   "outputs": [],
   "source": [
    "results = pd.DataFrame(cv_results)[\"test_score\"]\n",
    "results.rename(\"Average Precision\", inplace=True)\n",
    "results.to_csv(Path.joinpath(results_dir, \"Glove_Twitter_Embeddings_CNN.csv\"), index=False)"
   ]
  },
  {
   "cell_type": "markdown",
   "id": "e42763bf",
   "metadata": {},
   "source": [
    "### Plot training loss curve"
   ]
  },
  {
   "cell_type": "code",
   "execution_count": 14,
   "id": "193b945e",
   "metadata": {},
   "outputs": [
    {
     "data": {
      "text/plain": [
       "(2987, 42, 200)"
      ]
     },
     "execution_count": 14,
     "metadata": {},
     "output_type": "execute_result"
    }
   ],
   "source": [
    "x_transform = pipe_CNN[:-1].fit_transform(x_train)\n",
    "x_transform.shape"
   ]
  },
  {
   "cell_type": "code",
   "execution_count": 15,
   "id": "13d9b9fa",
   "metadata": {},
   "outputs": [
    {
     "data": {
      "text/plain": [
       "CNN_classifier(\n",
       "\tmodel=<function CNN_model at 0x7ff8dbc36b80>\n",
       "\tbuild_fn=None\n",
       "\twarm_start=False\n",
       "\trandom_state=42\n",
       "\toptimizer=<keras.optimizer_v2.adadelta.Adadelta object at 0x7ff8dbc5f940>\n",
       "\tloss=binary_crossentropy\n",
       "\tmetrics=['accuracy']\n",
       "\tbatch_size=50\n",
       "\tvalidation_batch_size=None\n",
       "\tverbose=0\n",
       "\tcallbacks=None\n",
       "\tvalidation_split=0.1\n",
       "\tshuffle=True\n",
       "\trun_eagerly=False\n",
       "\tepochs=40\n",
       "\toutput_size=3\n",
       "\tclass_weight=None\n",
       "\tmodel__seq_len=42\n",
       "\tmodel__emb_dim=200\n",
       ")"
      ]
     },
     "execution_count": 15,
     "metadata": {},
     "output_type": "execute_result"
    }
   ],
   "source": [
    "model = CNN_classifier(output_size=3, verbose=0)\n",
    "model.fit(x_transform, y_train)"
   ]
  },
  {
   "cell_type": "code",
   "execution_count": 16,
   "id": "a1f6df3e",
   "metadata": {},
   "outputs": [
    {
     "data": {
      "image/png": "[encoded data removed]",
      "text/plain": [
       "<Figure size 432x288 with 1 Axes>"
      ]
     },
     "metadata": {},
     "output_type": "display_data"
    }
   ],
   "source": [
    "ap = round(max(model.history_['val_accuracy']), 3)\n",
    "\n",
    "# get training and validation loss\n",
    "epochs = [i for i in range(len(model.history_[\"loss\"]))]\n",
    "train_loss = model.history_['loss']\n",
    "train_acc = model.history_['accuracy']\n",
    "valid_loss = model.history_['val_loss']\n",
    "valid_acc = model.history_['val_accuracy']\n",
    "\n",
    "plt.plot(epochs,train_loss,'g-');\n",
    "plt.plot(epochs,valid_loss,'r-');\n",
    "# plt.plot(epochs,valid_acc,'b-');\n",
    "# plt.plot(epochs,train_acc,'y-');\n",
    "plt.title('Training Loss Curves');\n",
    "plt.xlabel('Epochs');\n",
    "plt.ylabel('Cross entropy loss');\n",
    "plt.legend(['Train','Validation', \"Val Accuracy\", \"Train Accuracy\"]);\n",
    "# plt.savefig(\"plots/CBiGRU_MMove15_batch(%d)_%s_wd(%.3f)_exlrs(%.3f)_batch_norm(%r).png\" %(net_bz, net_opt, net_wd, net_lr, net_bn))\n",
    "# plt.savefig(\"plots/Kim_MMove15_batch(%d)_%s_lr(%.3f)_batch_norm(%r).png\" %(net_bz, net_opt, net_lr, net_bn))\n",
    "plt.show()"
   ]
  },
  {
   "cell_type": "markdown",
   "id": "41a0e8f8",
   "metadata": {},
   "source": [
    "### Hypothesis Test for Comparing SVM+TF-IDF and CNN+Glove"
   ]
  },
  {
   "cell_type": "code",
   "execution_count": 21,
   "id": "a161d6f4",
   "metadata": {},
   "outputs": [
    {
     "name": "stdout",
     "output_type": "stream",
     "text": [
      "P Value: 1.0\n",
      "Algorithms probably have the same performance\n"
     ]
    }
   ],
   "source": [
    "SVM_results = pd.read_csv(Path.joinpath(results_dir, \"SVM_TFIDF.csv\"))\n",
    "CNN_results = pd.read_csv(Path.joinpath(results_dir, \"Glove_Twitter_Embeddings_CNN.csv\"))\n",
    "\n",
    "ttest = stats.ttest_ind(SVM_results[\"Average Precision\"], CNN_results[\"Average Precision\"])\n",
    "\n",
    "print(\"P Value:\", ttest.pvalue)\n",
    "# interpret the result\n",
    "if ttest.pvalue <= 0.05:\n",
    "    print('Difference between mean performance is probably real')\n",
    "else:\n",
    "    print('Algorithms probably have the same performance')"
   ]
  },
  {
   "cell_type": "markdown",
   "id": "94981698",
   "metadata": {},
   "source": [
    "## CNN + Glove Common Crawl Word Embeddings"
   ]
  },
  {
   "cell_type": "markdown",
   "id": "3051851c",
   "metadata": {},
   "source": [
    "### Pipeline"
   ]
  },
  {
   "cell_type": "code",
   "execution_count": 36,
   "id": "83cad5f3",
   "metadata": {},
   "outputs": [
    {
     "data": {
      "text/plain": [
       "{'Preprocess': GloveTransform(),\n",
       " 'Tokenize': StanfordTokenizer(),\n",
       " 'W2V': GloveCommomCrawlEmbeddings(transformTo='concat'),\n",
       " 'Pad': Padding(),\n",
       " 'net': CNN_classifier(\n",
       " \tmodel=<function CNN_model at 0x7f24d12a9700>\n",
       " \tbuild_fn=None\n",
       " \twarm_start=False\n",
       " \trandom_state=42\n",
       " \toptimizer=<keras.optimizer_v2.adadelta.Adadelta object at 0x7f24d12cd5b0>\n",
       " \tloss=binary_crossentropy\n",
       " \tmetrics=['accuracy']\n",
       " \tbatch_size=50\n",
       " \tvalidation_batch_size=None\n",
       " \tverbose=1\n",
       " \tcallbacks=None\n",
       " \tvalidation_split=0.1\n",
       " \tshuffle=True\n",
       " \trun_eagerly=False\n",
       " \tepochs=40\n",
       " \tclass_weight=None\n",
       " )}"
      ]
     },
     "execution_count": 36,
     "metadata": {},
     "output_type": "execute_result"
    }
   ],
   "source": [
    "objs_CNN = [\n",
    "     (\"Preprocess\", GloveTransform()),\n",
    "        (\"Tokenize\", StanfordTokenizer()),\n",
    "        (\"W2V\", GloveCommomCrawlEmbeddings(transformTo=\"concat\")),\n",
    "        (\"Pad\", Padding()),\n",
    "        (\"net\", CNN_classifier())\n",
    "              ] \n",
    "pipe_CNN = Pipeline(objs_CNN)\n",
    "\n",
    "pipe_CNN.named_steps"
   ]
  },
  {
   "cell_type": "markdown",
   "id": "f1f7c941",
   "metadata": {},
   "source": [
    "### Cross validation"
   ]
  },
  {
   "cell_type": "code",
   "execution_count": 40,
   "id": "c67ae2ce",
   "metadata": {},
   "outputs": [],
   "source": [
    "cv = MultilabelStratifiedKFold(n_splits=10, shuffle=True, random_state=42)\n",
    "pipe_CNN.set_params(net__verbose=0)\n",
    "pipe_CNN.set_params(net__model__output_size=3)\n",
    "cv_results_CNN = cross_validate(pipe_CNN, \n",
    "                            x_train, \n",
    "                            y_train,\n",
    "                            cv=cv,\n",
    "                            n_jobs=-1,\n",
    "                            scoring=\"average_precision\")"
   ]
  },
  {
   "cell_type": "code",
   "execution_count": 41,
   "id": "4555d234",
   "metadata": {},
   "outputs": [
    {
     "name": "stdout",
     "output_type": "stream",
     "text": [
      "Average Precision: Mean-0.373, std-0.017\n"
     ]
    }
   ],
   "source": [
    "print(\"Average Precision: Mean-%.3f, std-%.3f\"%(np.mean(cv_results_CNN[\"test_score\"]), np.std(cv_results_CNN[\"test_score\"])))"
   ]
  },
  {
   "cell_type": "code",
   "execution_count": 17,
   "id": "32458b59",
   "metadata": {},
   "outputs": [],
   "source": [
    "results = pd.DataFrame(cv_results)[\"test_score\"]\n",
    "results.rename(\"Average Precision\", inplace=True)\n",
    "results.to_csv(Path.joinpath(results_dir, \"Glove_Common_Crawl_Embeddings_CNN.csv\"), index=False)"
   ]
  },
  {
   "cell_type": "markdown",
   "id": "62f6db4b",
   "metadata": {},
   "source": [
    "## CNN + Word2Vec Twitter Embeddings"
   ]
  },
  {
   "cell_type": "markdown",
   "id": "4954297e",
   "metadata": {},
   "source": [
    "### Pipeline"
   ]
  },
  {
   "cell_type": "code",
   "execution_count": 18,
   "id": "e1a20eec",
   "metadata": {},
   "outputs": [
    {
     "data": {
      "text/plain": [
       "{'Preprocess': GloveTransform(),\n",
       " 'Tokenize': StanfordTokenizer(),\n",
       " 'W2V': Word2VecTwitter(transformTo='concat'),\n",
       " 'Pad': Padding(),\n",
       " 'net': CNN_classifier(\n",
       " \tmodel=<function CNN_model at 0x7fba74ba1c10>\n",
       " \tbuild_fn=None\n",
       " \twarm_start=False\n",
       " \trandom_state=42\n",
       " \toptimizer=<keras.optimizer_v2.adadelta.Adadelta object at 0x7fba74bcb7c0>\n",
       " \tloss=binary_crossentropy\n",
       " \tmetrics=['accuracy']\n",
       " \tbatch_size=50\n",
       " \tvalidation_batch_size=None\n",
       " \tverbose=1\n",
       " \tcallbacks=None\n",
       " \tvalidation_split=0.1\n",
       " \tshuffle=True\n",
       " \trun_eagerly=False\n",
       " \tepochs=40\n",
       " \tclass_weight=None\n",
       " )}"
      ]
     },
     "execution_count": 18,
     "metadata": {},
     "output_type": "execute_result"
    }
   ],
   "source": [
    "objs_CNN = [\n",
    "     (\"Preprocess\", GloveTransform()),\n",
    "        (\"Tokenize\", StanfordTokenizer()),\n",
    "        (\"W2V\", Word2VecTwitter(transformTo=\"concat\")),\n",
    "        (\"Pad\", Padding()),\n",
    "        (\"net\", CNN_classifier())\n",
    "              ] \n",
    "pipe_CNN = Pipeline(objs_CNN)\n",
    "\n",
    "pipe_CNN.named_steps"
   ]
  },
  {
   "cell_type": "markdown",
   "id": "b8579482",
   "metadata": {},
   "source": [
    "### Cross validation"
   ]
  },
  {
   "cell_type": "code",
   "execution_count": 19,
   "id": "5383fb3b",
   "metadata": {},
   "outputs": [],
   "source": [
    "cv = MultilabelStratifiedKFold(n_splits=10, shuffle=True, random_state=42)\n",
    "pipe_CNN.set_params(net__verbose=0)\n",
    "pipe_CNN.set_params(net__model__output_size=3)\n",
    "cv_results_CNN = cross_validate(pipe_CNN, \n",
    "                            x_train, \n",
    "                            y_train,\n",
    "                            cv=cv,\n",
    "                            n_jobs=-1,\n",
    "                            scoring=\"average_precision\")"
   ]
  },
  {
   "cell_type": "code",
   "execution_count": 20,
   "id": "404e8f09",
   "metadata": {},
   "outputs": [
    {
     "name": "stdout",
     "output_type": "stream",
     "text": [
      "Average Precision: Mean-0.370, std-0.017\n"
     ]
    }
   ],
   "source": [
    "print(\"Average Precision: Mean-%.3f, std-%.3f\"%(np.mean(cv_results_CNN[\"test_score\"]), np.std(cv_results_CNN[\"test_score\"])))"
   ]
  },
  {
   "cell_type": "code",
   "execution_count": 21,
   "id": "a467d7b6",
   "metadata": {},
   "outputs": [],
   "source": [
    "results = pd.DataFrame(cv_results)[\"test_score\"]\n",
    "results.rename(\"Average Precision\", inplace=True)\n",
    "results.to_csv(Path.joinpath(results_dir, \"Word2Vec_Twitter_CNN.csv\"), index=False)"
   ]
  },
  {
   "cell_type": "markdown",
   "id": "30ca9d10",
   "metadata": {},
   "source": [
    "## CNN + FastText Twitter Embeddings"
   ]
  },
  {
   "cell_type": "markdown",
   "id": "87eb8f4f",
   "metadata": {},
   "source": [
    "### Pipeline"
   ]
  },
  {
   "cell_type": "code",
   "execution_count": 22,
   "id": "d14814f2",
   "metadata": {},
   "outputs": [
    {
     "data": {
      "text/plain": [
       "{'Preprocess': GloveTransform(),\n",
       " 'Tokenize': StanfordTokenizer(),\n",
       " 'Fasttext': FasttextTwitter(transformTo='concat'),\n",
       " 'Pad': Padding(),\n",
       " 'net': CNN_classifier(\n",
       " \tmodel=<function CNN_model at 0x7fba74ba1c10>\n",
       " \tbuild_fn=None\n",
       " \twarm_start=False\n",
       " \trandom_state=42\n",
       " \toptimizer=<keras.optimizer_v2.adadelta.Adadelta object at 0x7fba74bcb7c0>\n",
       " \tloss=binary_crossentropy\n",
       " \tmetrics=['accuracy']\n",
       " \tbatch_size=50\n",
       " \tvalidation_batch_size=None\n",
       " \tverbose=1\n",
       " \tcallbacks=None\n",
       " \tvalidation_split=0.1\n",
       " \tshuffle=True\n",
       " \trun_eagerly=False\n",
       " \tepochs=40\n",
       " \tclass_weight=None\n",
       " )}"
      ]
     },
     "execution_count": 22,
     "metadata": {},
     "output_type": "execute_result"
    }
   ],
   "source": [
    "objs_CNN = [\n",
    "     (\"Preprocess\", GloveTransform()),\n",
    "        (\"Tokenize\", StanfordTokenizer()),\n",
    "        (\"Fasttext\", FasttextTwitter(transformTo=\"concat\")),\n",
    "        (\"Pad\", Padding()),\n",
    "        (\"net\", CNN_classifier())\n",
    "              ] \n",
    "pipe_CNN = Pipeline(objs_CNN)\n",
    "\n",
    "pipe_CNN.named_steps"
   ]
  },
  {
   "cell_type": "markdown",
   "id": "1b7d9498",
   "metadata": {},
   "source": [
    "### Cross validation"
   ]
  },
  {
   "cell_type": "code",
   "execution_count": 23,
   "id": "02371e88",
   "metadata": {},
   "outputs": [
    {
     "name": "stderr",
     "output_type": "stream",
     "text": [
      "Warning : `load_model` does not return WordVectorModel or SupervisedModel any more, but a `FastText` object which is very similar.\n",
      "Warning : `load_model` does not return WordVectorModel or SupervisedModel any more, but a `FastText` object which is very similar.\n",
      "Warning : `load_model` does not return WordVectorModel or SupervisedModel any more, but a `FastText` object which is very similar.\n",
      "Warning : `load_model` does not return WordVectorModel or SupervisedModel any more, but a `FastText` object which is very similar.\n",
      "Warning : `load_model` does not return WordVectorModel or SupervisedModel any more, but a `FastText` object which is very similar.\n",
      "Warning : `load_model` does not return WordVectorModel or SupervisedModel any more, but a `FastText` object which is very similar.\n",
      "Warning : `load_model` does not return WordVectorModel or SupervisedModel any more, but a `FastText` object which is very similar.\n",
      "Warning : `load_model` does not return WordVectorModel or SupervisedModel any more, but a `FastText` object which is very similar.\n",
      "Warning : `load_model` does not return WordVectorModel or SupervisedModel any more, but a `FastText` object which is very similar.\n",
      "Warning : `load_model` does not return WordVectorModel or SupervisedModel any more, but a `FastText` object which is very similar.\n"
     ]
    }
   ],
   "source": [
    "cv = MultilabelStratifiedKFold(n_splits=10, shuffle=True, random_state=42)\n",
    "pipe_CNN.set_params(net__verbose=0)\n",
    "pipe_CNN.set_params(net__model__output_size=3)\n",
    "cv_results_CNN = cross_validate(pipe_CNN, \n",
    "                            x_train, \n",
    "                            y_train,\n",
    "                            cv=cv,\n",
    "                            n_jobs=2,\n",
    "                            scoring=\"average_precision\")"
   ]
  },
  {
   "cell_type": "code",
   "execution_count": 24,
   "id": "74a277ec",
   "metadata": {},
   "outputs": [
    {
     "name": "stdout",
     "output_type": "stream",
     "text": [
      "Average Precision: Mean-0.375, std-0.018\n"
     ]
    }
   ],
   "source": [
    "print(\"Average Precision: Mean-%.3f, std-%.3f\"%(np.mean(cv_results_CNN[\"test_score\"]), np.std(cv_results_CNN[\"test_score\"])))"
   ]
  },
  {
   "cell_type": "code",
   "execution_count": 25,
   "id": "ec8bd37c",
   "metadata": {},
   "outputs": [],
   "source": [
    "results = pd.DataFrame(cv_results)[\"test_score\"]\n",
    "results.rename(\"Average Precision\", inplace=True)\n",
    "results.to_csv(Path.joinpath(results_dir, \"FastText_Twitter_CNN.csv\"), index=False)"
   ]
  },
  {
   "cell_type": "markdown",
   "id": "58511f2d",
   "metadata": {},
   "source": [
    "## C-BiGRU + Glove Twitter Word Embeddings"
   ]
  },
  {
   "cell_type": "markdown",
   "id": "cd543f4f",
   "metadata": {},
   "source": [
    "### Pipeline"
   ]
  },
  {
   "cell_type": "code",
   "execution_count": 45,
   "id": "e01989fe",
   "metadata": {},
   "outputs": [
    {
     "data": {
      "text/plain": [
       "{'Tokenize': TweetTokenize(),\n",
       " 'W2V': GloveTwitterEmbeddings(transformTo='concat'),\n",
       " 'Pad': Padding(seq_length=150),\n",
       " 'net': CBiGRU_classifier(\n",
       " \tmodel=<function CBiGRU_model at 0x7fba74b53700>\n",
       " \tbuild_fn=None\n",
       " \twarm_start=False\n",
       " \trandom_state=42\n",
       " \toptimizer=adam\n",
       " \tloss=binary_crossentropy\n",
       " \tmetrics=['accuracy']\n",
       " \tbatch_size=32\n",
       " \tvalidation_batch_size=None\n",
       " \tverbose=1\n",
       " \tcallbacks=[<keras.callbacks.EarlyStopping object at 0x7fba74bcbaf0>]\n",
       " \tvalidation_split=0.1\n",
       " \tshuffle=True\n",
       " \trun_eagerly=False\n",
       " \tepochs=5\n",
       " \tclass_weight=None\n",
       " )}"
      ]
     },
     "execution_count": 45,
     "metadata": {},
     "output_type": "execute_result"
    }
   ],
   "source": [
    "objs_CBiGRU = [(\"Tokenize\", TweetTokenize()),\n",
    "        (\"W2V\", GloveTwitterEmbeddings(transformTo=\"concat\")),\n",
    "        (\"Pad\", Padding(seq_length=150)),\n",
    "        (\"net\", CBiGRU_classifier())\n",
    "              ] \n",
    "pipe_CBiGRU = Pipeline(objs_CBiGRU)\n",
    "\n",
    "pipe_CBiGRU.named_steps"
   ]
  },
  {
   "cell_type": "markdown",
   "id": "2661a294",
   "metadata": {},
   "source": [
    "### Cross validation"
   ]
  },
  {
   "cell_type": "code",
   "execution_count": 46,
   "id": "c4e1d161",
   "metadata": {},
   "outputs": [],
   "source": [
    "pipe_CBiGRU.set_params(net__verbose=0)\n",
    "pipe_CBiGRU.set_params(net__model__output_size=3)\n",
    "cv = MultilabelStratifiedKFold(n_splits=10, shuffle=True, random_state=42)\n",
    "cv_results_CBiGRU = cross_validate(pipe_CBiGRU,\n",
    "                                   x_train,\n",
    "                                   y_train,\n",
    "                                   cv=cv,\n",
    "                                   n_jobs = -1,\n",
    "                                   scoring=\"average_precision\")"
   ]
  },
  {
   "cell_type": "code",
   "execution_count": 47,
   "id": "f9a33a6c",
   "metadata": {},
   "outputs": [
    {
     "name": "stdout",
     "output_type": "stream",
     "text": [
      "Average Precision: Mean-0.377, std-0.013\n"
     ]
    }
   ],
   "source": [
    "print(\"Average Precision: Mean-%.3f, std-%.3f\"%(np.mean(cv_results_CBiGRU[\"test_score\"]), np.std(cv_results_CBiGRU[\"test_score\"])))"
   ]
  },
  {
   "cell_type": "code",
   "execution_count": 48,
   "id": "219fe9fc",
   "metadata": {},
   "outputs": [],
   "source": [
    "results = pd.DataFrame(cv_results_CBiGRU)[\"test_score\"]\n",
    "results.rename(\"Average Precision\", inplace=True)\n",
    "results.to_csv(Path.joinpath(results_dir, \"Glove_Twitter_Embeddings_CBiGRU.csv\"), index=False)"
   ]
  },
  {
   "cell_type": "markdown",
   "id": "55735a87",
   "metadata": {},
   "source": [
    "### Hypothesis Test for Comparing CNN+Glove and C-BiGRU+Glove"
   ]
  },
  {
   "cell_type": "code",
   "execution_count": 22,
   "id": "acf3f07d",
   "metadata": {},
   "outputs": [
    {
     "name": "stdout",
     "output_type": "stream",
     "text": [
      "Difference between mean performance is probably real\n"
     ]
    }
   ],
   "source": [
    "CNN_results = pd.read_csv(Path.joinpath(results_dir, \"Glove_Twitter_Embeddings_CNN.csv\"))\n",
    "CBiGRU_results = pd.read_csv(Path.joinpath(results_dir, \"Glove_Twitter_Embeddings_CBiGRU.csv\"))\n",
    "\n",
    "ttest = stats.ttest_ind(CBiGRU_results[\"Average Precision\"], CNN_results[\"Average Precision\"])\n",
    "\n",
    "# interpret the result\n",
    "if ttest.pvalue <= 0.05:\n",
    "    print('Difference between mean performance is probably real')\n",
    "else:\n",
    "    print('Algorithms probably have the same performance')"
   ]
  },
  {
   "cell_type": "markdown",
   "id": "41bbced9",
   "metadata": {},
   "source": [
    "## C-BiGRU + Glove Common Crawl Word Embeddings"
   ]
  },
  {
   "cell_type": "markdown",
   "id": "439d9b30",
   "metadata": {},
   "source": [
    "### Pipeline"
   ]
  },
  {
   "cell_type": "code",
   "execution_count": 30,
   "id": "f98e063d",
   "metadata": {},
   "outputs": [
    {
     "data": {
      "text/plain": [
       "{'Tokenize': TweetTokenize(),\n",
       " 'W2V': GloveCommomCrawlEmbeddings(transformTo='concat'),\n",
       " 'Pad': Padding(seq_length=150),\n",
       " 'net': CBiGRU_classifier(\n",
       " \tmodel=<function CBiGRU_model at 0x7fba74b53700>\n",
       " \tbuild_fn=None\n",
       " \twarm_start=False\n",
       " \trandom_state=42\n",
       " \toptimizer=adam\n",
       " \tloss=binary_crossentropy\n",
       " \tmetrics=['accuracy']\n",
       " \tbatch_size=32\n",
       " \tvalidation_batch_size=None\n",
       " \tverbose=1\n",
       " \tcallbacks=[<keras.callbacks.EarlyStopping object at 0x7fba74bcbaf0>]\n",
       " \tvalidation_split=0.1\n",
       " \tshuffle=True\n",
       " \trun_eagerly=False\n",
       " \tepochs=5\n",
       " \tclass_weight=None\n",
       " )}"
      ]
     },
     "execution_count": 30,
     "metadata": {},
     "output_type": "execute_result"
    }
   ],
   "source": [
    "objs_CBiGRU = [(\"Tokenize\", TweetTokenize()),\n",
    "        (\"W2V\", GloveCommomCrawlEmbeddings(transformTo=\"concat\")),\n",
    "        (\"Pad\", Padding(seq_length=150)),\n",
    "        (\"net\", CBiGRU_classifier())\n",
    "              ] \n",
    "pipe_CBiGRU = Pipeline(objs_CBiGRU)\n",
    "\n",
    "pipe_CBiGRU.named_steps"
   ]
  },
  {
   "cell_type": "markdown",
   "id": "e3aee647",
   "metadata": {},
   "source": [
    "### Cross validation"
   ]
  },
  {
   "cell_type": "code",
   "execution_count": 31,
   "id": "a454e82a",
   "metadata": {},
   "outputs": [],
   "source": [
    "pipe_CBiGRU.set_params(net__verbose=0)\n",
    "pipe_CBiGRU.set_params(net__model__output_size=3)\n",
    "cv = MultilabelStratifiedKFold(n_splits=10, shuffle=True, random_state=42)\n",
    "cv_results_CBiGRU = cross_validate(pipe_CBiGRU,\n",
    "                                   x_train,\n",
    "                                   y_train,\n",
    "                                   cv=cv,\n",
    "                                   n_jobs = -1,\n",
    "                                   scoring=\"average_precision\")"
   ]
  },
  {
   "cell_type": "code",
   "execution_count": 32,
   "id": "612ad23b",
   "metadata": {},
   "outputs": [
    {
     "name": "stdout",
     "output_type": "stream",
     "text": [
      "Average Precision: Mean-0.383, std-0.021\n"
     ]
    }
   ],
   "source": [
    "print(\"Average Precision: Mean-%.3f, std-%.3f\"%(np.mean(cv_results_CBiGRU[\"test_score\"]), np.std(cv_results_CBiGRU[\"test_score\"])))"
   ]
  },
  {
   "cell_type": "code",
   "execution_count": 33,
   "id": "386bdb71",
   "metadata": {},
   "outputs": [],
   "source": [
    "results = pd.DataFrame(cv_results_CBiGRU)[\"test_score\"]\n",
    "results.rename(\"Average Precision\", inplace=True)\n",
    "results.to_csv(Path.joinpath(results_dir, \"Glove_Common_Crawl_Embeddings_CBiGRU.csv\"), index=False)"
   ]
  },
  {
   "cell_type": "markdown",
   "id": "b0e7a2d0",
   "metadata": {},
   "source": [
    "## C-BiGRU + Word2Vec Twitter Embeddings"
   ]
  },
  {
   "cell_type": "markdown",
   "id": "e5bdcba0",
   "metadata": {},
   "source": [
    "### Pipeline"
   ]
  },
  {
   "cell_type": "code",
   "execution_count": 34,
   "id": "c27db34b",
   "metadata": {},
   "outputs": [
    {
     "data": {
      "text/plain": [
       "{'Tokenize': TweetTokenize(),\n",
       " 'W2V': Word2VecTwitter(transformTo='concat'),\n",
       " 'Pad': Padding(seq_length=150),\n",
       " 'net': CBiGRU_classifier(\n",
       " \tmodel=<function CBiGRU_model at 0x7fba74b53700>\n",
       " \tbuild_fn=None\n",
       " \twarm_start=False\n",
       " \trandom_state=42\n",
       " \toptimizer=adam\n",
       " \tloss=binary_crossentropy\n",
       " \tmetrics=['accuracy']\n",
       " \tbatch_size=32\n",
       " \tvalidation_batch_size=None\n",
       " \tverbose=1\n",
       " \tcallbacks=[<keras.callbacks.EarlyStopping object at 0x7fba74bcbaf0>]\n",
       " \tvalidation_split=0.1\n",
       " \tshuffle=True\n",
       " \trun_eagerly=False\n",
       " \tepochs=5\n",
       " \tclass_weight=None\n",
       " )}"
      ]
     },
     "execution_count": 34,
     "metadata": {},
     "output_type": "execute_result"
    }
   ],
   "source": [
    "objs_CBiGRU = [(\"Tokenize\", TweetTokenize()),\n",
    "        (\"W2V\", Word2VecTwitter(transformTo=\"concat\")),\n",
    "        (\"Pad\", Padding(seq_length=150)),\n",
    "        (\"net\", CBiGRU_classifier())\n",
    "              ] \n",
    "pipe_CBiGRU = Pipeline(objs_CBiGRU)\n",
    "\n",
    "pipe_CBiGRU.named_steps"
   ]
  },
  {
   "cell_type": "markdown",
   "id": "90ba7eae",
   "metadata": {},
   "source": [
    "### Cross validation"
   ]
  },
  {
   "cell_type": "code",
   "execution_count": 35,
   "id": "91e9b724",
   "metadata": {},
   "outputs": [],
   "source": [
    "pipe_CBiGRU.set_params(net__verbose=0)\n",
    "pipe_CBiGRU.set_params(net__model__output_size=3)\n",
    "cv = MultilabelStratifiedKFold(n_splits=10, shuffle=True, random_state=42)\n",
    "cv_results_CBiGRU = cross_validate(pipe_CBiGRU,\n",
    "                                   x_train,\n",
    "                                   y_train,\n",
    "                                   cv=cv,\n",
    "                                   n_jobs = -1,\n",
    "                                   scoring=\"average_precision\")"
   ]
  },
  {
   "cell_type": "code",
   "execution_count": 36,
   "id": "b5583326",
   "metadata": {},
   "outputs": [
    {
     "name": "stdout",
     "output_type": "stream",
     "text": [
      "Average Precision: Mean-0.384, std-0.020\n"
     ]
    }
   ],
   "source": [
    "print(\"Average Precision: Mean-%.3f, std-%.3f\"%(np.mean(cv_results_CBiGRU[\"test_score\"]), np.std(cv_results_CBiGRU[\"test_score\"])))"
   ]
  },
  {
   "cell_type": "code",
   "execution_count": 37,
   "id": "86c1ee3c",
   "metadata": {},
   "outputs": [],
   "source": [
    "results = pd.DataFrame(cv_results_CBiGRU)[\"test_score\"]\n",
    "results.rename(\"Average Precision\", inplace=True)\n",
    "results.to_csv(Path.joinpath(results_dir, \"Word2Vec_Twitter_CBiGRU.csv\"), index=False)"
   ]
  },
  {
   "cell_type": "markdown",
   "id": "4d641684",
   "metadata": {},
   "source": [
    "## C-BiGRU + FastText Twitter Embeddings"
   ]
  },
  {
   "cell_type": "markdown",
   "id": "466a8c20",
   "metadata": {},
   "source": [
    "### Pipeline"
   ]
  },
  {
   "cell_type": "code",
   "execution_count": 38,
   "id": "d696c339",
   "metadata": {},
   "outputs": [
    {
     "data": {
      "text/plain": [
       "{'Tokenize': TweetTokenize(),\n",
       " 'W2V': FasttextTwitter(transformTo='concat'),\n",
       " 'Pad': Padding(seq_length=150),\n",
       " 'net': CBiGRU_classifier(\n",
       " \tmodel=<function CBiGRU_model at 0x7fba74b53700>\n",
       " \tbuild_fn=None\n",
       " \twarm_start=False\n",
       " \trandom_state=42\n",
       " \toptimizer=adam\n",
       " \tloss=binary_crossentropy\n",
       " \tmetrics=['accuracy']\n",
       " \tbatch_size=32\n",
       " \tvalidation_batch_size=None\n",
       " \tverbose=1\n",
       " \tcallbacks=[<keras.callbacks.EarlyStopping object at 0x7fba74bcbaf0>]\n",
       " \tvalidation_split=0.1\n",
       " \tshuffle=True\n",
       " \trun_eagerly=False\n",
       " \tepochs=5\n",
       " \tclass_weight=None\n",
       " )}"
      ]
     },
     "execution_count": 38,
     "metadata": {},
     "output_type": "execute_result"
    }
   ],
   "source": [
    "objs_CBiGRU = [(\"Tokenize\", TweetTokenize()),\n",
    "        (\"W2V\", FasttextTwitter(transformTo=\"concat\")),\n",
    "        (\"Pad\", Padding(seq_length=150)),\n",
    "        (\"net\", CBiGRU_classifier())\n",
    "              ] \n",
    "pipe_CBiGRU = Pipeline(objs_CBiGRU)\n",
    "\n",
    "pipe_CBiGRU.named_steps"
   ]
  },
  {
   "cell_type": "markdown",
   "id": "1f29e18f",
   "metadata": {},
   "source": [
    "### Cross validation"
   ]
  },
  {
   "cell_type": "code",
   "execution_count": 39,
   "id": "f0cdb570",
   "metadata": {},
   "outputs": [
    {
     "name": "stderr",
     "output_type": "stream",
     "text": [
      "Warning : `load_model` does not return WordVectorModel or SupervisedModel any more, but a `FastText` object which is very similar.\n",
      "Warning : `load_model` does not return WordVectorModel or SupervisedModel any more, but a `FastText` object which is very similar.\n",
      "Warning : `load_model` does not return WordVectorModel or SupervisedModel any more, but a `FastText` object which is very similar.\n",
      "Warning : `load_model` does not return WordVectorModel or SupervisedModel any more, but a `FastText` object which is very similar.\n",
      "Warning : `load_model` does not return WordVectorModel or SupervisedModel any more, but a `FastText` object which is very similar.\n",
      "Warning : `load_model` does not return WordVectorModel or SupervisedModel any more, but a `FastText` object which is very similar.\n",
      "Warning : `load_model` does not return WordVectorModel or SupervisedModel any more, but a `FastText` object which is very similar.\n",
      "Warning : `load_model` does not return WordVectorModel or SupervisedModel any more, but a `FastText` object which is very similar.\n",
      "Warning : `load_model` does not return WordVectorModel or SupervisedModel any more, but a `FastText` object which is very similar.\n",
      "Warning : `load_model` does not return WordVectorModel or SupervisedModel any more, but a `FastText` object which is very similar.\n"
     ]
    }
   ],
   "source": [
    "pipe_CBiGRU.set_params(net__verbose=0)\n",
    "pipe_CBiGRU.set_params(net__model__output_size=3)\n",
    "cv = MultilabelStratifiedKFold(n_splits=10, shuffle=True, random_state=42)\n",
    "cv_results_CBiGRU = cross_validate(pipe_CBiGRU,\n",
    "                                   x_train,\n",
    "                                   y_train,\n",
    "                                   cv=cv,\n",
    "                                   scoring=\"average_precision\")"
   ]
  },
  {
   "cell_type": "code",
   "execution_count": 40,
   "id": "0633aaab",
   "metadata": {},
   "outputs": [
    {
     "name": "stdout",
     "output_type": "stream",
     "text": [
      "Average Precision: Mean-0.382, std-0.020\n"
     ]
    }
   ],
   "source": [
    "print(\"Average Precision: Mean-%.3f, std-%.3f\"%(np.mean(cv_results_CBiGRU[\"test_score\"]), np.std(cv_results_CBiGRU[\"test_score\"])))"
   ]
  },
  {
   "cell_type": "code",
   "execution_count": 41,
   "id": "c84db2a6",
   "metadata": {},
   "outputs": [],
   "source": [
    "results = pd.DataFrame(cv_results_CBiGRU)[\"test_score\"]\n",
    "results.rename(\"Average Precision\", inplace=True)\n",
    "results.to_csv(Path.joinpath(results_dir, \"FastText_Twitter_CBiGRU.csv\"), index=False)"
   ]
  },
  {
   "cell_type": "markdown",
   "id": "8704b6d0",
   "metadata": {},
   "source": [
    "# Hypothesis Test"
   ]
  },
  {
   "cell_type": "code",
   "execution_count": 5,
   "id": "b20fb2c1",
   "metadata": {},
   "outputs": [
    {
     "name": "stdout",
     "output_type": "stream",
     "text": [
      "Glove_Common_Crawl_Embeddings_CNN\n",
      "P Value: 0.675870016013101\n",
      "Algorithms probably have the same performance\n",
      "------------------------------------------------------\n",
      "Word2Vec_Twitter_CNN\n",
      "P Value: 0.675870016013101\n",
      "Algorithms probably have the same performance\n",
      "------------------------------------------------------\n",
      "Glove_Twitter_Embeddings_CNN\n",
      "P Value: 0.990108183664404\n",
      "Algorithms probably have the same performance\n",
      "------------------------------------------------------\n",
      "Glove_Twitter_Embeddings_CBiGRU\n",
      "P Value: 0.020235683790875352\n",
      "Difference between mean performance is probably real\n",
      "------------------------------------------------------\n",
      "Word2Vec_Twitter_CBiGRU\n",
      "P Value: 0.10265337741949179\n",
      "Difference between mean performance is probably real\n",
      "------------------------------------------------------\n",
      "Glove_Common_Crawl_Embeddings_CBiGRU\n",
      "P Value: 0.09232476571358268\n",
      "Difference between mean performance is probably real\n",
      "------------------------------------------------------\n",
      "FastText_Twitter_CNN\n",
      "P Value: 0.675870016013101\n",
      "Algorithms probably have the same performance\n",
      "------------------------------------------------------\n",
      "FastText_Twitter_CBiGRU\n",
      "P Value: 0.08108894200403122\n",
      "Difference between mean performance is probably real\n",
      "------------------------------------------------------\n"
     ]
    }
   ],
   "source": [
    "SVM_results = pd.read_csv(Path.joinpath(results_dir, \"SVM_TFIDF.csv\"))\n",
    "\n",
    "for i, file in enumerate(os.listdir(results_dir)):\n",
    "    if \"SVM\" not in file:\n",
    "        other_results = pd.read_csv(Path.joinpath(results_dir, file))\n",
    "        print(file.replace(\".csv\",\"\"))\n",
    "\n",
    "        ttest = stats.ttest_ind(SVM_results[\"Average Precision\"], other_results[\"Average Precision\"])\n",
    "        print(\"P Value:\", ttest.pvalue)\n",
    "\n",
    "        # interpret the result\n",
    "        if round(ttest.pvalue, 2) <= 0.1:\n",
    "            print('Difference between mean performance is probably real')\n",
    "        else:\n",
    "            print('Algorithms probably have the same performance')\n",
    "        print(\"------------------------------------------------------\")"
   ]
  },
  {
   "cell_type": "markdown",
   "id": "4500571a",
   "metadata": {},
   "source": [
    "# Plots"
   ]
  },
  {
   "cell_type": "code",
   "execution_count": 6,
   "id": "ccf0fc37",
   "metadata": {},
   "outputs": [],
   "source": [
    "data = pd.DataFrame(columns=[\"x_axis\",\"Average Precision\", \"Experiments\", \"Model\"])\n",
    "for i, file in enumerate(os.listdir(results_dir)):\n",
    "        data_sample = pd.read_csv(Path.joinpath(results_dir, file))\n",
    "        if \"CNN\" in file:\n",
    "            data_sample[\"Model\"] = \"CNN\"\n",
    "            file = file.replace(\"CNN\", \"\")\n",
    "        elif \"CBiGRU\" in file:\n",
    "            data_sample[\"Model\"] = \"C-BiGRU\"\n",
    "            file = file.replace(\"CBiGRU\", \"\")\n",
    "        else: data_sample[\"Model\"] = \"SVM\"\n",
    "        data_sample[\"Experiments\"] = file.replace(\"_\", \"\\n\").replace(\".csv\",\"\")\n",
    "        data_sample[\"x_axis\"]=i\n",
    "        data = pd.concat([data, data_sample[[\"x_axis\",\"Average Precision\", \"Experiments\", \"Model\"]]])\n",
    "        \n",
    "data = data.astype({\"Experiments\":\"category\", \"Model\":\"category\", \"x_axis\": \"category\", \"Average Precision\":\"float64\"})"
   ]
  },
  {
   "cell_type": "code",
   "execution_count": 7,
   "id": "4064d72d",
   "metadata": {},
   "outputs": [],
   "source": [
    "grp = data.groupby(['Model', 'Experiments'])['Average Precision'].mean().sort_values().iloc[::-1]\n",
    "grp_index = grp[~grp.isna()].index \n",
    "seen = set()\n",
    "seen_add = seen.add\n",
    "order = [x[1] for x in grp_index if not (x[1] in seen or seen_add(x[1]))][::-1]"
   ]
  },
  {
   "cell_type": "code",
   "execution_count": 11,
   "id": "4ca5b9b1",
   "metadata": {},
   "outputs": [
    {
     "data": {
      "image/png": "[encoded data removed]",
      "text/plain": [
       "<Figure size 437.875x360 with 1 Axes>"
      ]
     },
     "metadata": {},
     "output_type": "display_data"
    }
   ],
   "source": [
    "sns.set_style(\"darkgrid\")\n",
    " \n",
    "g = sns.catplot(x=\"Experiments\", y=\"Average Precision\",\n",
    "               data=data, kind=\"violin\", hue=\"Model\", order=order)\n",
    "\n",
    "for ax in g.axes.flat:\n",
    "    ax.get_xaxis().set_minor_locator(AutoMinorLocator())\n",
    "    ax.get_yaxis().set_minor_locator(AutoMinorLocator())\n",
    "    ax.grid(visible=True, which='major', color='w', linewidth=1.0)\n",
    "    ax.grid(visible=True, which='minor', color='w', linewidth=0.5)\n",
    "xlabel('Dataset', fontsize=12, fontweight='bold')\n",
    "ylabel('Average Precision', fontsize=12, fontweight='bold')\n",
    "plt.savefig(Path.joinpath(results_plot, \"MMoveT15+.pdf\"))\n",
    "plt.show()"
   ]
  },
  {
   "cell_type": "code",
   "execution_count": null,
   "id": "fa3837fe",
   "metadata": {},
   "outputs": [],
   "source": []
  }
 ],
 "metadata": {
  "kernelspec": {
   "display_name": "Python 3 (ipykernel)",
   "language": "python",
   "name": "python3"
  },
  "language_info": {
   "codemirror_mode": {
    "name": "ipython",
    "version": 3
   },
   "file_extension": ".py",
   "mimetype": "text/x-python",
   "name": "python",
   "nbconvert_exporter": "python",
   "pygments_lexer": "ipython3",
   "version": "3.9.12"
  },
  "toc": {
   "base_numbering": 1,
   "nav_menu": {},
   "number_sections": true,
   "sideBar": true,
   "skip_h1_title": false,
   "title_cell": "Table of Contents",
   "title_sidebar": "Contents",
   "toc_cell": false,
   "toc_position": {},
   "toc_section_display": true,
   "toc_window_display": true
  }
 },
 "nbformat": 4,
 "nbformat_minor": 5
}
