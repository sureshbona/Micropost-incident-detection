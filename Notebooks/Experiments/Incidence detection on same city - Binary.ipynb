{
 "cells": [
  {
   "cell_type": "markdown",
   "id": "dd120ede",
   "metadata": {},
   "source": [
    "# Imports"
   ]
  },
  {
   "cell_type": "markdown",
   "id": "5a4119c2",
   "metadata": {},
   "source": [
    "## Packages"
   ]
  },
  {
   "cell_type": "code",
   "execution_count": 1,
   "id": "75601799",
   "metadata": {},
   "outputs": [],
   "source": [
    "import os\n",
    "import pandas as pd\n",
    "import numpy as np\n",
    "import random\n",
    "import importlib\n",
    "from pathlib import Path\n",
    "from sklearn.model_selection import StratifiedKFold, LeavePGroupsOut, GridSearchCV, cross_validate\n",
    "from sklearn.pipeline import Pipeline\n",
    "from sklearn.preprocessing import LabelEncoder\n",
    "from sklearn.utils.class_weight import compute_class_weight\n",
    "from sklearn.feature_extraction.text import TfidfVectorizer\n",
    "from sklearn.svm import SVC\n",
    "import matplotlib.pyplot as plt\n",
    "from matplotlib.ticker import AutoMinorLocator\n",
    "from pylab import *\n",
    "import seaborn as sns\n",
    "import tensorflow as tf\n",
    "from scipy import stats\n",
    "from mlxtend.evaluate import paired_ttest_5x2cv\n",
    "\n",
    "pd.set_option(\"display.max_rows\", None, \"display.max_columns\", None)\n",
    "plt.rcParams['figure.facecolor']='white'\n",
    "os.environ['TF_CPP_MIN_LOG_LEVEL'] = '3'"
   ]
  },
  {
   "cell_type": "markdown",
   "id": "bca1c0a2",
   "metadata": {},
   "source": [
    "## Helpers"
   ]
  },
  {
   "cell_type": "code",
   "execution_count": 2,
   "id": "f31518e4",
   "metadata": {},
   "outputs": [
    {
     "name": "stderr",
     "output_type": "stream",
     "text": [
      "/root/anaconda3/envs/py39/lib/python3.9/site-packages/tqdm/auto.py:22: TqdmWarning: IProgress not found. Please update jupyter and ipywidgets. See https://ipywidgets.readthedocs.io/en/stable/user_install.html\n",
      "  from .autonotebook import tqdm as notebook_tqdm\n"
     ]
    }
   ],
   "source": [
    "import sys\n",
    "sys.path.append(\"../\")\n",
    "\n",
    "# Custom Cross Validation for samecity\n",
    "import Helpers.Each_city_10fold_CV\n",
    "importlib.reload(Helpers.Each_city_10fold_CV)\n",
    "from Helpers.Each_city_10fold_CV import CustomCrossValidation\n",
    "\n",
    "# glove preprocessings\n",
    "import Helpers.Glove_transform\n",
    "importlib.reload(Helpers.Glove_transform)\n",
    "from Helpers.Glove_transform import GloveTransform\n",
    "\n",
    "# Stanford tokenizer\n",
    "import Helpers.Stanford_Tokenizer\n",
    "importlib.reload(Helpers.Stanford_Tokenizer)\n",
    "from Helpers.Stanford_Tokenizer import StanfordTokenizer\n",
    "\n",
    "# Tweet tokenizer(from C-BiGRU paper)\n",
    "import Helpers.Tweet_Tokenizer\n",
    "importlib.reload(Helpers.Tweet_Tokenizer)\n",
    "from Helpers.Tweet_Tokenizer import TweetTokenize\n",
    "\n",
    "# glove embeddings\n",
    "import Helpers.Glove_twitter_embeddings\n",
    "importlib.reload(Helpers.Glove_twitter_embeddings)\n",
    "from Helpers.Glove_twitter_embeddings import GloveTwitterEmbeddings\n",
    "\n",
    "# glove common crawl\n",
    "import Helpers.Glove_CommonCrawl_embeddings\n",
    "importlib.reload(Helpers.Glove_CommonCrawl_embeddings)\n",
    "from Helpers.Glove_CommonCrawl_embeddings import GloveCommomCrawlEmbeddings\n",
    "\n",
    "# Word embedding(from C-BiGRU paper)\n",
    "import Helpers.Word2Vec_Twitter\n",
    "importlib.reload(Helpers.Word2Vec_Twitter)\n",
    "from Helpers.Word2Vec_Twitter import Word2VecTwitter\n",
    "\n",
    "# Fasttext embedding\n",
    "import Helpers.Fasttext_Twitter\n",
    "importlib.reload(Helpers.Fasttext_Twitter)\n",
    "from Helpers.Fasttext_Twitter import FasttextTwitter\n",
    "\n",
    "# Padding\n",
    "import Helpers.Padding\n",
    "importlib.reload(Helpers.Padding)\n",
    "from Helpers.Padding import Padding\n",
    "\n",
    "# Kears sklearn CNN classifier\n",
    "import Helpers.CNN_SciKeras_Classifier\n",
    "importlib.reload(Helpers.CNN_SciKeras_Classifier)\n",
    "from Helpers.CNN_SciKeras_Classifier import CNN_classifier\n",
    "\n",
    "# Kears sklearn CBiGRU classifier\n",
    "import Helpers.CBiGRU_SciKeras_Classifier\n",
    "importlib.reload(Helpers.CBiGRU_SciKeras_Classifier)\n",
    "from Helpers.CBiGRU_SciKeras_Classifier import CBiGRU_classifier"
   ]
  },
  {
   "cell_type": "markdown",
   "id": "dfde4f04",
   "metadata": {},
   "source": [
    "# Directory to store results"
   ]
  },
  {
   "cell_type": "code",
   "execution_count": 3,
   "id": "9cc2c4de",
   "metadata": {},
   "outputs": [],
   "source": [
    "results_dir = Path('../../results/idsc_binary')\n",
    "results_dir.mkdir(parents=True, exist_ok=True)\n",
    "\n",
    "results_plot = Path('../../results/plots')\n",
    "results_plot.mkdir(parents=True, exist_ok=True)"
   ]
  },
  {
   "cell_type": "markdown",
   "id": "fbc867ee",
   "metadata": {},
   "source": [
    "# Dataset"
   ]
  },
  {
   "cell_type": "code",
   "execution_count": 3,
   "id": "c85dd213",
   "metadata": {},
   "outputs": [],
   "source": [
    "TwoCVTweets = \"../../Datasets/Incident-Related-Twitters/2CVTweets/\"\n",
    "\n",
    "data = pd.DataFrame(columns=[\"text\", \"label\", \"groups\"])\n",
    "\n",
    "for i, data_file in enumerate(os.listdir(TwoCVTweets)):\n",
    "    data_sample = pd.read_csv(TwoCVTweets + data_file, delimiter=\";\", names=[\"text\", \"label\"], encoding=\"ISO-8859-1\")\n",
    "    data_sample[\"groups\"] = i\n",
    "    data_sample.label = data_sample.label.map(dict(YES=1, NO=0))\n",
    "    data = pd.concat([data, data_sample])\n",
    "\n",
    "# data.label = data.label.astype(\"int\")\n",
    "\n",
    "x_train, y_train = data.text, data.label\n",
    "groups = data.groups"
   ]
  },
  {
   "cell_type": "code",
   "execution_count": 4,
   "id": "08ebc67d",
   "metadata": {},
   "outputs": [],
   "source": [
    "# label encoder\n",
    "le = LabelEncoder()\n",
    "y_train = le.fit_transform(y_train.values)"
   ]
  },
  {
   "cell_type": "markdown",
   "id": "f0341489",
   "metadata": {},
   "source": [
    "## Class weights"
   ]
  },
  {
   "cell_type": "code",
   "execution_count": 5,
   "id": "97157a24",
   "metadata": {},
   "outputs": [
    {
     "data": {
      "text/plain": [
       "{0: 0.645151903154464, 1: 2.2223336006415395}"
      ]
     },
     "execution_count": 5,
     "metadata": {},
     "output_type": "execute_result"
    }
   ],
   "source": [
    "class_weights = compute_class_weight(\n",
    "                                        class_weight = \"balanced\",\n",
    "                                        classes = np.unique(y_train),\n",
    "                                        y = y_train      \n",
    "                                    )\n",
    "\n",
    "class_weights = dict(enumerate(class_weights))\n",
    "class_weights"
   ]
  },
  {
   "cell_type": "markdown",
   "id": "d1a5165e",
   "metadata": {},
   "source": [
    "# Experiments"
   ]
  },
  {
   "cell_type": "markdown",
   "id": "e685d086",
   "metadata": {},
   "source": [
    "## SVM + TF-IDF"
   ]
  },
  {
   "cell_type": "markdown",
   "id": "4a15063f",
   "metadata": {},
   "source": [
    "### Pipeline"
   ]
  },
  {
   "cell_type": "code",
   "execution_count": 7,
   "id": "e9a35755",
   "metadata": {},
   "outputs": [
    {
     "data": {
      "text/plain": [
       "{'tfidf': TfidfVectorizer(), 'svm': SVC(kernel='linear')}"
      ]
     },
     "execution_count": 7,
     "metadata": {},
     "output_type": "execute_result"
    }
   ],
   "source": [
    "# Define component objects of our pipeline then create it!\n",
    "objs = [(\"tfidf\", TfidfVectorizer()),\n",
    "        (\"svm\", SVC(kernel=\"linear\"))]\n",
    "pipe = Pipeline(objs)\n",
    "pipe.named_steps"
   ]
  },
  {
   "cell_type": "markdown",
   "id": "c605dcb5",
   "metadata": {},
   "source": [
    "### Cross validation"
   ]
  },
  {
   "cell_type": "code",
   "execution_count": 8,
   "id": "aa250eb6",
   "metadata": {},
   "outputs": [],
   "source": [
    "cv = CustomCrossValidation.split(X=x_train, y=y_train, groups=groups)\n",
    "pipe.set_params(svm__C=1.0)\n",
    "pipe.set_params(tfidf__ngram_range=(1, 2))\n",
    "cv_results = cross_validate(pipe, \n",
    "                                x_train, y_train,\n",
    "                                groups=groups,\n",
    "                                cv=cv, \n",
    "                                n_jobs = -1,\n",
    "                                scoring=[\"average_precision\", \"f1_macro\"])"
   ]
  },
  {
   "cell_type": "code",
   "execution_count": 9,
   "id": "730c97c7",
   "metadata": {},
   "outputs": [
    {
     "name": "stdout",
     "output_type": "stream",
     "text": [
      "F1_Macro: Mean-0.897, std-0.026\n",
      "Average Precision: Mean-0.913, std-0.032\n"
     ]
    }
   ],
   "source": [
    "print(\"F1_Macro: Mean-%.3f, std-%.3f\"%(np.mean(cv_results[\"test_f1_macro\"]), np.std(cv_results[\"test_f1_macro\"])))\n",
    "print(\"Average Precision: Mean-%.3f, std-%.3f\"%(np.mean(cv_results[\"test_average_precision\"]), np.std(cv_results[\"test_average_precision\"])))"
   ]
  },
  {
   "cell_type": "code",
   "execution_count": 10,
   "id": "fca7157d",
   "metadata": {},
   "outputs": [],
   "source": [
    "results = pd.DataFrame(cv_results)[[\"test_average_precision\", \"test_f1_macro\"]]\n",
    "results.rename(columns={\"test_average_precision\": \"Average Precision\", \"test_f1_macro\": \"F1 Macro\"}, inplace=True)\n",
    "results.to_csv(Path.joinpath(results_dir, \"SVM_TFIDF.csv\"), index=False)"
   ]
  },
  {
   "cell_type": "markdown",
   "id": "9ec2b0cb",
   "metadata": {},
   "source": [
    "## CNN + Glove Twitter Word Embeddings"
   ]
  },
  {
   "cell_type": "markdown",
   "id": "41023cf4",
   "metadata": {},
   "source": [
    "### Pipeline"
   ]
  },
  {
   "cell_type": "code",
   "execution_count": 11,
   "id": "9b9b034e",
   "metadata": {},
   "outputs": [
    {
     "data": {
      "text/plain": [
       "{'Preprocess': GloveTransform(),\n",
       " 'Tokenize': StanfordTokenizer(),\n",
       " 'W2V': GloveTwitterEmbeddings(transformTo='concat'),\n",
       " 'Pad': Padding(),\n",
       " 'net': CNN_classifier(\n",
       " \tmodel=<function CNN_model at 0x7f31c85c80d0>\n",
       " \tbuild_fn=None\n",
       " \twarm_start=False\n",
       " \trandom_state=42\n",
       " \toptimizer=<keras.optimizer_v2.adadelta.Adadelta object at 0x7f31c85e25e0>\n",
       " \tloss=binary_crossentropy\n",
       " \tmetrics=['accuracy']\n",
       " \tbatch_size=50\n",
       " \tvalidation_batch_size=None\n",
       " \tverbose=1\n",
       " \tcallbacks=None\n",
       " \tvalidation_split=0.1\n",
       " \tshuffle=True\n",
       " \trun_eagerly=False\n",
       " \tepochs=40\n",
       " \tclass_weight=None\n",
       " )}"
      ]
     },
     "execution_count": 11,
     "metadata": {},
     "output_type": "execute_result"
    }
   ],
   "source": [
    "objs_CNN = [\n",
    "     (\"Preprocess\", GloveTransform()),\n",
    "        (\"Tokenize\", StanfordTokenizer()),\n",
    "        (\"W2V\", GloveTwitterEmbeddings(transformTo=\"concat\")),\n",
    "        (\"Pad\", Padding()),\n",
    "        (\"net\", CNN_classifier())\n",
    "              ] \n",
    "pipe_CNN = Pipeline(objs_CNN)\n",
    "\n",
    "pipe_CNN.named_steps"
   ]
  },
  {
   "cell_type": "markdown",
   "id": "a2dcb3d1",
   "metadata": {},
   "source": [
    "### Cross validation"
   ]
  },
  {
   "cell_type": "code",
   "execution_count": 12,
   "id": "be96a86e",
   "metadata": {},
   "outputs": [],
   "source": [
    "pipe_CNN.set_params(net__verbose=0)\n",
    "cv = CustomCrossValidation.split(X=x_train, y=y_train, groups=groups)\n",
    "\n",
    "cv_results_CNN = cross_validate(pipe_CNN, \n",
    "                                x_train, y_train,\n",
    "                                groups = groups,\n",
    "                                cv=cv, \n",
    "                                n_jobs = -1,\n",
    "                                scoring=[\"average_precision\", \"f1_macro\"])"
   ]
  },
  {
   "cell_type": "code",
   "execution_count": 13,
   "id": "b277a181",
   "metadata": {},
   "outputs": [
    {
     "name": "stdout",
     "output_type": "stream",
     "text": [
      "F1_Macro: Mean-0.895, std-0.025\n",
      "Average Precision: Mean-0.914, std-0.033\n"
     ]
    }
   ],
   "source": [
    "print(\"F1_Macro: Mean-%.3f, std-%.3f\"%(np.mean(cv_results_CNN[\"test_f1_macro\"]), np.std(cv_results_CNN[\"test_f1_macro\"])))\n",
    "print(\"Average Precision: Mean-%.3f, std-%.3f\"%(np.mean(cv_results_CNN[\"test_average_precision\"]), np.std(cv_results_CNN[\"test_average_precision\"])))"
   ]
  },
  {
   "cell_type": "code",
   "execution_count": 14,
   "id": "00214a95",
   "metadata": {},
   "outputs": [],
   "source": [
    "results = pd.DataFrame(cv_results_CNN)[[\"test_average_precision\", \"test_f1_macro\"]]\n",
    "results.rename(columns={\"test_average_precision\": \"Average Precision\", \"test_f1_macro\": \"F1 Macro\"}, inplace=True)\n",
    "results.to_csv(Path.joinpath(results_dir, \"Glove_Twitter_Embeddings_CNN.csv\"), index=False)"
   ]
  },
  {
   "cell_type": "markdown",
   "id": "41a0e8f8",
   "metadata": {},
   "source": [
    "### Hypothesis Test for Comparing SVM+TF-IDF and CNN+Glove"
   ]
  },
  {
   "cell_type": "code",
   "execution_count": 6,
   "id": "a161d6f4",
   "metadata": {},
   "outputs": [
    {
     "name": "stdout",
     "output_type": "stream",
     "text": [
      "P Value: 0.7672324333100012\n",
      "Algorithms probably have the same performance\n"
     ]
    }
   ],
   "source": [
    "SVM_results = pd.read_csv(Path.joinpath(results_dir, \"SVM_TFIDF.csv\"))\n",
    "CNN_results = pd.read_csv(Path.joinpath(results_dir, \"Glove_Twitter_Embeddings_CNN.csv\"))\n",
    "\n",
    "ttest = stats.ttest_ind(SVM_results[\"Average Precision\"], CNN_results[\"Average Precision\"])\n",
    "\n",
    "print(\"P Value:\", ttest.pvalue)\n",
    "\n",
    "# interpret the result\n",
    "if ttest.pvalue <= 0.05:\n",
    "    print('Difference between mean performance is probably real')\n",
    "else:\n",
    "    print('Algorithms probably have the same performance')"
   ]
  },
  {
   "cell_type": "markdown",
   "id": "94981698",
   "metadata": {},
   "source": [
    "## CNN + Glove Common Crawl Word Embeddings"
   ]
  },
  {
   "cell_type": "markdown",
   "id": "3051851c",
   "metadata": {},
   "source": [
    "### Pipeline"
   ]
  },
  {
   "cell_type": "code",
   "execution_count": 15,
   "id": "83cad5f3",
   "metadata": {},
   "outputs": [
    {
     "data": {
      "text/plain": [
       "{'Preprocess': GloveTransform(),\n",
       " 'Tokenize': StanfordTokenizer(),\n",
       " 'W2V': GloveCommomCrawlEmbeddings(transformTo='concat'),\n",
       " 'Pad': Padding(),\n",
       " 'net': CNN_classifier(\n",
       " \tmodel=<function CNN_model at 0x7f31c85c80d0>\n",
       " \tbuild_fn=None\n",
       " \twarm_start=False\n",
       " \trandom_state=42\n",
       " \toptimizer=<keras.optimizer_v2.adadelta.Adadelta object at 0x7f31c85e25e0>\n",
       " \tloss=binary_crossentropy\n",
       " \tmetrics=['accuracy']\n",
       " \tbatch_size=50\n",
       " \tvalidation_batch_size=None\n",
       " \tverbose=1\n",
       " \tcallbacks=None\n",
       " \tvalidation_split=0.1\n",
       " \tshuffle=True\n",
       " \trun_eagerly=False\n",
       " \tepochs=40\n",
       " \tclass_weight=None\n",
       " )}"
      ]
     },
     "execution_count": 15,
     "metadata": {},
     "output_type": "execute_result"
    }
   ],
   "source": [
    "objs_CNN = [\n",
    "     (\"Preprocess\", GloveTransform()),\n",
    "        (\"Tokenize\", StanfordTokenizer()),\n",
    "        (\"W2V\", GloveCommomCrawlEmbeddings(transformTo=\"concat\")),\n",
    "        (\"Pad\", Padding()),\n",
    "        (\"net\", CNN_classifier())\n",
    "              ] \n",
    "pipe_CNN = Pipeline(objs_CNN)\n",
    "\n",
    "pipe_CNN.named_steps"
   ]
  },
  {
   "cell_type": "markdown",
   "id": "f1f7c941",
   "metadata": {},
   "source": [
    "### Cross validation"
   ]
  },
  {
   "cell_type": "code",
   "execution_count": 16,
   "id": "c67ae2ce",
   "metadata": {},
   "outputs": [],
   "source": [
    "pipe_CNN.set_params(net__verbose=0)\n",
    "cv = CustomCrossValidation.split(X=x_train, y=y_train, groups=groups)\n",
    "\n",
    "cv_results_CNN = cross_validate(pipe_CNN, \n",
    "                                x_train, y_train,\n",
    "                                groups = groups,\n",
    "                                cv=cv, \n",
    "                                n_jobs = -1,\n",
    "                                scoring=[\"average_precision\", \"f1_macro\"])"
   ]
  },
  {
   "cell_type": "code",
   "execution_count": 17,
   "id": "4555d234",
   "metadata": {},
   "outputs": [
    {
     "name": "stdout",
     "output_type": "stream",
     "text": [
      "F1_Macro: Mean-0.897, std-0.027\n",
      "Average Precision: Mean-0.915, std-0.032\n"
     ]
    }
   ],
   "source": [
    "print(\"F1_Macro: Mean-%.3f, std-%.3f\"%(np.mean(cv_results_CNN[\"test_f1_macro\"]), np.std(cv_results_CNN[\"test_f1_macro\"])))\n",
    "print(\"Average Precision: Mean-%.3f, std-%.3f\"%(np.mean(cv_results_CNN[\"test_average_precision\"]), np.std(cv_results_CNN[\"test_average_precision\"])))"
   ]
  },
  {
   "cell_type": "code",
   "execution_count": 18,
   "id": "32458b59",
   "metadata": {},
   "outputs": [],
   "source": [
    "results = pd.DataFrame(cv_results_CNN)[[\"test_average_precision\", \"test_f1_macro\"]]\n",
    "results.rename(columns={\"test_average_precision\": \"Average Precision\", \"test_f1_macro\": \"F1 Macro\"}, inplace=True)\n",
    "results.to_csv(Path.joinpath(results_dir, \"Glove_Common_Crawl_Embeddings_CNN.csv\"), index=False)"
   ]
  },
  {
   "cell_type": "markdown",
   "id": "62f6db4b",
   "metadata": {},
   "source": [
    "## CNN + Word2Vec Twitter Embeddings"
   ]
  },
  {
   "cell_type": "markdown",
   "id": "4954297e",
   "metadata": {},
   "source": [
    "### Pipeline"
   ]
  },
  {
   "cell_type": "code",
   "execution_count": 19,
   "id": "e1a20eec",
   "metadata": {},
   "outputs": [
    {
     "data": {
      "text/plain": [
       "{'Preprocess': GloveTransform(),\n",
       " 'Tokenize': StanfordTokenizer(),\n",
       " 'W2V': Word2VecTwitter(transformTo='concat'),\n",
       " 'Pad': Padding(),\n",
       " 'net': CNN_classifier(\n",
       " \tmodel=<function CNN_model at 0x7f31c85c80d0>\n",
       " \tbuild_fn=None\n",
       " \twarm_start=False\n",
       " \trandom_state=42\n",
       " \toptimizer=<keras.optimizer_v2.adadelta.Adadelta object at 0x7f31c85e25e0>\n",
       " \tloss=binary_crossentropy\n",
       " \tmetrics=['accuracy']\n",
       " \tbatch_size=50\n",
       " \tvalidation_batch_size=None\n",
       " \tverbose=1\n",
       " \tcallbacks=None\n",
       " \tvalidation_split=0.1\n",
       " \tshuffle=True\n",
       " \trun_eagerly=False\n",
       " \tepochs=40\n",
       " \tclass_weight=None\n",
       " )}"
      ]
     },
     "execution_count": 19,
     "metadata": {},
     "output_type": "execute_result"
    }
   ],
   "source": [
    "objs_CNN = [\n",
    "     (\"Preprocess\", GloveTransform()),\n",
    "        (\"Tokenize\", StanfordTokenizer()),\n",
    "        (\"W2V\", Word2VecTwitter(transformTo=\"concat\")),\n",
    "        (\"Pad\", Padding()),\n",
    "        (\"net\", CNN_classifier())\n",
    "              ] \n",
    "pipe_CNN = Pipeline(objs_CNN)\n",
    "\n",
    "pipe_CNN.named_steps"
   ]
  },
  {
   "cell_type": "markdown",
   "id": "b8579482",
   "metadata": {},
   "source": [
    "### Cross validation"
   ]
  },
  {
   "cell_type": "code",
   "execution_count": 20,
   "id": "5383fb3b",
   "metadata": {},
   "outputs": [
    {
     "ename": "TerminatedWorkerError",
     "evalue": "A worker process managed by the executor was unexpectedly terminated. This could be caused by a segmentation fault while calling the function or by an excessive memory usage causing the Operating System to kill the worker.\n\nThe exit codes of the workers are {SIGKILL(-9)}",
     "output_type": "error",
     "traceback": [
      "\u001b[0;31m---------------------------------------------------------------------------\u001b[0m",
      "\u001b[0;31mTerminatedWorkerError\u001b[0m                     Traceback (most recent call last)",
      "Input \u001b[0;32mIn [20]\u001b[0m, in \u001b[0;36m<cell line: 4>\u001b[0;34m()\u001b[0m\n\u001b[1;32m      1\u001b[0m pipe_CNN\u001b[38;5;241m.\u001b[39mset_params(net__verbose\u001b[38;5;241m=\u001b[39m\u001b[38;5;241m0\u001b[39m)\n\u001b[1;32m      2\u001b[0m cv \u001b[38;5;241m=\u001b[39m CustomCrossValidation\u001b[38;5;241m.\u001b[39msplit(X\u001b[38;5;241m=\u001b[39mx_train, y\u001b[38;5;241m=\u001b[39my_train, groups\u001b[38;5;241m=\u001b[39mgroups)\n\u001b[0;32m----> 4\u001b[0m cv_results_CNN \u001b[38;5;241m=\u001b[39m \u001b[43mcross_validate\u001b[49m\u001b[43m(\u001b[49m\u001b[43mpipe_CNN\u001b[49m\u001b[43m,\u001b[49m\u001b[43m \u001b[49m\n\u001b[1;32m      5\u001b[0m \u001b[43m                            \u001b[49m\u001b[43mx_train\u001b[49m\u001b[43m,\u001b[49m\u001b[43m \u001b[49m\n\u001b[1;32m      6\u001b[0m \u001b[43m                            \u001b[49m\u001b[43my_train\u001b[49m\u001b[43m,\u001b[49m\n\u001b[1;32m      7\u001b[0m \u001b[43m                            \u001b[49m\u001b[43mgroups\u001b[49m\u001b[43m \u001b[49m\u001b[38;5;241;43m=\u001b[39;49m\u001b[43m \u001b[49m\u001b[43mgroups\u001b[49m\u001b[43m,\u001b[49m\n\u001b[1;32m      8\u001b[0m \u001b[43m                            \u001b[49m\u001b[43mcv\u001b[49m\u001b[38;5;241;43m=\u001b[39;49m\u001b[43mcv\u001b[49m\u001b[43m,\u001b[49m\n\u001b[1;32m      9\u001b[0m \u001b[43m                            \u001b[49m\u001b[43mn_jobs\u001b[49m\u001b[38;5;241;43m=\u001b[39;49m\u001b[38;5;241;43m-\u001b[39;49m\u001b[38;5;241;43m1\u001b[39;49m\u001b[43m,\u001b[49m\n\u001b[1;32m     10\u001b[0m \u001b[43m                            \u001b[49m\u001b[43mscoring\u001b[49m\u001b[38;5;241;43m=\u001b[39;49m\u001b[43m[\u001b[49m\u001b[38;5;124;43m\"\u001b[39;49m\u001b[38;5;124;43maverage_precision\u001b[39;49m\u001b[38;5;124;43m\"\u001b[39;49m\u001b[43m,\u001b[49m\u001b[43m \u001b[49m\u001b[38;5;124;43m\"\u001b[39;49m\u001b[38;5;124;43mf1_macro\u001b[39;49m\u001b[38;5;124;43m\"\u001b[39;49m\u001b[43m]\u001b[49m\u001b[43m)\u001b[49m\n",
      "File \u001b[0;32m~/anaconda3/envs/py39/lib/python3.9/site-packages/sklearn/model_selection/_validation.py:267\u001b[0m, in \u001b[0;36mcross_validate\u001b[0;34m(estimator, X, y, groups, scoring, cv, n_jobs, verbose, fit_params, pre_dispatch, return_train_score, return_estimator, error_score)\u001b[0m\n\u001b[1;32m    264\u001b[0m \u001b[38;5;66;03m# We clone the estimator to make sure that all the folds are\u001b[39;00m\n\u001b[1;32m    265\u001b[0m \u001b[38;5;66;03m# independent, and that it is pickle-able.\u001b[39;00m\n\u001b[1;32m    266\u001b[0m parallel \u001b[38;5;241m=\u001b[39m Parallel(n_jobs\u001b[38;5;241m=\u001b[39mn_jobs, verbose\u001b[38;5;241m=\u001b[39mverbose, pre_dispatch\u001b[38;5;241m=\u001b[39mpre_dispatch)\n\u001b[0;32m--> 267\u001b[0m results \u001b[38;5;241m=\u001b[39m \u001b[43mparallel\u001b[49m\u001b[43m(\u001b[49m\n\u001b[1;32m    268\u001b[0m \u001b[43m    \u001b[49m\u001b[43mdelayed\u001b[49m\u001b[43m(\u001b[49m\u001b[43m_fit_and_score\u001b[49m\u001b[43m)\u001b[49m\u001b[43m(\u001b[49m\n\u001b[1;32m    269\u001b[0m \u001b[43m        \u001b[49m\u001b[43mclone\u001b[49m\u001b[43m(\u001b[49m\u001b[43mestimator\u001b[49m\u001b[43m)\u001b[49m\u001b[43m,\u001b[49m\n\u001b[1;32m    270\u001b[0m \u001b[43m        \u001b[49m\u001b[43mX\u001b[49m\u001b[43m,\u001b[49m\n\u001b[1;32m    271\u001b[0m \u001b[43m        \u001b[49m\u001b[43my\u001b[49m\u001b[43m,\u001b[49m\n\u001b[1;32m    272\u001b[0m \u001b[43m        \u001b[49m\u001b[43mscorers\u001b[49m\u001b[43m,\u001b[49m\n\u001b[1;32m    273\u001b[0m \u001b[43m        \u001b[49m\u001b[43mtrain\u001b[49m\u001b[43m,\u001b[49m\n\u001b[1;32m    274\u001b[0m \u001b[43m        \u001b[49m\u001b[43mtest\u001b[49m\u001b[43m,\u001b[49m\n\u001b[1;32m    275\u001b[0m \u001b[43m        \u001b[49m\u001b[43mverbose\u001b[49m\u001b[43m,\u001b[49m\n\u001b[1;32m    276\u001b[0m \u001b[43m        \u001b[49m\u001b[38;5;28;43;01mNone\u001b[39;49;00m\u001b[43m,\u001b[49m\n\u001b[1;32m    277\u001b[0m \u001b[43m        \u001b[49m\u001b[43mfit_params\u001b[49m\u001b[43m,\u001b[49m\n\u001b[1;32m    278\u001b[0m \u001b[43m        \u001b[49m\u001b[43mreturn_train_score\u001b[49m\u001b[38;5;241;43m=\u001b[39;49m\u001b[43mreturn_train_score\u001b[49m\u001b[43m,\u001b[49m\n\u001b[1;32m    279\u001b[0m \u001b[43m        \u001b[49m\u001b[43mreturn_times\u001b[49m\u001b[38;5;241;43m=\u001b[39;49m\u001b[38;5;28;43;01mTrue\u001b[39;49;00m\u001b[43m,\u001b[49m\n\u001b[1;32m    280\u001b[0m \u001b[43m        \u001b[49m\u001b[43mreturn_estimator\u001b[49m\u001b[38;5;241;43m=\u001b[39;49m\u001b[43mreturn_estimator\u001b[49m\u001b[43m,\u001b[49m\n\u001b[1;32m    281\u001b[0m \u001b[43m        \u001b[49m\u001b[43merror_score\u001b[49m\u001b[38;5;241;43m=\u001b[39;49m\u001b[43merror_score\u001b[49m\u001b[43m,\u001b[49m\n\u001b[1;32m    282\u001b[0m \u001b[43m    \u001b[49m\u001b[43m)\u001b[49m\n\u001b[1;32m    283\u001b[0m \u001b[43m    \u001b[49m\u001b[38;5;28;43;01mfor\u001b[39;49;00m\u001b[43m \u001b[49m\u001b[43mtrain\u001b[49m\u001b[43m,\u001b[49m\u001b[43m \u001b[49m\u001b[43mtest\u001b[49m\u001b[43m \u001b[49m\u001b[38;5;129;43;01min\u001b[39;49;00m\u001b[43m \u001b[49m\u001b[43mcv\u001b[49m\u001b[38;5;241;43m.\u001b[39;49m\u001b[43msplit\u001b[49m\u001b[43m(\u001b[49m\u001b[43mX\u001b[49m\u001b[43m,\u001b[49m\u001b[43m \u001b[49m\u001b[43my\u001b[49m\u001b[43m,\u001b[49m\u001b[43m \u001b[49m\u001b[43mgroups\u001b[49m\u001b[43m)\u001b[49m\n\u001b[1;32m    284\u001b[0m \u001b[43m\u001b[49m\u001b[43m)\u001b[49m\n\u001b[1;32m    286\u001b[0m _warn_about_fit_failures(results, error_score)\n\u001b[1;32m    288\u001b[0m \u001b[38;5;66;03m# For callabe scoring, the return type is only know after calling. If the\u001b[39;00m\n\u001b[1;32m    289\u001b[0m \u001b[38;5;66;03m# return type is a dictionary, the error scores can now be inserted with\u001b[39;00m\n\u001b[1;32m    290\u001b[0m \u001b[38;5;66;03m# the correct key.\u001b[39;00m\n",
      "File \u001b[0;32m~/anaconda3/envs/py39/lib/python3.9/site-packages/joblib/parallel.py:1056\u001b[0m, in \u001b[0;36mParallel.__call__\u001b[0;34m(self, iterable)\u001b[0m\n\u001b[1;32m   1053\u001b[0m     \u001b[38;5;28mself\u001b[39m\u001b[38;5;241m.\u001b[39m_iterating \u001b[38;5;241m=\u001b[39m \u001b[38;5;28;01mFalse\u001b[39;00m\n\u001b[1;32m   1055\u001b[0m \u001b[38;5;28;01mwith\u001b[39;00m \u001b[38;5;28mself\u001b[39m\u001b[38;5;241m.\u001b[39m_backend\u001b[38;5;241m.\u001b[39mretrieval_context():\n\u001b[0;32m-> 1056\u001b[0m     \u001b[38;5;28;43mself\u001b[39;49m\u001b[38;5;241;43m.\u001b[39;49m\u001b[43mretrieve\u001b[49m\u001b[43m(\u001b[49m\u001b[43m)\u001b[49m\n\u001b[1;32m   1057\u001b[0m \u001b[38;5;66;03m# Make sure that we get a last message telling us we are done\u001b[39;00m\n\u001b[1;32m   1058\u001b[0m elapsed_time \u001b[38;5;241m=\u001b[39m time\u001b[38;5;241m.\u001b[39mtime() \u001b[38;5;241m-\u001b[39m \u001b[38;5;28mself\u001b[39m\u001b[38;5;241m.\u001b[39m_start_time\n",
      "File \u001b[0;32m~/anaconda3/envs/py39/lib/python3.9/site-packages/joblib/parallel.py:935\u001b[0m, in \u001b[0;36mParallel.retrieve\u001b[0;34m(self)\u001b[0m\n\u001b[1;32m    933\u001b[0m \u001b[38;5;28;01mtry\u001b[39;00m:\n\u001b[1;32m    934\u001b[0m     \u001b[38;5;28;01mif\u001b[39;00m \u001b[38;5;28mgetattr\u001b[39m(\u001b[38;5;28mself\u001b[39m\u001b[38;5;241m.\u001b[39m_backend, \u001b[38;5;124m'\u001b[39m\u001b[38;5;124msupports_timeout\u001b[39m\u001b[38;5;124m'\u001b[39m, \u001b[38;5;28;01mFalse\u001b[39;00m):\n\u001b[0;32m--> 935\u001b[0m         \u001b[38;5;28mself\u001b[39m\u001b[38;5;241m.\u001b[39m_output\u001b[38;5;241m.\u001b[39mextend(\u001b[43mjob\u001b[49m\u001b[38;5;241;43m.\u001b[39;49m\u001b[43mget\u001b[49m\u001b[43m(\u001b[49m\u001b[43mtimeout\u001b[49m\u001b[38;5;241;43m=\u001b[39;49m\u001b[38;5;28;43mself\u001b[39;49m\u001b[38;5;241;43m.\u001b[39;49m\u001b[43mtimeout\u001b[49m\u001b[43m)\u001b[49m)\n\u001b[1;32m    936\u001b[0m     \u001b[38;5;28;01melse\u001b[39;00m:\n\u001b[1;32m    937\u001b[0m         \u001b[38;5;28mself\u001b[39m\u001b[38;5;241m.\u001b[39m_output\u001b[38;5;241m.\u001b[39mextend(job\u001b[38;5;241m.\u001b[39mget())\n",
      "File \u001b[0;32m~/anaconda3/envs/py39/lib/python3.9/site-packages/joblib/_parallel_backends.py:542\u001b[0m, in \u001b[0;36mLokyBackend.wrap_future_result\u001b[0;34m(future, timeout)\u001b[0m\n\u001b[1;32m    539\u001b[0m \u001b[38;5;124;03m\"\"\"Wrapper for Future.result to implement the same behaviour as\u001b[39;00m\n\u001b[1;32m    540\u001b[0m \u001b[38;5;124;03mAsyncResults.get from multiprocessing.\"\"\"\u001b[39;00m\n\u001b[1;32m    541\u001b[0m \u001b[38;5;28;01mtry\u001b[39;00m:\n\u001b[0;32m--> 542\u001b[0m     \u001b[38;5;28;01mreturn\u001b[39;00m \u001b[43mfuture\u001b[49m\u001b[38;5;241;43m.\u001b[39;49m\u001b[43mresult\u001b[49m\u001b[43m(\u001b[49m\u001b[43mtimeout\u001b[49m\u001b[38;5;241;43m=\u001b[39;49m\u001b[43mtimeout\u001b[49m\u001b[43m)\u001b[49m\n\u001b[1;32m    543\u001b[0m \u001b[38;5;28;01mexcept\u001b[39;00m CfTimeoutError \u001b[38;5;28;01mas\u001b[39;00m e:\n\u001b[1;32m    544\u001b[0m     \u001b[38;5;28;01mraise\u001b[39;00m \u001b[38;5;167;01mTimeoutError\u001b[39;00m \u001b[38;5;28;01mfrom\u001b[39;00m \u001b[38;5;21;01me\u001b[39;00m\n",
      "File \u001b[0;32m~/anaconda3/envs/py39/lib/python3.9/concurrent/futures/_base.py:446\u001b[0m, in \u001b[0;36mFuture.result\u001b[0;34m(self, timeout)\u001b[0m\n\u001b[1;32m    444\u001b[0m     \u001b[38;5;28;01mraise\u001b[39;00m CancelledError()\n\u001b[1;32m    445\u001b[0m \u001b[38;5;28;01melif\u001b[39;00m \u001b[38;5;28mself\u001b[39m\u001b[38;5;241m.\u001b[39m_state \u001b[38;5;241m==\u001b[39m FINISHED:\n\u001b[0;32m--> 446\u001b[0m     \u001b[38;5;28;01mreturn\u001b[39;00m \u001b[38;5;28;43mself\u001b[39;49m\u001b[38;5;241;43m.\u001b[39;49m\u001b[43m__get_result\u001b[49m\u001b[43m(\u001b[49m\u001b[43m)\u001b[49m\n\u001b[1;32m    447\u001b[0m \u001b[38;5;28;01melse\u001b[39;00m:\n\u001b[1;32m    448\u001b[0m     \u001b[38;5;28;01mraise\u001b[39;00m \u001b[38;5;167;01mTimeoutError\u001b[39;00m()\n",
      "File \u001b[0;32m~/anaconda3/envs/py39/lib/python3.9/concurrent/futures/_base.py:391\u001b[0m, in \u001b[0;36mFuture.__get_result\u001b[0;34m(self)\u001b[0m\n\u001b[1;32m    389\u001b[0m \u001b[38;5;28;01mif\u001b[39;00m \u001b[38;5;28mself\u001b[39m\u001b[38;5;241m.\u001b[39m_exception:\n\u001b[1;32m    390\u001b[0m     \u001b[38;5;28;01mtry\u001b[39;00m:\n\u001b[0;32m--> 391\u001b[0m         \u001b[38;5;28;01mraise\u001b[39;00m \u001b[38;5;28mself\u001b[39m\u001b[38;5;241m.\u001b[39m_exception\n\u001b[1;32m    392\u001b[0m     \u001b[38;5;28;01mfinally\u001b[39;00m:\n\u001b[1;32m    393\u001b[0m         \u001b[38;5;66;03m# Break a reference cycle with the exception in self._exception\u001b[39;00m\n\u001b[1;32m    394\u001b[0m         \u001b[38;5;28mself\u001b[39m \u001b[38;5;241m=\u001b[39m \u001b[38;5;28;01mNone\u001b[39;00m\n",
      "\u001b[0;31mTerminatedWorkerError\u001b[0m: A worker process managed by the executor was unexpectedly terminated. This could be caused by a segmentation fault while calling the function or by an excessive memory usage causing the Operating System to kill the worker.\n\nThe exit codes of the workers are {SIGKILL(-9)}"
     ]
    }
   ],
   "source": [
    "pipe_CNN.set_params(net__verbose=0)\n",
    "cv = CustomCrossValidation.split(X=x_train, y=y_train, groups=groups)\n",
    "\n",
    "cv_results_CNN = cross_validate(pipe_CNN, \n",
    "                            x_train, \n",
    "                            y_train,\n",
    "                            groups = groups,\n",
    "                            cv=cv,\n",
    "                            n_jobs=-1,\n",
    "                            scoring=[\"average_precision\", \"f1_macro\"])"
   ]
  },
  {
   "cell_type": "code",
   "execution_count": null,
   "id": "404e8f09",
   "metadata": {},
   "outputs": [],
   "source": [
    "print(\"F1_Macro: Mean-%.3f, std-%.3f\"%(np.mean(cv_results_CNN[\"test_f1_macro\"]), np.std(cv_results_CNN[\"test_f1_macro\"])))\n",
    "print(\"Average Precision: Mean-%.3f, std-%.3f\"%(np.mean(cv_results_CNN[\"test_average_precision\"]), np.std(cv_results_CNN[\"test_average_precision\"])))"
   ]
  },
  {
   "cell_type": "code",
   "execution_count": null,
   "id": "a467d7b6",
   "metadata": {},
   "outputs": [],
   "source": [
    "results = pd.DataFrame(cv_results_CNN)[[\"test_average_precision\", \"test_f1_macro\"]]\n",
    "results.rename(columns={\"test_average_precision\": \"Average Precision\", \"test_f1_macro\": \"F1 Macro\"}, inplace=True)\n",
    "results.to_csv(Path.joinpath(results_dir, \"Word2Vec_Twitter_CNN.csv\"), index=False)"
   ]
  },
  {
   "cell_type": "markdown",
   "id": "30ca9d10",
   "metadata": {},
   "source": [
    "## CNN + FastText Twitter Embeddings"
   ]
  },
  {
   "cell_type": "markdown",
   "id": "87eb8f4f",
   "metadata": {},
   "source": [
    "### Pipeline"
   ]
  },
  {
   "cell_type": "code",
   "execution_count": 13,
   "id": "d14814f2",
   "metadata": {},
   "outputs": [
    {
     "data": {
      "text/plain": [
       "{'Preprocess': GloveTransform(),\n",
       " 'Tokenize': StanfordTokenizer(),\n",
       " 'Fasttext': FasttextTwitter(transformTo='concat'),\n",
       " 'Pad': Padding(),\n",
       " 'net': CNN_classifier(\n",
       " \tmodel=<function CNN_model at 0x7fe26f7c2310>\n",
       " \tbuild_fn=None\n",
       " \twarm_start=False\n",
       " \trandom_state=42\n",
       " \toptimizer=<keras.optimizer_v2.adadelta.Adadelta object at 0x7fe26f7de8b0>\n",
       " \tloss=binary_crossentropy\n",
       " \tmetrics=['accuracy']\n",
       " \tbatch_size=50\n",
       " \tvalidation_batch_size=None\n",
       " \tverbose=1\n",
       " \tcallbacks=None\n",
       " \tvalidation_split=0.1\n",
       " \tshuffle=True\n",
       " \trun_eagerly=False\n",
       " \tepochs=40\n",
       " \tclass_weight=None\n",
       " )}"
      ]
     },
     "execution_count": 13,
     "metadata": {},
     "output_type": "execute_result"
    }
   ],
   "source": [
    "objs_CNN = [\n",
    "     (\"Preprocess\", GloveTransform()),\n",
    "        (\"Tokenize\", StanfordTokenizer()),\n",
    "        (\"Fasttext\", FasttextTwitter(transformTo=\"concat\")),\n",
    "        (\"Pad\", Padding()),\n",
    "        (\"net\", CNN_classifier())\n",
    "              ] \n",
    "pipe_CNN = Pipeline(objs_CNN)\n",
    "\n",
    "pipe_CNN.named_steps"
   ]
  },
  {
   "cell_type": "markdown",
   "id": "1b7d9498",
   "metadata": {},
   "source": [
    "### Cross validation"
   ]
  },
  {
   "cell_type": "code",
   "execution_count": 14,
   "id": "02371e88",
   "metadata": {},
   "outputs": [
    {
     "name": "stderr",
     "output_type": "stream",
     "text": [
      "Warning : `load_model` does not return WordVectorModel or SupervisedModel any more, but a `FastText` object which is very similar.\n",
      "Warning : `load_model` does not return WordVectorModel or SupervisedModel any more, but a `FastText` object which is very similar.\n",
      "Warning : `load_model` does not return WordVectorModel or SupervisedModel any more, but a `FastText` object which is very similar.\n",
      "Warning : `load_model` does not return WordVectorModel or SupervisedModel any more, but a `FastText` object which is very similar.\n",
      "Warning : `load_model` does not return WordVectorModel or SupervisedModel any more, but a `FastText` object which is very similar.\n",
      "Warning : `load_model` does not return WordVectorModel or SupervisedModel any more, but a `FastText` object which is very similar.\n",
      "Warning : `load_model` does not return WordVectorModel or SupervisedModel any more, but a `FastText` object which is very similar.\n",
      "Warning : `load_model` does not return WordVectorModel or SupervisedModel any more, but a `FastText` object which is very similar.\n",
      "Warning : `load_model` does not return WordVectorModel or SupervisedModel any more, but a `FastText` object which is very similar.\n",
      "Warning : `load_model` does not return WordVectorModel or SupervisedModel any more, but a `FastText` object which is very similar.\n",
      "Warning : `load_model` does not return WordVectorModel or SupervisedModel any more, but a `FastText` object which is very similar.\n",
      "Warning : `load_model` does not return WordVectorModel or SupervisedModel any more, but a `FastText` object which is very similar.\n",
      "Warning : `load_model` does not return WordVectorModel or SupervisedModel any more, but a `FastText` object which is very similar.\n",
      "Warning : `load_model` does not return WordVectorModel or SupervisedModel any more, but a `FastText` object which is very similar.\n",
      "Warning : `load_model` does not return WordVectorModel or SupervisedModel any more, but a `FastText` object which is very similar.\n",
      "Warning : `load_model` does not return WordVectorModel or SupervisedModel any more, but a `FastText` object which is very similar.\n",
      "Warning : `load_model` does not return WordVectorModel or SupervisedModel any more, but a `FastText` object which is very similar.\n",
      "Warning : `load_model` does not return WordVectorModel or SupervisedModel any more, but a `FastText` object which is very similar.\n",
      "Warning : `load_model` does not return WordVectorModel or SupervisedModel any more, but a `FastText` object which is very similar.\n",
      "Warning : `load_model` does not return WordVectorModel or SupervisedModel any more, but a `FastText` object which is very similar.\n",
      "Warning : `load_model` does not return WordVectorModel or SupervisedModel any more, but a `FastText` object which is very similar.\n",
      "Warning : `load_model` does not return WordVectorModel or SupervisedModel any more, but a `FastText` object which is very similar.\n",
      "Warning : `load_model` does not return WordVectorModel or SupervisedModel any more, but a `FastText` object which is very similar.\n",
      "Warning : `load_model` does not return WordVectorModel or SupervisedModel any more, but a `FastText` object which is very similar.\n",
      "Warning : `load_model` does not return WordVectorModel or SupervisedModel any more, but a `FastText` object which is very similar.\n",
      "Warning : `load_model` does not return WordVectorModel or SupervisedModel any more, but a `FastText` object which is very similar.\n",
      "Warning : `load_model` does not return WordVectorModel or SupervisedModel any more, but a `FastText` object which is very similar.\n",
      "Warning : `load_model` does not return WordVectorModel or SupervisedModel any more, but a `FastText` object which is very similar.\n",
      "Warning : `load_model` does not return WordVectorModel or SupervisedModel any more, but a `FastText` object which is very similar.\n",
      "Warning : `load_model` does not return WordVectorModel or SupervisedModel any more, but a `FastText` object which is very similar.\n",
      "Warning : `load_model` does not return WordVectorModel or SupervisedModel any more, but a `FastText` object which is very similar.\n",
      "Warning : `load_model` does not return WordVectorModel or SupervisedModel any more, but a `FastText` object which is very similar.\n",
      "Warning : `load_model` does not return WordVectorModel or SupervisedModel any more, but a `FastText` object which is very similar.\n",
      "Warning : `load_model` does not return WordVectorModel or SupervisedModel any more, but a `FastText` object which is very similar.\n",
      "Warning : `load_model` does not return WordVectorModel or SupervisedModel any more, but a `FastText` object which is very similar.\n",
      "Warning : `load_model` does not return WordVectorModel or SupervisedModel any more, but a `FastText` object which is very similar.\n",
      "Warning : `load_model` does not return WordVectorModel or SupervisedModel any more, but a `FastText` object which is very similar.\n",
      "Warning : `load_model` does not return WordVectorModel or SupervisedModel any more, but a `FastText` object which is very similar.\n",
      "Warning : `load_model` does not return WordVectorModel or SupervisedModel any more, but a `FastText` object which is very similar.\n",
      "Warning : `load_model` does not return WordVectorModel or SupervisedModel any more, but a `FastText` object which is very similar.\n",
      "Warning : `load_model` does not return WordVectorModel or SupervisedModel any more, but a `FastText` object which is very similar.\n",
      "Warning : `load_model` does not return WordVectorModel or SupervisedModel any more, but a `FastText` object which is very similar.\n",
      "Warning : `load_model` does not return WordVectorModel or SupervisedModel any more, but a `FastText` object which is very similar.\n",
      "Warning : `load_model` does not return WordVectorModel or SupervisedModel any more, but a `FastText` object which is very similar.\n",
      "Warning : `load_model` does not return WordVectorModel or SupervisedModel any more, but a `FastText` object which is very similar.\n",
      "Warning : `load_model` does not return WordVectorModel or SupervisedModel any more, but a `FastText` object which is very similar.\n",
      "Warning : `load_model` does not return WordVectorModel or SupervisedModel any more, but a `FastText` object which is very similar.\n",
      "Warning : `load_model` does not return WordVectorModel or SupervisedModel any more, but a `FastText` object which is very similar.\n",
      "Warning : `load_model` does not return WordVectorModel or SupervisedModel any more, but a `FastText` object which is very similar.\n",
      "Warning : `load_model` does not return WordVectorModel or SupervisedModel any more, but a `FastText` object which is very similar.\n",
      "Warning : `load_model` does not return WordVectorModel or SupervisedModel any more, but a `FastText` object which is very similar.\n",
      "Warning : `load_model` does not return WordVectorModel or SupervisedModel any more, but a `FastText` object which is very similar.\n",
      "Warning : `load_model` does not return WordVectorModel or SupervisedModel any more, but a `FastText` object which is very similar.\n",
      "Warning : `load_model` does not return WordVectorModel or SupervisedModel any more, but a `FastText` object which is very similar.\n",
      "Warning : `load_model` does not return WordVectorModel or SupervisedModel any more, but a `FastText` object which is very similar.\n",
      "Warning : `load_model` does not return WordVectorModel or SupervisedModel any more, but a `FastText` object which is very similar.\n",
      "Warning : `load_model` does not return WordVectorModel or SupervisedModel any more, but a `FastText` object which is very similar.\n",
      "Warning : `load_model` does not return WordVectorModel or SupervisedModel any more, but a `FastText` object which is very similar.\n",
      "Warning : `load_model` does not return WordVectorModel or SupervisedModel any more, but a `FastText` object which is very similar.\n",
      "Warning : `load_model` does not return WordVectorModel or SupervisedModel any more, but a `FastText` object which is very similar.\n",
      "Warning : `load_model` does not return WordVectorModel or SupervisedModel any more, but a `FastText` object which is very similar.\n",
      "Warning : `load_model` does not return WordVectorModel or SupervisedModel any more, but a `FastText` object which is very similar.\n",
      "Warning : `load_model` does not return WordVectorModel or SupervisedModel any more, but a `FastText` object which is very similar.\n"
     ]
    },
    {
     "name": "stderr",
     "output_type": "stream",
     "text": [
      "Warning : `load_model` does not return WordVectorModel or SupervisedModel any more, but a `FastText` object which is very similar.\n",
      "Warning : `load_model` does not return WordVectorModel or SupervisedModel any more, but a `FastText` object which is very similar.\n",
      "Warning : `load_model` does not return WordVectorModel or SupervisedModel any more, but a `FastText` object which is very similar.\n",
      "Warning : `load_model` does not return WordVectorModel or SupervisedModel any more, but a `FastText` object which is very similar.\n",
      "Warning : `load_model` does not return WordVectorModel or SupervisedModel any more, but a `FastText` object which is very similar.\n",
      "Warning : `load_model` does not return WordVectorModel or SupervisedModel any more, but a `FastText` object which is very similar.\n",
      "Warning : `load_model` does not return WordVectorModel or SupervisedModel any more, but a `FastText` object which is very similar.\n",
      "Warning : `load_model` does not return WordVectorModel or SupervisedModel any more, but a `FastText` object which is very similar.\n",
      "Warning : `load_model` does not return WordVectorModel or SupervisedModel any more, but a `FastText` object which is very similar.\n",
      "Warning : `load_model` does not return WordVectorModel or SupervisedModel any more, but a `FastText` object which is very similar.\n",
      "Warning : `load_model` does not return WordVectorModel or SupervisedModel any more, but a `FastText` object which is very similar.\n",
      "Warning : `load_model` does not return WordVectorModel or SupervisedModel any more, but a `FastText` object which is very similar.\n",
      "Warning : `load_model` does not return WordVectorModel or SupervisedModel any more, but a `FastText` object which is very similar.\n",
      "Warning : `load_model` does not return WordVectorModel or SupervisedModel any more, but a `FastText` object which is very similar.\n",
      "Warning : `load_model` does not return WordVectorModel or SupervisedModel any more, but a `FastText` object which is very similar.\n",
      "Warning : `load_model` does not return WordVectorModel or SupervisedModel any more, but a `FastText` object which is very similar.\n",
      "Warning : `load_model` does not return WordVectorModel or SupervisedModel any more, but a `FastText` object which is very similar.\n",
      "Warning : `load_model` does not return WordVectorModel or SupervisedModel any more, but a `FastText` object which is very similar.\n",
      "Warning : `load_model` does not return WordVectorModel or SupervisedModel any more, but a `FastText` object which is very similar.\n",
      "Warning : `load_model` does not return WordVectorModel or SupervisedModel any more, but a `FastText` object which is very similar.\n",
      "Warning : `load_model` does not return WordVectorModel or SupervisedModel any more, but a `FastText` object which is very similar.\n",
      "Warning : `load_model` does not return WordVectorModel or SupervisedModel any more, but a `FastText` object which is very similar.\n",
      "Warning : `load_model` does not return WordVectorModel or SupervisedModel any more, but a `FastText` object which is very similar.\n",
      "Warning : `load_model` does not return WordVectorModel or SupervisedModel any more, but a `FastText` object which is very similar.\n",
      "Warning : `load_model` does not return WordVectorModel or SupervisedModel any more, but a `FastText` object which is very similar.\n",
      "Warning : `load_model` does not return WordVectorModel or SupervisedModel any more, but a `FastText` object which is very similar.\n",
      "Warning : `load_model` does not return WordVectorModel or SupervisedModel any more, but a `FastText` object which is very similar.\n",
      "Warning : `load_model` does not return WordVectorModel or SupervisedModel any more, but a `FastText` object which is very similar.\n",
      "Warning : `load_model` does not return WordVectorModel or SupervisedModel any more, but a `FastText` object which is very similar.\n",
      "Warning : `load_model` does not return WordVectorModel or SupervisedModel any more, but a `FastText` object which is very similar.\n",
      "Warning : `load_model` does not return WordVectorModel or SupervisedModel any more, but a `FastText` object which is very similar.\n",
      "Warning : `load_model` does not return WordVectorModel or SupervisedModel any more, but a `FastText` object which is very similar.\n",
      "Warning : `load_model` does not return WordVectorModel or SupervisedModel any more, but a `FastText` object which is very similar.\n",
      "Warning : `load_model` does not return WordVectorModel or SupervisedModel any more, but a `FastText` object which is very similar.\n",
      "Warning : `load_model` does not return WordVectorModel or SupervisedModel any more, but a `FastText` object which is very similar.\n",
      "Warning : `load_model` does not return WordVectorModel or SupervisedModel any more, but a `FastText` object which is very similar.\n",
      "Warning : `load_model` does not return WordVectorModel or SupervisedModel any more, but a `FastText` object which is very similar.\n"
     ]
    }
   ],
   "source": [
    "cv = CustomCrossValidation.split(X=x_train, y=y_train, groups=groups)\n",
    "pipe_CNN.set_params(net__verbose=0)\n",
    "cv_results_CNN = cross_validate(pipe_CNN, \n",
    "                            x_train, \n",
    "                            y_train,\n",
    "                            groups = groups,\n",
    "                            cv=cv,\n",
    "                            n_jobs=2,\n",
    "                            scoring=[\"average_precision\", \"f1_macro\"])"
   ]
  },
  {
   "cell_type": "code",
   "execution_count": 15,
   "id": "74a277ec",
   "metadata": {},
   "outputs": [
    {
     "name": "stdout",
     "output_type": "stream",
     "text": [
      "F1_Macro: Mean-0.900, std-0.028\n",
      "Average Precision: Mean-0.919, std-0.033\n"
     ]
    }
   ],
   "source": [
    "print(\"F1_Macro: Mean-%.3f, std-%.3f\"%(np.mean(cv_results_CNN[\"test_f1_macro\"]), np.std(cv_results_CNN[\"test_f1_macro\"])))\n",
    "print(\"Average Precision: Mean-%.3f, std-%.3f\"%(np.mean(cv_results_CNN[\"test_average_precision\"]), np.std(cv_results_CNN[\"test_average_precision\"])))"
   ]
  },
  {
   "cell_type": "code",
   "execution_count": 16,
   "id": "ec8bd37c",
   "metadata": {},
   "outputs": [],
   "source": [
    "results = pd.DataFrame(cv_results_CNN)[[\"test_average_precision\", \"test_f1_macro\"]]\n",
    "results.rename(columns={\"test_average_precision\": \"Average Precision\", \"test_f1_macro\": \"F1 Macro\"}, inplace=True)\n",
    "results.to_csv(Path.joinpath(results_dir, \"FastText_Twitter_CNN.csv\"), index=False)"
   ]
  },
  {
   "cell_type": "markdown",
   "id": "58511f2d",
   "metadata": {},
   "source": [
    "## C-BiGRU + Glove Twitter Word Embeddings"
   ]
  },
  {
   "cell_type": "markdown",
   "id": "cd543f4f",
   "metadata": {},
   "source": [
    "### Pipeline"
   ]
  },
  {
   "cell_type": "code",
   "execution_count": 17,
   "id": "e01989fe",
   "metadata": {},
   "outputs": [
    {
     "data": {
      "text/plain": [
       "{'Tokenize': TweetTokenize(),\n",
       " 'W2V': GloveTwitterEmbeddings(transformTo='concat'),\n",
       " 'Pad': Padding(seq_length=150),\n",
       " 'net': CBiGRU_classifier(\n",
       " \tmodel=<function CBiGRU_model at 0x7fe26f7e3dc0>\n",
       " \tbuild_fn=None\n",
       " \twarm_start=False\n",
       " \trandom_state=42\n",
       " \toptimizer=adam\n",
       " \tloss=binary_crossentropy\n",
       " \tmetrics=['accuracy']\n",
       " \tbatch_size=32\n",
       " \tvalidation_batch_size=None\n",
       " \tverbose=1\n",
       " \tcallbacks=[<keras.callbacks.EarlyStopping object at 0x7fe26f7debe0>]\n",
       " \tvalidation_split=0.1\n",
       " \tshuffle=True\n",
       " \trun_eagerly=False\n",
       " \tepochs=5\n",
       " \tclass_weight=None\n",
       " )}"
      ]
     },
     "execution_count": 17,
     "metadata": {},
     "output_type": "execute_result"
    }
   ],
   "source": [
    "objs_CBiGRU = [(\"Tokenize\", TweetTokenize()),\n",
    "        (\"W2V\", GloveTwitterEmbeddings(transformTo=\"concat\")),\n",
    "        (\"Pad\", Padding(seq_length=150)),\n",
    "        (\"net\", CBiGRU_classifier())\n",
    "              ] \n",
    "pipe_CBiGRU = Pipeline(objs_CBiGRU)\n",
    "\n",
    "pipe_CBiGRU.named_steps"
   ]
  },
  {
   "cell_type": "markdown",
   "id": "2661a294",
   "metadata": {},
   "source": [
    "### Cross validation"
   ]
  },
  {
   "cell_type": "code",
   "execution_count": 18,
   "id": "c4e1d161",
   "metadata": {},
   "outputs": [],
   "source": [
    "pipe_CBiGRU.set_params(net__verbose=0)\n",
    "pipe_CBiGRU.set_params(net__class_weight = class_weights)\n",
    "cv = CustomCrossValidation.split(X=x_train, y=y_train, groups=groups)\n",
    "cv_results_CBiGRU = cross_validate(pipe_CBiGRU,\n",
    "                                   x_train,\n",
    "                                   y_train,\n",
    "                                   groups = groups,\n",
    "                                   cv=cv,\n",
    "                                   n_jobs = -1,\n",
    "                                   scoring=[\"average_precision\", \"f1_macro\"])"
   ]
  },
  {
   "cell_type": "code",
   "execution_count": 19,
   "id": "f9a33a6c",
   "metadata": {},
   "outputs": [
    {
     "name": "stdout",
     "output_type": "stream",
     "text": [
      "F1_Macro: Mean-0.867, std-0.034\n",
      "Average Precision: Mean-0.884, std-0.045\n"
     ]
    }
   ],
   "source": [
    "print(\"F1_Macro: Mean-%.3f, std-%.3f\"%(np.mean(cv_results_CBiGRU[\"test_f1_macro\"]), np.std(cv_results_CBiGRU[\"test_f1_macro\"])))\n",
    "print(\"Average Precision: Mean-%.3f, std-%.3f\"%(np.mean(cv_results_CBiGRU[\"test_average_precision\"]), np.std(cv_results_CBiGRU[\"test_average_precision\"])))"
   ]
  },
  {
   "cell_type": "code",
   "execution_count": 20,
   "id": "219fe9fc",
   "metadata": {},
   "outputs": [],
   "source": [
    "results = pd.DataFrame(cv_results_CBiGRU)[[\"test_average_precision\", \"test_f1_macro\"]]\n",
    "results.rename(columns={\"test_average_precision\": \"Average Precision\", \"test_f1_macro\": \"F1 Macro\"}, inplace=True)\n",
    "results.to_csv(Path.joinpath(results_dir, \"Glove_Twitter_Embeddings_CBiGRU.csv\"), index=False)"
   ]
  },
  {
   "cell_type": "markdown",
   "id": "55735a87",
   "metadata": {},
   "source": [
    "### Hypothesis Test for Comparing CNN+Glove and C-BiGRU+Glove"
   ]
  },
  {
   "cell_type": "code",
   "execution_count": 7,
   "id": "acf3f07d",
   "metadata": {},
   "outputs": [
    {
     "name": "stdout",
     "output_type": "stream",
     "text": [
      "Difference between mean performance is probably real\n"
     ]
    }
   ],
   "source": [
    "CNN_results = pd.read_csv(Path.joinpath(results_dir, \"Glove_Twitter_Embeddings_CNN.csv\"))\n",
    "CBiGRU_results = pd.read_csv(Path.joinpath(results_dir, \"Glove_Twitter_Embeddings_CBiGRU.csv\"))\n",
    "\n",
    "ttest = stats.ttest_ind(CBiGRU_results[\"Average Precision\"], CNN_results[\"Average Precision\"])\n",
    "\n",
    "# interpret the result\n",
    "if ttest.pvalue <= 0.05:\n",
    "    print('Difference between mean performance is probably real')\n",
    "else:\n",
    "    print('Algorithms probably have the same performance')"
   ]
  },
  {
   "cell_type": "markdown",
   "id": "41bbced9",
   "metadata": {},
   "source": [
    "## C-BiGRU + Glove Common Crawl Word Embeddings"
   ]
  },
  {
   "cell_type": "markdown",
   "id": "439d9b30",
   "metadata": {},
   "source": [
    "### Pipeline"
   ]
  },
  {
   "cell_type": "code",
   "execution_count": 21,
   "id": "f98e063d",
   "metadata": {},
   "outputs": [
    {
     "data": {
      "text/plain": [
       "{'Tokenize': TweetTokenize(),\n",
       " 'W2V': GloveCommomCrawlEmbeddings(transformTo='concat'),\n",
       " 'Pad': Padding(seq_length=150),\n",
       " 'net': CBiGRU_classifier(\n",
       " \tmodel=<function CBiGRU_model at 0x7fe26f7e3dc0>\n",
       " \tbuild_fn=None\n",
       " \twarm_start=False\n",
       " \trandom_state=42\n",
       " \toptimizer=adam\n",
       " \tloss=binary_crossentropy\n",
       " \tmetrics=['accuracy']\n",
       " \tbatch_size=32\n",
       " \tvalidation_batch_size=None\n",
       " \tverbose=1\n",
       " \tcallbacks=[<keras.callbacks.EarlyStopping object at 0x7fe26f7debe0>]\n",
       " \tvalidation_split=0.1\n",
       " \tshuffle=True\n",
       " \trun_eagerly=False\n",
       " \tepochs=5\n",
       " \tclass_weight=None\n",
       " )}"
      ]
     },
     "execution_count": 21,
     "metadata": {},
     "output_type": "execute_result"
    }
   ],
   "source": [
    "objs_CBiGRU = [(\"Tokenize\", TweetTokenize()),\n",
    "        (\"W2V\", GloveCommomCrawlEmbeddings(transformTo=\"concat\")),\n",
    "        (\"Pad\", Padding(seq_length=150)),\n",
    "        (\"net\", CBiGRU_classifier())\n",
    "              ] \n",
    "pipe_CBiGRU = Pipeline(objs_CBiGRU)\n",
    "\n",
    "pipe_CBiGRU.named_steps"
   ]
  },
  {
   "cell_type": "markdown",
   "id": "e3aee647",
   "metadata": {},
   "source": [
    "### Cross validation"
   ]
  },
  {
   "cell_type": "code",
   "execution_count": 22,
   "id": "a454e82a",
   "metadata": {},
   "outputs": [],
   "source": [
    "pipe_CBiGRU.set_params(net__verbose=0)\n",
    "pipe_CBiGRU.set_params(net__class_weight = class_weights)\n",
    "cv = CustomCrossValidation.split(X=x_train, y=y_train, groups=groups)\n",
    "cv_results_CBiGRU = cross_validate(pipe_CBiGRU,\n",
    "                                   x_train,\n",
    "                                   y_train,\n",
    "                                   groups = groups,\n",
    "                                   cv=cv,\n",
    "                                   n_jobs = -1,\n",
    "                                   scoring=[\"average_precision\", \"f1_macro\"])"
   ]
  },
  {
   "cell_type": "code",
   "execution_count": 23,
   "id": "612ad23b",
   "metadata": {},
   "outputs": [
    {
     "name": "stdout",
     "output_type": "stream",
     "text": [
      "F1_Macro: Mean-0.871, std-0.036\n",
      "Average Precision: Mean-0.888, std-0.043\n"
     ]
    }
   ],
   "source": [
    "print(\"F1_Macro: Mean-%.3f, std-%.3f\"%(np.mean(cv_results_CBiGRU[\"test_f1_macro\"]), np.std(cv_results_CBiGRU[\"test_f1_macro\"])))\n",
    "print(\"Average Precision: Mean-%.3f, std-%.3f\"%(np.mean(cv_results_CBiGRU[\"test_average_precision\"]), np.std(cv_results_CBiGRU[\"test_average_precision\"])))"
   ]
  },
  {
   "cell_type": "code",
   "execution_count": 24,
   "id": "386bdb71",
   "metadata": {},
   "outputs": [],
   "source": [
    "results = pd.DataFrame(cv_results_CBiGRU)[[\"test_average_precision\", \"test_f1_macro\"]]\n",
    "results.rename(columns={\"test_average_precision\": \"Average Precision\", \"test_f1_macro\": \"F1 Macro\"}, inplace=True)\n",
    "results.to_csv(Path.joinpath(results_dir, \"Glove_Common_Crawl_Embeddings_CBiGRU.csv\"), index=False)"
   ]
  },
  {
   "cell_type": "markdown",
   "id": "b0e7a2d0",
   "metadata": {},
   "source": [
    "## C-BiGRU + Word2Vec Twitter Embeddings"
   ]
  },
  {
   "cell_type": "markdown",
   "id": "e5bdcba0",
   "metadata": {},
   "source": [
    "### Pipeline"
   ]
  },
  {
   "cell_type": "code",
   "execution_count": 25,
   "id": "c27db34b",
   "metadata": {},
   "outputs": [
    {
     "data": {
      "text/plain": [
       "{'Tokenize': TweetTokenize(),\n",
       " 'W2V': Word2VecTwitter(transformTo='concat'),\n",
       " 'Pad': Padding(seq_length=150),\n",
       " 'net': CBiGRU_classifier(\n",
       " \tmodel=<function CBiGRU_model at 0x7fe26f7e3dc0>\n",
       " \tbuild_fn=None\n",
       " \twarm_start=False\n",
       " \trandom_state=42\n",
       " \toptimizer=adam\n",
       " \tloss=binary_crossentropy\n",
       " \tmetrics=['accuracy']\n",
       " \tbatch_size=32\n",
       " \tvalidation_batch_size=None\n",
       " \tverbose=1\n",
       " \tcallbacks=[<keras.callbacks.EarlyStopping object at 0x7fe26f7debe0>]\n",
       " \tvalidation_split=0.1\n",
       " \tshuffle=True\n",
       " \trun_eagerly=False\n",
       " \tepochs=5\n",
       " \tclass_weight=None\n",
       " )}"
      ]
     },
     "execution_count": 25,
     "metadata": {},
     "output_type": "execute_result"
    }
   ],
   "source": [
    "objs_CBiGRU = [(\"Tokenize\", TweetTokenize()),\n",
    "        (\"W2V\", Word2VecTwitter(transformTo=\"concat\")),\n",
    "        (\"Pad\", Padding(seq_length=150)),\n",
    "        (\"net\", CBiGRU_classifier())\n",
    "              ] \n",
    "pipe_CBiGRU = Pipeline(objs_CBiGRU)\n",
    "\n",
    "pipe_CBiGRU.named_steps"
   ]
  },
  {
   "cell_type": "markdown",
   "id": "90ba7eae",
   "metadata": {},
   "source": [
    "### Cross validation"
   ]
  },
  {
   "cell_type": "code",
   "execution_count": 27,
   "id": "91e9b724",
   "metadata": {},
   "outputs": [],
   "source": [
    "pipe_CBiGRU.set_params(net__verbose=0)\n",
    "pipe_CBiGRU.set_params(net__class_weight = class_weights)\n",
    "cv = CustomCrossValidation.split(X=x_train, y=y_train, groups=groups)\n",
    "cv_results_CBiGRU = cross_validate(pipe_CBiGRU,\n",
    "                                   x_train,\n",
    "                                   y_train,\n",
    "                                   groups = groups,\n",
    "                                   cv=cv,\n",
    "                                   n_jobs = 3,\n",
    "                                   scoring=[\"average_precision\", \"f1_macro\"])"
   ]
  },
  {
   "cell_type": "code",
   "execution_count": 28,
   "id": "b5583326",
   "metadata": {},
   "outputs": [
    {
     "name": "stdout",
     "output_type": "stream",
     "text": [
      "F1_Macro: Mean-0.873, std-0.032\n",
      "Average Precision: Mean-0.898, std-0.039\n"
     ]
    }
   ],
   "source": [
    "print(\"F1_Macro: Mean-%.3f, std-%.3f\"%(np.mean(cv_results_CBiGRU[\"test_f1_macro\"]), np.std(cv_results_CBiGRU[\"test_f1_macro\"])))\n",
    "print(\"Average Precision: Mean-%.3f, std-%.3f\"%(np.mean(cv_results_CBiGRU[\"test_average_precision\"]), np.std(cv_results_CBiGRU[\"test_average_precision\"])))"
   ]
  },
  {
   "cell_type": "code",
   "execution_count": 29,
   "id": "86c1ee3c",
   "metadata": {},
   "outputs": [],
   "source": [
    "results = pd.DataFrame(cv_results_CBiGRU)[[\"test_average_precision\", \"test_f1_macro\"]]\n",
    "results.rename(columns={\"test_average_precision\": \"Average Precision\", \"test_f1_macro\": \"F1 Macro\"}, inplace=True)\n",
    "results.to_csv(Path.joinpath(results_dir, \"Word2Vec_Twitter_CBiGRU.csv\"), index=False)"
   ]
  },
  {
   "cell_type": "markdown",
   "id": "4d641684",
   "metadata": {},
   "source": [
    "## C-BiGRU + FastText Twitter Embeddings"
   ]
  },
  {
   "cell_type": "markdown",
   "id": "466a8c20",
   "metadata": {},
   "source": [
    "### Pipeline"
   ]
  },
  {
   "cell_type": "code",
   "execution_count": 30,
   "id": "d696c339",
   "metadata": {},
   "outputs": [
    {
     "data": {
      "text/plain": [
       "{'Tokenize': TweetTokenize(),\n",
       " 'W2V': FasttextTwitter(transformTo='concat'),\n",
       " 'Pad': Padding(seq_length=150),\n",
       " 'net': CBiGRU_classifier(\n",
       " \tmodel=<function CBiGRU_model at 0x7fe26f7e3dc0>\n",
       " \tbuild_fn=None\n",
       " \twarm_start=False\n",
       " \trandom_state=42\n",
       " \toptimizer=adam\n",
       " \tloss=binary_crossentropy\n",
       " \tmetrics=['accuracy']\n",
       " \tbatch_size=32\n",
       " \tvalidation_batch_size=None\n",
       " \tverbose=1\n",
       " \tcallbacks=[<keras.callbacks.EarlyStopping object at 0x7fe26f7debe0>]\n",
       " \tvalidation_split=0.1\n",
       " \tshuffle=True\n",
       " \trun_eagerly=False\n",
       " \tepochs=5\n",
       " \tclass_weight=None\n",
       " )}"
      ]
     },
     "execution_count": 30,
     "metadata": {},
     "output_type": "execute_result"
    }
   ],
   "source": [
    "objs_CBiGRU = [(\"Tokenize\", TweetTokenize()),\n",
    "        (\"W2V\", FasttextTwitter(transformTo=\"concat\")),\n",
    "        (\"Pad\", Padding(seq_length=150)),\n",
    "        (\"net\", CBiGRU_classifier())\n",
    "              ] \n",
    "pipe_CBiGRU = Pipeline(objs_CBiGRU)\n",
    "\n",
    "pipe_CBiGRU.named_steps"
   ]
  },
  {
   "cell_type": "markdown",
   "id": "1f29e18f",
   "metadata": {},
   "source": [
    "### Cross validation"
   ]
  },
  {
   "cell_type": "code",
   "execution_count": 31,
   "id": "f0cdb570",
   "metadata": {},
   "outputs": [
    {
     "name": "stderr",
     "output_type": "stream",
     "text": [
      "Warning : `load_model` does not return WordVectorModel or SupervisedModel any more, but a `FastText` object which is very similar.\n",
      "Warning : `load_model` does not return WordVectorModel or SupervisedModel any more, but a `FastText` object which is very similar.\n",
      "Warning : `load_model` does not return WordVectorModel or SupervisedModel any more, but a `FastText` object which is very similar.\n",
      "Warning : `load_model` does not return WordVectorModel or SupervisedModel any more, but a `FastText` object which is very similar.\n",
      "Warning : `load_model` does not return WordVectorModel or SupervisedModel any more, but a `FastText` object which is very similar.\n",
      "Warning : `load_model` does not return WordVectorModel or SupervisedModel any more, but a `FastText` object which is very similar.\n",
      "Warning : `load_model` does not return WordVectorModel or SupervisedModel any more, but a `FastText` object which is very similar.\n",
      "Warning : `load_model` does not return WordVectorModel or SupervisedModel any more, but a `FastText` object which is very similar.\n",
      "Warning : `load_model` does not return WordVectorModel or SupervisedModel any more, but a `FastText` object which is very similar.\n",
      "Warning : `load_model` does not return WordVectorModel or SupervisedModel any more, but a `FastText` object which is very similar.\n",
      "Warning : `load_model` does not return WordVectorModel or SupervisedModel any more, but a `FastText` object which is very similar.\n",
      "Warning : `load_model` does not return WordVectorModel or SupervisedModel any more, but a `FastText` object which is very similar.\n",
      "Warning : `load_model` does not return WordVectorModel or SupervisedModel any more, but a `FastText` object which is very similar.\n",
      "Warning : `load_model` does not return WordVectorModel or SupervisedModel any more, but a `FastText` object which is very similar.\n",
      "Warning : `load_model` does not return WordVectorModel or SupervisedModel any more, but a `FastText` object which is very similar.\n",
      "Warning : `load_model` does not return WordVectorModel or SupervisedModel any more, but a `FastText` object which is very similar.\n",
      "Warning : `load_model` does not return WordVectorModel or SupervisedModel any more, but a `FastText` object which is very similar.\n",
      "Warning : `load_model` does not return WordVectorModel or SupervisedModel any more, but a `FastText` object which is very similar.\n",
      "Warning : `load_model` does not return WordVectorModel or SupervisedModel any more, but a `FastText` object which is very similar.\n",
      "Warning : `load_model` does not return WordVectorModel or SupervisedModel any more, but a `FastText` object which is very similar.\n",
      "Warning : `load_model` does not return WordVectorModel or SupervisedModel any more, but a `FastText` object which is very similar.\n",
      "Warning : `load_model` does not return WordVectorModel or SupervisedModel any more, but a `FastText` object which is very similar.\n",
      "Warning : `load_model` does not return WordVectorModel or SupervisedModel any more, but a `FastText` object which is very similar.\n",
      "Warning : `load_model` does not return WordVectorModel or SupervisedModel any more, but a `FastText` object which is very similar.\n",
      "Warning : `load_model` does not return WordVectorModel or SupervisedModel any more, but a `FastText` object which is very similar.\n",
      "Warning : `load_model` does not return WordVectorModel or SupervisedModel any more, but a `FastText` object which is very similar.\n",
      "Warning : `load_model` does not return WordVectorModel or SupervisedModel any more, but a `FastText` object which is very similar.\n",
      "Warning : `load_model` does not return WordVectorModel or SupervisedModel any more, but a `FastText` object which is very similar.\n",
      "Warning : `load_model` does not return WordVectorModel or SupervisedModel any more, but a `FastText` object which is very similar.\n",
      "Warning : `load_model` does not return WordVectorModel or SupervisedModel any more, but a `FastText` object which is very similar.\n",
      "Warning : `load_model` does not return WordVectorModel or SupervisedModel any more, but a `FastText` object which is very similar.\n",
      "Warning : `load_model` does not return WordVectorModel or SupervisedModel any more, but a `FastText` object which is very similar.\n",
      "Warning : `load_model` does not return WordVectorModel or SupervisedModel any more, but a `FastText` object which is very similar.\n",
      "Warning : `load_model` does not return WordVectorModel or SupervisedModel any more, but a `FastText` object which is very similar.\n",
      "Warning : `load_model` does not return WordVectorModel or SupervisedModel any more, but a `FastText` object which is very similar.\n",
      "Warning : `load_model` does not return WordVectorModel or SupervisedModel any more, but a `FastText` object which is very similar.\n",
      "Warning : `load_model` does not return WordVectorModel or SupervisedModel any more, but a `FastText` object which is very similar.\n",
      "Warning : `load_model` does not return WordVectorModel or SupervisedModel any more, but a `FastText` object which is very similar.\n",
      "Warning : `load_model` does not return WordVectorModel or SupervisedModel any more, but a `FastText` object which is very similar.\n",
      "Warning : `load_model` does not return WordVectorModel or SupervisedModel any more, but a `FastText` object which is very similar.\n",
      "Warning : `load_model` does not return WordVectorModel or SupervisedModel any more, but a `FastText` object which is very similar.\n",
      "Warning : `load_model` does not return WordVectorModel or SupervisedModel any more, but a `FastText` object which is very similar.\n",
      "Warning : `load_model` does not return WordVectorModel or SupervisedModel any more, but a `FastText` object which is very similar.\n",
      "Warning : `load_model` does not return WordVectorModel or SupervisedModel any more, but a `FastText` object which is very similar.\n",
      "Warning : `load_model` does not return WordVectorModel or SupervisedModel any more, but a `FastText` object which is very similar.\n",
      "Warning : `load_model` does not return WordVectorModel or SupervisedModel any more, but a `FastText` object which is very similar.\n",
      "Warning : `load_model` does not return WordVectorModel or SupervisedModel any more, but a `FastText` object which is very similar.\n",
      "Warning : `load_model` does not return WordVectorModel or SupervisedModel any more, but a `FastText` object which is very similar.\n",
      "Warning : `load_model` does not return WordVectorModel or SupervisedModel any more, but a `FastText` object which is very similar.\n",
      "Warning : `load_model` does not return WordVectorModel or SupervisedModel any more, but a `FastText` object which is very similar.\n",
      "Warning : `load_model` does not return WordVectorModel or SupervisedModel any more, but a `FastText` object which is very similar.\n",
      "Warning : `load_model` does not return WordVectorModel or SupervisedModel any more, but a `FastText` object which is very similar.\n",
      "Warning : `load_model` does not return WordVectorModel or SupervisedModel any more, but a `FastText` object which is very similar.\n",
      "Warning : `load_model` does not return WordVectorModel or SupervisedModel any more, but a `FastText` object which is very similar.\n",
      "Warning : `load_model` does not return WordVectorModel or SupervisedModel any more, but a `FastText` object which is very similar.\n",
      "Warning : `load_model` does not return WordVectorModel or SupervisedModel any more, but a `FastText` object which is very similar.\n",
      "Warning : `load_model` does not return WordVectorModel or SupervisedModel any more, but a `FastText` object which is very similar.\n",
      "Warning : `load_model` does not return WordVectorModel or SupervisedModel any more, but a `FastText` object which is very similar.\n",
      "Warning : `load_model` does not return WordVectorModel or SupervisedModel any more, but a `FastText` object which is very similar.\n",
      "Warning : `load_model` does not return WordVectorModel or SupervisedModel any more, but a `FastText` object which is very similar.\n",
      "Warning : `load_model` does not return WordVectorModel or SupervisedModel any more, but a `FastText` object which is very similar.\n",
      "Warning : `load_model` does not return WordVectorModel or SupervisedModel any more, but a `FastText` object which is very similar.\n",
      "Warning : `load_model` does not return WordVectorModel or SupervisedModel any more, but a `FastText` object which is very similar.\n"
     ]
    },
    {
     "name": "stderr",
     "output_type": "stream",
     "text": [
      "Warning : `load_model` does not return WordVectorModel or SupervisedModel any more, but a `FastText` object which is very similar.\n",
      "Warning : `load_model` does not return WordVectorModel or SupervisedModel any more, but a `FastText` object which is very similar.\n",
      "Warning : `load_model` does not return WordVectorModel or SupervisedModel any more, but a `FastText` object which is very similar.\n",
      "Warning : `load_model` does not return WordVectorModel or SupervisedModel any more, but a `FastText` object which is very similar.\n",
      "Warning : `load_model` does not return WordVectorModel or SupervisedModel any more, but a `FastText` object which is very similar.\n",
      "Warning : `load_model` does not return WordVectorModel or SupervisedModel any more, but a `FastText` object which is very similar.\n",
      "Warning : `load_model` does not return WordVectorModel or SupervisedModel any more, but a `FastText` object which is very similar.\n",
      "Warning : `load_model` does not return WordVectorModel or SupervisedModel any more, but a `FastText` object which is very similar.\n",
      "Warning : `load_model` does not return WordVectorModel or SupervisedModel any more, but a `FastText` object which is very similar.\n",
      "Warning : `load_model` does not return WordVectorModel or SupervisedModel any more, but a `FastText` object which is very similar.\n",
      "Warning : `load_model` does not return WordVectorModel or SupervisedModel any more, but a `FastText` object which is very similar.\n",
      "Warning : `load_model` does not return WordVectorModel or SupervisedModel any more, but a `FastText` object which is very similar.\n",
      "Warning : `load_model` does not return WordVectorModel or SupervisedModel any more, but a `FastText` object which is very similar.\n",
      "Warning : `load_model` does not return WordVectorModel or SupervisedModel any more, but a `FastText` object which is very similar.\n",
      "Warning : `load_model` does not return WordVectorModel or SupervisedModel any more, but a `FastText` object which is very similar.\n",
      "Warning : `load_model` does not return WordVectorModel or SupervisedModel any more, but a `FastText` object which is very similar.\n",
      "Warning : `load_model` does not return WordVectorModel or SupervisedModel any more, but a `FastText` object which is very similar.\n",
      "Warning : `load_model` does not return WordVectorModel or SupervisedModel any more, but a `FastText` object which is very similar.\n",
      "Warning : `load_model` does not return WordVectorModel or SupervisedModel any more, but a `FastText` object which is very similar.\n",
      "Warning : `load_model` does not return WordVectorModel or SupervisedModel any more, but a `FastText` object which is very similar.\n",
      "Warning : `load_model` does not return WordVectorModel or SupervisedModel any more, but a `FastText` object which is very similar.\n",
      "Warning : `load_model` does not return WordVectorModel or SupervisedModel any more, but a `FastText` object which is very similar.\n",
      "Warning : `load_model` does not return WordVectorModel or SupervisedModel any more, but a `FastText` object which is very similar.\n",
      "Warning : `load_model` does not return WordVectorModel or SupervisedModel any more, but a `FastText` object which is very similar.\n",
      "Warning : `load_model` does not return WordVectorModel or SupervisedModel any more, but a `FastText` object which is very similar.\n",
      "Warning : `load_model` does not return WordVectorModel or SupervisedModel any more, but a `FastText` object which is very similar.\n",
      "Warning : `load_model` does not return WordVectorModel or SupervisedModel any more, but a `FastText` object which is very similar.\n",
      "Warning : `load_model` does not return WordVectorModel or SupervisedModel any more, but a `FastText` object which is very similar.\n",
      "Warning : `load_model` does not return WordVectorModel or SupervisedModel any more, but a `FastText` object which is very similar.\n",
      "Warning : `load_model` does not return WordVectorModel or SupervisedModel any more, but a `FastText` object which is very similar.\n",
      "Warning : `load_model` does not return WordVectorModel or SupervisedModel any more, but a `FastText` object which is very similar.\n",
      "Warning : `load_model` does not return WordVectorModel or SupervisedModel any more, but a `FastText` object which is very similar.\n",
      "Warning : `load_model` does not return WordVectorModel or SupervisedModel any more, but a `FastText` object which is very similar.\n",
      "Warning : `load_model` does not return WordVectorModel or SupervisedModel any more, but a `FastText` object which is very similar.\n",
      "Warning : `load_model` does not return WordVectorModel or SupervisedModel any more, but a `FastText` object which is very similar.\n",
      "Warning : `load_model` does not return WordVectorModel or SupervisedModel any more, but a `FastText` object which is very similar.\n",
      "Warning : `load_model` does not return WordVectorModel or SupervisedModel any more, but a `FastText` object which is very similar.\n"
     ]
    }
   ],
   "source": [
    "pipe_CBiGRU.set_params(net__verbose=0)\n",
    "pipe_CBiGRU.set_params(net__class_weight = class_weights)\n",
    "cv = CustomCrossValidation.split(X=x_train, y=y_train, groups=groups)\n",
    "cv_results_CBiGRU = cross_validate(pipe_CBiGRU,\n",
    "                                   x_train,\n",
    "                                   y_train,\n",
    "                                   groups = groups,\n",
    "                                   cv=cv,\n",
    "                                   scoring=[\"average_precision\", \"f1_macro\"])"
   ]
  },
  {
   "cell_type": "code",
   "execution_count": 32,
   "id": "0633aaab",
   "metadata": {},
   "outputs": [
    {
     "name": "stdout",
     "output_type": "stream",
     "text": [
      "F1_Macro: Mean-0.865, std-0.035\n",
      "Average Precision: Mean-0.894, std-0.040\n"
     ]
    }
   ],
   "source": [
    "print(\"F1_Macro: Mean-%.3f, std-%.3f\"%(np.mean(cv_results_CBiGRU[\"test_f1_macro\"]), np.std(cv_results_CBiGRU[\"test_f1_macro\"])))\n",
    "print(\"Average Precision: Mean-%.3f, std-%.3f\"%(np.mean(cv_results_CBiGRU[\"test_average_precision\"]), np.std(cv_results_CBiGRU[\"test_average_precision\"])))"
   ]
  },
  {
   "cell_type": "code",
   "execution_count": 33,
   "id": "c84db2a6",
   "metadata": {},
   "outputs": [],
   "source": [
    "results = pd.DataFrame(cv_results_CBiGRU)[[\"test_average_precision\", \"test_f1_macro\"]]\n",
    "results.rename(columns={\"test_average_precision\": \"Average Precision\", \"test_f1_macro\": \"F1 Macro\"}, inplace=True)\n",
    "results.to_csv(Path.joinpath(results_dir, \"FastText_Twitter_CBiGRU.csv\"), index=False)"
   ]
  },
  {
   "cell_type": "markdown",
   "id": "8704b6d0",
   "metadata": {},
   "source": [
    "# Hypothesis Test"
   ]
  },
  {
   "cell_type": "markdown",
   "id": "11486d18",
   "metadata": {},
   "source": [
    "## Average Precision"
   ]
  },
  {
   "cell_type": "code",
   "execution_count": 6,
   "id": "b407987d",
   "metadata": {},
   "outputs": [
    {
     "name": "stdout",
     "output_type": "stream",
     "text": [
      "Glove_Twitter_Embeddings_CBiGRU\n",
      "P Value: 3.4974613403653255e-07\n",
      "Difference between mean performance is probably real\n",
      "------------------------------------------------------\n",
      "Glove_Common_Crawl_Embeddings_CNN\n",
      "P Value: 0.6183738858907653\n",
      "Algorithms probably have the same performance\n",
      "------------------------------------------------------\n",
      "FastText_Twitter_CBiGRU\n",
      "P Value: 0.000402518399170307\n",
      "Difference between mean performance is probably real\n",
      "------------------------------------------------------\n",
      "Word2Vec_Twitter_CNN\n",
      "P Value: 0.16054898922298722\n",
      "Algorithms probably have the same performance\n",
      "------------------------------------------------------\n",
      "Word2Vec_Twitter_CBiGRU\n",
      "P Value: 0.005944692146167918\n",
      "Difference between mean performance is probably real\n",
      "------------------------------------------------------\n",
      "Glove_Common_Crawl_Embeddings_CBiGRU\n",
      "P Value: 7.602165197370386e-06\n",
      "Difference between mean performance is probably real\n",
      "------------------------------------------------------\n",
      "Glove_Twitter_Embeddings_CNN\n",
      "P Value: 0.7672324333100012\n",
      "Algorithms probably have the same performance\n",
      "------------------------------------------------------\n",
      "FastText_Twitter_CNN\n",
      "P Value: 0.19068532885417713\n",
      "Algorithms probably have the same performance\n",
      "------------------------------------------------------\n"
     ]
    }
   ],
   "source": [
    "SVM_results = pd.read_csv(Path.joinpath(results_dir, \"SVM_TFIDF.csv\"))\n",
    "\n",
    "for i, file in enumerate(os.listdir(results_dir)):\n",
    "    if \"SVM\" not in file:\n",
    "        other_results = pd.read_csv(Path.joinpath(results_dir, file))\n",
    "        print(file.replace(\".csv\",\"\"))\n",
    "\n",
    "        ttest = stats.ttest_ind(SVM_results[\"Average Precision\"], other_results[\"Average Precision\"])\n",
    "        print(\"P Value:\", ttest.pvalue)\n",
    "\n",
    "        # interpret the result\n",
    "        if ttest.pvalue <= 0.05:\n",
    "            print('Difference between mean performance is probably real')\n",
    "        else:\n",
    "            print('Algorithms probably have the same performance')\n",
    "        print(\"------------------------------------------------------\")"
   ]
  },
  {
   "cell_type": "markdown",
   "id": "07e443f8",
   "metadata": {},
   "source": [
    "## F1 Macro"
   ]
  },
  {
   "cell_type": "code",
   "execution_count": 7,
   "id": "68784593",
   "metadata": {},
   "outputs": [
    {
     "name": "stdout",
     "output_type": "stream",
     "text": [
      "Glove_Twitter_Embeddings_CBiGRU\n",
      "P Value: 3.847115731034427e-11\n",
      "Difference between mean performance is probably real\n",
      "------------------------------------------------------\n",
      "Glove_Common_Crawl_Embeddings_CNN\n",
      "P Value: 0.8646586629978569\n",
      "Algorithms probably have the same performance\n",
      "------------------------------------------------------\n",
      "FastText_Twitter_CBiGRU\n",
      "P Value: 5.116615514246095e-12\n",
      "Difference between mean performance is probably real\n",
      "------------------------------------------------------\n",
      "Word2Vec_Twitter_CNN\n",
      "P Value: 0.8888902929926505\n",
      "Algorithms probably have the same performance\n",
      "------------------------------------------------------\n",
      "Word2Vec_Twitter_CBiGRU\n",
      "P Value: 2.5512022408147816e-08\n",
      "Difference between mean performance is probably real\n",
      "------------------------------------------------------\n",
      "Glove_Common_Crawl_Embeddings_CBiGRU\n",
      "P Value: 1.2257158521979356e-08\n",
      "Difference between mean performance is probably real\n",
      "------------------------------------------------------\n",
      "Glove_Twitter_Embeddings_CNN\n",
      "P Value: 0.5620990643432402\n",
      "Algorithms probably have the same performance\n",
      "------------------------------------------------------\n",
      "FastText_Twitter_CNN\n",
      "P Value: 0.4929521606067213\n",
      "Algorithms probably have the same performance\n",
      "------------------------------------------------------\n"
     ]
    }
   ],
   "source": [
    "SVM_results = pd.read_csv(Path.joinpath(results_dir, \"SVM_TFIDF.csv\"))\n",
    "\n",
    "for i, file in enumerate(os.listdir(results_dir)):\n",
    "    if \"SVM\" not in file:\n",
    "        other_results = pd.read_csv(Path.joinpath(results_dir, file))\n",
    "        print(file.replace(\".csv\",\"\"))\n",
    "\n",
    "        ttest = stats.ttest_ind(SVM_results[\"F1 Macro\"], other_results[\"F1 Macro\"])\n",
    "        print(\"P Value:\", ttest.pvalue)\n",
    "\n",
    "        # interpret the result\n",
    "        if ttest.pvalue <= 0.05:\n",
    "            print('Difference between mean performance is probably real')\n",
    "        else:\n",
    "            print('Algorithms probably have the same performance')\n",
    "        print(\"------------------------------------------------------\")"
   ]
  },
  {
   "cell_type": "markdown",
   "id": "4500571a",
   "metadata": {},
   "source": [
    "# Plots"
   ]
  },
  {
   "cell_type": "code",
   "execution_count": 4,
   "id": "ccf0fc37",
   "metadata": {},
   "outputs": [],
   "source": [
    "data = pd.DataFrame(columns=[\"x_axis\",\"Average Precision\", \"F1 Macro\", \"Experiments\", \"Model\"])\n",
    "for i, file in enumerate(os.listdir(results_dir)):\n",
    "        data_sample = pd.read_csv(Path.joinpath(results_dir, file))\n",
    "        if \"CNN\" in file:\n",
    "            data_sample[\"Model\"] = \"CNN\"\n",
    "            file = file.replace(\"CNN\", \"\")\n",
    "        elif \"CBiGRU\" in file:\n",
    "            data_sample[\"Model\"] = \"C-BiGRU\"\n",
    "            file = file.replace(\"CBiGRU\", \"\")\n",
    "        else: data_sample[\"Model\"] = \"SVM\"\n",
    "        data_sample[\"Experiments\"] = file.replace(\"_\", \"\\n\").replace(\".csv\",\"\")\n",
    "        data_sample[\"x_axis\"]=i\n",
    "        data = pd.concat([data, data_sample[[\"x_axis\",\"Average Precision\", \"F1 Macro\", \"Experiments\", \"Model\"]]])\n",
    "        \n",
    "data = data.astype({\"Experiments\":\"category\", \"Model\":\"category\", \"x_axis\": \"category\", \"F1 Macro\":\"float64\", \"Average Precision\":\"float64\"})"
   ]
  },
  {
   "cell_type": "code",
   "execution_count": 5,
   "id": "4064d72d",
   "metadata": {},
   "outputs": [],
   "source": [
    "grp = data.groupby(['Model', 'Experiments'])['Average Precision'].mean().sort_values().iloc[::-1]\n",
    "grp_index = grp[~grp.isna()].index \n",
    "seen = set()\n",
    "seen_add = seen.add\n",
    "order = [x[1] for x in grp_index if not (x[1] in seen or seen_add(x[1]))][::-1]"
   ]
  },
  {
   "cell_type": "code",
   "execution_count": 6,
   "id": "4ca5b9b1",
   "metadata": {},
   "outputs": [
    {
     "data": {
      "image/png": "[encoded data removed]",
      "text/plain": [
       "<Figure size 437.875x360 with 1 Axes>"
      ]
     },
     "metadata": {},
     "output_type": "display_data"
    }
   ],
   "source": [
    "sns.set_style(\"darkgrid\")\n",
    " \n",
    "g = sns.catplot(x=\"Experiments\", y=\"Average Precision\",\n",
    "               data=data, kind=\"violin\", hue=\"Model\", order=order)\n",
    "\n",
    "for ax in g.axes.flat:\n",
    "    ax.get_xaxis().set_minor_locator(AutoMinorLocator())\n",
    "    ax.get_yaxis().set_minor_locator(AutoMinorLocator())\n",
    "    ax.grid(visible=True, which='major', color='w', linewidth=1.0)\n",
    "    ax.grid(visible=True, which='minor', color='w', linewidth=0.5)\n",
    "\n",
    "xlabel('Dataset', fontsize=12, fontweight='bold')\n",
    "ylabel('Average Precision', fontsize=12, fontweight='bold')\n",
    "plt.savefig(Path.joinpath(results_plot, \"Incidence detection on same city - Binary.pdf\"))\n",
    "plt.show()"
   ]
  },
  {
   "cell_type": "code",
   "execution_count": null,
   "id": "4ce3c90e",
   "metadata": {},
   "outputs": [],
   "source": []
  }
 ],
 "metadata": {
  "kernelspec": {
   "display_name": "Python 3 (ipykernel)",
   "language": "python",
   "name": "python3"
  },
  "language_info": {
   "codemirror_mode": {
    "name": "ipython",
    "version": 3
   },
   "file_extension": ".py",
   "mimetype": "text/x-python",
   "name": "python",
   "nbconvert_exporter": "python",
   "pygments_lexer": "ipython3",
   "version": "3.9.12"
  },
  "toc": {
   "base_numbering": 1,
   "nav_menu": {},
   "number_sections": true,
   "sideBar": true,
   "skip_h1_title": false,
   "title_cell": "Table of Contents",
   "title_sidebar": "Contents",
   "toc_cell": false,
   "toc_position": {},
   "toc_section_display": true,
   "toc_window_display": true
  }
 },
 "nbformat": 4,
 "nbformat_minor": 5
}
