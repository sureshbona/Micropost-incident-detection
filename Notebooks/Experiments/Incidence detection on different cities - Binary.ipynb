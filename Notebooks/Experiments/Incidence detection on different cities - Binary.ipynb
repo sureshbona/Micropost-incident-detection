{
 "cells": [
  {
   "cell_type": "markdown",
   "id": "3779ae23",
   "metadata": {},
   "source": [
    "# Imports"
   ]
  },
  {
   "cell_type": "markdown",
   "id": "df8687b0",
   "metadata": {},
   "source": [
    "## Packages"
   ]
  },
  {
   "cell_type": "code",
   "execution_count": 1,
   "id": "063dd7c6",
   "metadata": {},
   "outputs": [],
   "source": [
    "import os\n",
    "import pandas as pd\n",
    "import numpy as np\n",
    "import random\n",
    "import importlib\n",
    "from pathlib import Path\n",
    "from sklearn.model_selection import StratifiedKFold, LeavePGroupsOut, GridSearchCV, cross_validate\n",
    "from sklearn.pipeline import Pipeline\n",
    "from sklearn.preprocessing import LabelEncoder\n",
    "from sklearn.utils.class_weight import compute_class_weight\n",
    "from sklearn.feature_extraction.text import TfidfVectorizer\n",
    "from sklearn.svm import SVC\n",
    "import matplotlib.pyplot as plt\n",
    "from matplotlib.ticker import AutoMinorLocator\n",
    "from pylab import *\n",
    "import seaborn as sns\n",
    "import tensorflow as tf\n",
    "from scipy import stats\n",
    "from mlxtend.evaluate import paired_ttest_5x2cv\n",
    "\n",
    "pd.set_option(\"display.max_rows\", None, \"display.max_columns\", None)\n",
    "plt.rcParams['figure.facecolor']='white'\n",
    "os.environ['TF_CPP_MIN_LOG_LEVEL'] = '3'"
   ]
  },
  {
   "cell_type": "markdown",
   "id": "00197338",
   "metadata": {},
   "source": [
    "## Helpers"
   ]
  },
  {
   "cell_type": "code",
   "execution_count": 2,
   "id": "63716f8e",
   "metadata": {},
   "outputs": [
    {
     "name": "stderr",
     "output_type": "stream",
     "text": [
      "/root/anaconda3/envs/py39/lib/python3.9/site-packages/tqdm/auto.py:22: TqdmWarning: IProgress not found. Please update jupyter and ipywidgets. See https://ipywidgets.readthedocs.io/en/stable/user_install.html\n",
      "  from .autonotebook import tqdm as notebook_tqdm\n"
     ]
    }
   ],
   "source": [
    "import sys\n",
    "sys.path.append(\"../\")\n",
    "\n",
    "# glove preprocessings\n",
    "import Helpers.Glove_transform\n",
    "importlib.reload(Helpers.Glove_transform)\n",
    "from Helpers.Glove_transform import GloveTransform\n",
    "\n",
    "# Stanford tokenizer\n",
    "import Helpers.Stanford_Tokenizer\n",
    "importlib.reload(Helpers.Stanford_Tokenizer)\n",
    "from Helpers.Stanford_Tokenizer import StanfordTokenizer\n",
    "\n",
    "# Tweet tokenizer(from C-BiGRU paper)\n",
    "import Helpers.Tweet_Tokenizer\n",
    "importlib.reload(Helpers.Tweet_Tokenizer)\n",
    "from Helpers.Tweet_Tokenizer import TweetTokenize\n",
    "\n",
    "# glove embeddings\n",
    "import Helpers.Glove_twitter_embeddings\n",
    "importlib.reload(Helpers.Glove_twitter_embeddings)\n",
    "from Helpers.Glove_twitter_embeddings import GloveTwitterEmbeddings\n",
    "\n",
    "# glove common crawl\n",
    "import Helpers.Glove_CommonCrawl_embeddings\n",
    "importlib.reload(Helpers.Glove_CommonCrawl_embeddings)\n",
    "from Helpers.Glove_CommonCrawl_embeddings import GloveCommomCrawlEmbeddings\n",
    "\n",
    "# Word embedding(from C-BiGRU paper)\n",
    "import Helpers.Word2Vec_Twitter\n",
    "importlib.reload(Helpers.Word2Vec_Twitter)\n",
    "from Helpers.Word2Vec_Twitter import Word2VecTwitter\n",
    "\n",
    "# Fasttext embedding\n",
    "import Helpers.Fasttext_Twitter\n",
    "importlib.reload(Helpers.Fasttext_Twitter)\n",
    "from Helpers.Fasttext_Twitter import FasttextTwitter\n",
    "\n",
    "# Padding\n",
    "import Helpers.Padding\n",
    "importlib.reload(Helpers.Padding)\n",
    "from Helpers.Padding import Padding\n",
    "\n",
    "# Kears sklearn CNN classifier\n",
    "import Helpers.CNN_SciKeras_Classifier\n",
    "importlib.reload(Helpers.CNN_SciKeras_Classifier)\n",
    "from Helpers.CNN_SciKeras_Classifier import CNN_classifier\n",
    "\n",
    "# Kears sklearn CBiGRU classifier\n",
    "import Helpers.CBiGRU_SciKeras_Classifier\n",
    "importlib.reload(Helpers.CBiGRU_SciKeras_Classifier)\n",
    "from Helpers.CBiGRU_SciKeras_Classifier import CBiGRU_classifier"
   ]
  },
  {
   "cell_type": "markdown",
   "id": "6e971b55",
   "metadata": {},
   "source": [
    "# Directory to store results"
   ]
  },
  {
   "cell_type": "code",
   "execution_count": 3,
   "id": "954cb9a5",
   "metadata": {},
   "outputs": [],
   "source": [
    "results_dir = Path('../../results/iddc_binary')\n",
    "results_dir.mkdir(parents=True, exist_ok=True)\n",
    "\n",
    "results_plot = Path('../../results/plots')\n",
    "results_plot.mkdir(parents=True, exist_ok=True)"
   ]
  },
  {
   "cell_type": "markdown",
   "id": "eeb86989",
   "metadata": {},
   "source": [
    "# Dataset"
   ]
  },
  {
   "cell_type": "code",
   "execution_count": 3,
   "id": "6535cba4",
   "metadata": {},
   "outputs": [],
   "source": [
    "TwoCVTweets = \"../../Datasets/Incident-Related-Twitters/2CVTweets/\"\n",
    "\n",
    "data = pd.DataFrame(columns=[\"text\", \"label\", \"groups\"])\n",
    "\n",
    "for i, data_file in enumerate(os.listdir(TwoCVTweets)):\n",
    "    data_sample = pd.read_csv(TwoCVTweets + data_file, delimiter=\";\", names=[\"text\", \"label\"], encoding=\"ISO-8859-1\")\n",
    "    data_sample[\"groups\"] = i\n",
    "    data_sample.label = data_sample.label.map(dict(YES=1, NO=0))\n",
    "    data = pd.concat([data, data_sample])\n",
    "\n",
    "data.label = data.label.astype(\"int\")\n",
    "\n",
    "x_train, y_train = data.text, data.label\n",
    "groups = data.groups"
   ]
  },
  {
   "cell_type": "code",
   "execution_count": 4,
   "id": "32bb0067",
   "metadata": {},
   "outputs": [],
   "source": [
    "# label encoder\n",
    "le = LabelEncoder()\n",
    "y_train = le.fit_transform(y_train.values)"
   ]
  },
  {
   "cell_type": "markdown",
   "id": "c60396ea",
   "metadata": {},
   "source": [
    "## Class weights"
   ]
  },
  {
   "cell_type": "code",
   "execution_count": 5,
   "id": "651ad476",
   "metadata": {},
   "outputs": [
    {
     "data": {
      "text/plain": [
       "{0: 0.645151903154464, 1: 2.2223336006415395}"
      ]
     },
     "execution_count": 5,
     "metadata": {},
     "output_type": "execute_result"
    }
   ],
   "source": [
    "class_weights = compute_class_weight(\n",
    "                                        class_weight = \"balanced\",\n",
    "                                        classes = np.unique(y_train),\n",
    "                                        y = y_train      \n",
    "                                    )\n",
    "\n",
    "class_weights = dict(enumerate(class_weights))\n",
    "class_weights"
   ]
  },
  {
   "cell_type": "markdown",
   "id": "f3925f52",
   "metadata": {},
   "source": [
    "# Experiments"
   ]
  },
  {
   "cell_type": "markdown",
   "id": "3059707f",
   "metadata": {},
   "source": [
    "## SVM + TF-IDF"
   ]
  },
  {
   "cell_type": "markdown",
   "id": "d53d269f",
   "metadata": {},
   "source": [
    "### Pipeline"
   ]
  },
  {
   "cell_type": "code",
   "execution_count": 47,
   "id": "fa275e66",
   "metadata": {},
   "outputs": [
    {
     "data": {
      "text/plain": [
       "{'tfidf': TfidfVectorizer(), 'svm': SVC(kernel='linear')}"
      ]
     },
     "execution_count": 47,
     "metadata": {},
     "output_type": "execute_result"
    }
   ],
   "source": [
    "# Define component objects of our pipeline then create it!\n",
    "objs = [(\"tfidf\", TfidfVectorizer()),\n",
    "        (\"svm\", SVC(kernel=\"linear\"))]\n",
    "pipe = Pipeline(objs)\n",
    "pipe.named_steps"
   ]
  },
  {
   "cell_type": "markdown",
   "id": "d013e1d0",
   "metadata": {},
   "source": [
    "### Cross validation"
   ]
  },
  {
   "cell_type": "code",
   "execution_count": 48,
   "id": "30e08159",
   "metadata": {},
   "outputs": [],
   "source": [
    "cv = LeavePGroupsOut(n_groups=9)\n",
    "pipe.set_params(svm__C=100.0)\n",
    "pipe.set_params(tfidf__ngram_range=(1, 2))\n",
    "cv_results = cross_validate(pipe, \n",
    "                                x_train, y_train,\n",
    "                                groups=groups,\n",
    "                                cv=cv, \n",
    "                                n_jobs = -1,\n",
    "                                scoring=[\"average_precision\", \"f1_macro\"])"
   ]
  },
  {
   "cell_type": "code",
   "execution_count": 49,
   "id": "f22f7451",
   "metadata": {},
   "outputs": [
    {
     "name": "stdout",
     "output_type": "stream",
     "text": [
      "F1_Macro: Mean-0.820, std-0.034\n",
      "Average Precision: Mean-0.805, std-0.051\n"
     ]
    }
   ],
   "source": [
    "print(\"F1_Macro: Mean-%.3f, std-%.3f\"%(np.mean(cv_results[\"test_f1_macro\"]), np.std(cv_results[\"test_f1_macro\"])))\n",
    "print(\"Average Precision: Mean-%.3f, std-%.3f\"%(np.mean(cv_results[\"test_average_precision\"]), np.std(cv_results[\"test_average_precision\"])))"
   ]
  },
  {
   "cell_type": "code",
   "execution_count": 50,
   "id": "e014711f",
   "metadata": {},
   "outputs": [],
   "source": [
    "results = pd.DataFrame(cv_results)[[\"test_average_precision\", \"test_f1_macro\"]]\n",
    "results.rename(columns={\"test_average_precision\": \"Average Precision\", \"test_f1_macro\": \"F1 Macro\"}, inplace=True)\n",
    "results.to_csv(Path.joinpath(results_dir, \"SVM_TFIDF.csv\"), index=False)"
   ]
  },
  {
   "cell_type": "markdown",
   "id": "95e59c0b",
   "metadata": {},
   "source": [
    "## CNN + Glove Twitter Word Embeddings"
   ]
  },
  {
   "cell_type": "markdown",
   "id": "4884056d",
   "metadata": {},
   "source": [
    "### Pipeline"
   ]
  },
  {
   "cell_type": "code",
   "execution_count": 11,
   "id": "87ec4a04",
   "metadata": {},
   "outputs": [
    {
     "data": {
      "text/plain": [
       "{'Preprocess': GloveTransform(),\n",
       " 'Tokenize': StanfordTokenizer(),\n",
       " 'W2V': GloveTwitterEmbeddings(transformTo='concat'),\n",
       " 'Pad': Padding(),\n",
       " 'net': CNN_classifier(\n",
       " \tmodel=<function CNN_model at 0x7f97b30f6040>\n",
       " \tbuild_fn=None\n",
       " \twarm_start=False\n",
       " \trandom_state=42\n",
       " \toptimizer=<keras.optimizer_v2.adadelta.Adadelta object at 0x7f97b3111250>\n",
       " \tloss=binary_crossentropy\n",
       " \tmetrics=['accuracy']\n",
       " \tbatch_size=50\n",
       " \tvalidation_batch_size=None\n",
       " \tverbose=1\n",
       " \tcallbacks=None\n",
       " \tvalidation_split=0.1\n",
       " \tshuffle=True\n",
       " \trun_eagerly=False\n",
       " \tepochs=40\n",
       " \tclass_weight=None\n",
       " )}"
      ]
     },
     "execution_count": 11,
     "metadata": {},
     "output_type": "execute_result"
    }
   ],
   "source": [
    "objs_CNN = [\n",
    "     (\"Preprocess\", GloveTransform()),\n",
    "        (\"Tokenize\", StanfordTokenizer()),\n",
    "        (\"W2V\", GloveTwitterEmbeddings(transformTo=\"concat\")),\n",
    "        (\"Pad\", Padding()),\n",
    "        (\"net\", CNN_classifier())\n",
    "              ] \n",
    "pipe_CNN = Pipeline(objs_CNN)\n",
    "\n",
    "pipe_CNN.named_steps"
   ]
  },
  {
   "cell_type": "markdown",
   "id": "13657499",
   "metadata": {},
   "source": [
    "### Cross validation"
   ]
  },
  {
   "cell_type": "code",
   "execution_count": 12,
   "id": "fe5916d5",
   "metadata": {},
   "outputs": [],
   "source": [
    "pipe_CNN.set_params(net__verbose=0)\n",
    "cv = LeavePGroupsOut(n_groups=9)\n",
    "\n",
    "cv_results_CNN = cross_validate(pipe_CNN, \n",
    "                                x_train, y_train,\n",
    "                                groups = groups,\n",
    "                                cv=cv, \n",
    "                                n_jobs = -1,\n",
    "                                scoring=[\"average_precision\", \"f1_macro\"])"
   ]
  },
  {
   "cell_type": "code",
   "execution_count": 13,
   "id": "48b2262b",
   "metadata": {},
   "outputs": [
    {
     "name": "stdout",
     "output_type": "stream",
     "text": [
      "F1_Macro: Mean-0.827, std-0.038\n",
      "Average Precision: Mean-0.822, std-0.036\n"
     ]
    }
   ],
   "source": [
    "print(\"F1_Macro: Mean-%.3f, std-%.3f\"%(np.mean(cv_results_CNN[\"test_f1_macro\"]), np.std(cv_results_CNN[\"test_f1_macro\"])))\n",
    "print(\"Average Precision: Mean-%.3f, std-%.3f\"%(np.mean(cv_results_CNN[\"test_average_precision\"]), np.std(cv_results_CNN[\"test_average_precision\"])))"
   ]
  },
  {
   "cell_type": "code",
   "execution_count": 14,
   "id": "187b0ff3",
   "metadata": {},
   "outputs": [],
   "source": [
    "results = pd.DataFrame(cv_results_CNN)[[\"test_average_precision\", \"test_f1_macro\"]]\n",
    "results.rename(columns={\"test_average_precision\": \"Average Precision\", \"test_f1_macro\": \"F1 Macro\"}, inplace=True)\n",
    "results.to_csv(Path.joinpath(results_dir, \"Glove_Twitter_Embeddings_CNN.csv\"), index=False)"
   ]
  },
  {
   "cell_type": "markdown",
   "id": "c2dabd1c",
   "metadata": {},
   "source": [
    "### Hypothesis Test for Comparing SVM+TF-IDF and CNN+Glove"
   ]
  },
  {
   "cell_type": "code",
   "execution_count": 10,
   "id": "d1bf8f94",
   "metadata": {},
   "outputs": [
    {
     "name": "stdout",
     "output_type": "stream",
     "text": [
      "P Value: 0.4374815498777763\n",
      "Algorithms probably have the same performance\n"
     ]
    }
   ],
   "source": [
    "SVM_results = pd.read_csv(Path.joinpath(results_dir, \"SVM_TFIDF.csv\"))\n",
    "CNN_results = pd.read_csv(Path.joinpath(results_dir, \"Glove_Twitter_Embeddings_CNN.csv\"))\n",
    "\n",
    "ttest = stats.ttest_ind(SVM_results[\"Average Precision\"], CNN_results[\"Average Precision\"])\n",
    "print(\"P Value:\", ttest.pvalue)\n",
    "\n",
    "# interpret the result\n",
    "if ttest.pvalue <= 0.05:\n",
    "    print('Difference between mean performance is probably real')\n",
    "else:\n",
    "    print('Algorithms probably have the same performance')"
   ]
  },
  {
   "cell_type": "markdown",
   "id": "edc7e313",
   "metadata": {},
   "source": [
    "## CNN + Glove Common Crawl Word Embeddings"
   ]
  },
  {
   "cell_type": "markdown",
   "id": "e8504932",
   "metadata": {},
   "source": [
    "### Pipeline"
   ]
  },
  {
   "cell_type": "code",
   "execution_count": 15,
   "id": "f90e6463",
   "metadata": {},
   "outputs": [
    {
     "data": {
      "text/plain": [
       "{'Preprocess': GloveTransform(),\n",
       " 'Tokenize': StanfordTokenizer(),\n",
       " 'W2V': GloveCommomCrawlEmbeddings(transformTo='concat'),\n",
       " 'Pad': Padding(),\n",
       " 'net': CNN_classifier(\n",
       " \tmodel=<function CNN_model at 0x7f97b30f6040>\n",
       " \tbuild_fn=None\n",
       " \twarm_start=False\n",
       " \trandom_state=42\n",
       " \toptimizer=<keras.optimizer_v2.adadelta.Adadelta object at 0x7f97b3111250>\n",
       " \tloss=binary_crossentropy\n",
       " \tmetrics=['accuracy']\n",
       " \tbatch_size=50\n",
       " \tvalidation_batch_size=None\n",
       " \tverbose=1\n",
       " \tcallbacks=None\n",
       " \tvalidation_split=0.1\n",
       " \tshuffle=True\n",
       " \trun_eagerly=False\n",
       " \tepochs=40\n",
       " \tclass_weight=None\n",
       " )}"
      ]
     },
     "execution_count": 15,
     "metadata": {},
     "output_type": "execute_result"
    }
   ],
   "source": [
    "objs_CNN = [\n",
    "     (\"Preprocess\", GloveTransform()),\n",
    "        (\"Tokenize\", StanfordTokenizer()),\n",
    "        (\"W2V\", GloveCommomCrawlEmbeddings(transformTo=\"concat\")),\n",
    "        (\"Pad\", Padding()),\n",
    "        (\"net\", CNN_classifier())\n",
    "              ] \n",
    "pipe_CNN = Pipeline(objs_CNN)\n",
    "\n",
    "pipe_CNN.named_steps"
   ]
  },
  {
   "cell_type": "markdown",
   "id": "5124d15e",
   "metadata": {},
   "source": [
    "### Cross validation"
   ]
  },
  {
   "cell_type": "code",
   "execution_count": 16,
   "id": "6c2356fd",
   "metadata": {},
   "outputs": [],
   "source": [
    "pipe_CNN.set_params(net__verbose=0)\n",
    "cv = LeavePGroupsOut(n_groups=9)\n",
    "\n",
    "cv_results_CNN = cross_validate(pipe_CNN, \n",
    "                                x_train, y_train,\n",
    "                                groups = groups,\n",
    "                                cv=cv, \n",
    "                                n_jobs = -1,\n",
    "                                scoring=[\"average_precision\", \"f1_macro\"])"
   ]
  },
  {
   "cell_type": "code",
   "execution_count": 17,
   "id": "6f3e26fb",
   "metadata": {},
   "outputs": [
    {
     "name": "stdout",
     "output_type": "stream",
     "text": [
      "F1_Macro: Mean-0.816, std-0.038\n",
      "Average Precision: Mean-0.817, std-0.033\n"
     ]
    }
   ],
   "source": [
    "print(\"F1_Macro: Mean-%.3f, std-%.3f\"%(np.mean(cv_results_CNN[\"test_f1_macro\"]), np.std(cv_results_CNN[\"test_f1_macro\"])))\n",
    "print(\"Average Precision: Mean-%.3f, std-%.3f\"%(np.mean(cv_results_CNN[\"test_average_precision\"]), np.std(cv_results_CNN[\"test_average_precision\"])))"
   ]
  },
  {
   "cell_type": "code",
   "execution_count": 18,
   "id": "cb0b7a5a",
   "metadata": {},
   "outputs": [],
   "source": [
    "results = pd.DataFrame(cv_results_CNN)[[\"test_average_precision\", \"test_f1_macro\"]]\n",
    "results.rename(columns={\"test_average_precision\": \"Average Precision\", \"test_f1_macro\": \"F1 Macro\"}, inplace=True)\n",
    "results.to_csv(Path.joinpath(results_dir, \"Glove_Common_Crawl_Embeddings_CNN.csv\"), index=False)"
   ]
  },
  {
   "cell_type": "markdown",
   "id": "3fa87a81",
   "metadata": {},
   "source": [
    "### Hypothesis Test for Comparing SVM+TF-IDF and CNN + Glove Common Crawl"
   ]
  },
  {
   "cell_type": "code",
   "execution_count": 5,
   "id": "b44e3b8c",
   "metadata": {},
   "outputs": [
    {
     "name": "stdout",
     "output_type": "stream",
     "text": [
      "P Value: 0.5878548754128569\n",
      "Algorithms probably have the same performance\n"
     ]
    }
   ],
   "source": [
    "SVM_results = pd.read_csv(Path.joinpath(results_dir, \"SVM_TFIDF.csv\"))\n",
    "CNN_results = pd.read_csv(Path.joinpath(results_dir, \"Glove_Common_Crawl_Embeddings_CNN.csv\"))\n",
    "\n",
    "ttest = stats.ttest_ind(SVM_results[\"Average Precision\"], CNN_results[\"Average Precision\"])\n",
    "print(\"P Value:\", ttest.pvalue)\n",
    "\n",
    "# interpret the result\n",
    "if ttest.pvalue <= 0.05:\n",
    "    print('Difference between mean performance is probably real')\n",
    "else:\n",
    "    print('Algorithms probably have the same performance')"
   ]
  },
  {
   "cell_type": "markdown",
   "id": "717d4d7b",
   "metadata": {},
   "source": [
    "## CNN + Word2Vec Twitter Embeddings"
   ]
  },
  {
   "cell_type": "markdown",
   "id": "448bdca9",
   "metadata": {},
   "source": [
    "### Pipeline"
   ]
  },
  {
   "cell_type": "code",
   "execution_count": 19,
   "id": "3ff0aa69",
   "metadata": {},
   "outputs": [
    {
     "data": {
      "text/plain": [
       "{'Preprocess': GloveTransform(),\n",
       " 'Tokenize': StanfordTokenizer(),\n",
       " 'W2V': Word2VecTwitter(transformTo='concat'),\n",
       " 'Pad': Padding(),\n",
       " 'net': CNN_classifier(\n",
       " \tmodel=<function CNN_model at 0x7f97b30f6040>\n",
       " \tbuild_fn=None\n",
       " \twarm_start=False\n",
       " \trandom_state=42\n",
       " \toptimizer=<keras.optimizer_v2.adadelta.Adadelta object at 0x7f97b3111250>\n",
       " \tloss=binary_crossentropy\n",
       " \tmetrics=['accuracy']\n",
       " \tbatch_size=50\n",
       " \tvalidation_batch_size=None\n",
       " \tverbose=1\n",
       " \tcallbacks=None\n",
       " \tvalidation_split=0.1\n",
       " \tshuffle=True\n",
       " \trun_eagerly=False\n",
       " \tepochs=40\n",
       " \tclass_weight=None\n",
       " )}"
      ]
     },
     "execution_count": 19,
     "metadata": {},
     "output_type": "execute_result"
    }
   ],
   "source": [
    "objs_CNN = [\n",
    "     (\"Preprocess\", GloveTransform()),\n",
    "        (\"Tokenize\", StanfordTokenizer()),\n",
    "        (\"W2V\", Word2VecTwitter(transformTo=\"concat\")),\n",
    "        (\"Pad\", Padding()),\n",
    "        (\"net\", CNN_classifier())\n",
    "              ] \n",
    "pipe_CNN = Pipeline(objs_CNN)\n",
    "\n",
    "pipe_CNN.named_steps"
   ]
  },
  {
   "cell_type": "markdown",
   "id": "9f57a636",
   "metadata": {},
   "source": [
    "### Cross validation"
   ]
  },
  {
   "cell_type": "code",
   "execution_count": 20,
   "id": "b1f4c2a7",
   "metadata": {},
   "outputs": [],
   "source": [
    "pipe_CNN.set_params(net__verbose=0)\n",
    "cv = LeavePGroupsOut(n_groups=9)\n",
    "\n",
    "cv_results_CNN = cross_validate(pipe_CNN, \n",
    "                            x_train, \n",
    "                            y_train,\n",
    "                            groups = groups,\n",
    "                            cv=cv,\n",
    "                            n_jobs=-1,\n",
    "                            scoring=[\"average_precision\", \"f1_macro\"])"
   ]
  },
  {
   "cell_type": "code",
   "execution_count": 21,
   "id": "a5c81e8f",
   "metadata": {},
   "outputs": [
    {
     "name": "stdout",
     "output_type": "stream",
     "text": [
      "F1_Macro: Mean-0.835, std-0.029\n",
      "Average Precision: Mean-0.835, std-0.028\n"
     ]
    }
   ],
   "source": [
    "print(\"F1_Macro: Mean-%.3f, std-%.3f\"%(np.mean(cv_results_CNN[\"test_f1_macro\"]), np.std(cv_results_CNN[\"test_f1_macro\"])))\n",
    "print(\"Average Precision: Mean-%.3f, std-%.3f\"%(np.mean(cv_results_CNN[\"test_average_precision\"]), np.std(cv_results_CNN[\"test_average_precision\"])))"
   ]
  },
  {
   "cell_type": "code",
   "execution_count": 22,
   "id": "b9fb4230",
   "metadata": {},
   "outputs": [],
   "source": [
    "results = pd.DataFrame(cv_results_CNN)[[\"test_average_precision\", \"test_f1_macro\"]]\n",
    "results.rename(columns={\"test_average_precision\": \"Average Precision\", \"test_f1_macro\": \"F1 Macro\"}, inplace=True)\n",
    "results.to_csv(Path.joinpath(results_dir, \"Word2Vec_Twitter_CNN.csv\"), index=False)"
   ]
  },
  {
   "cell_type": "markdown",
   "id": "2ed0e147",
   "metadata": {},
   "source": [
    "## CNN + FastText Twitter Embeddings"
   ]
  },
  {
   "cell_type": "markdown",
   "id": "7a77efb6",
   "metadata": {},
   "source": [
    "### Pipeline"
   ]
  },
  {
   "cell_type": "code",
   "execution_count": 23,
   "id": "de21c148",
   "metadata": {},
   "outputs": [
    {
     "data": {
      "text/plain": [
       "{'Preprocess': GloveTransform(),\n",
       " 'Tokenize': StanfordTokenizer(),\n",
       " 'Fasttext': FasttextTwitter(transformTo='concat'),\n",
       " 'Pad': Padding(),\n",
       " 'net': CNN_classifier(\n",
       " \tmodel=<function CNN_model at 0x7f97b30f6040>\n",
       " \tbuild_fn=None\n",
       " \twarm_start=False\n",
       " \trandom_state=42\n",
       " \toptimizer=<keras.optimizer_v2.adadelta.Adadelta object at 0x7f97b3111250>\n",
       " \tloss=binary_crossentropy\n",
       " \tmetrics=['accuracy']\n",
       " \tbatch_size=50\n",
       " \tvalidation_batch_size=None\n",
       " \tverbose=1\n",
       " \tcallbacks=None\n",
       " \tvalidation_split=0.1\n",
       " \tshuffle=True\n",
       " \trun_eagerly=False\n",
       " \tepochs=40\n",
       " \tclass_weight=None\n",
       " )}"
      ]
     },
     "execution_count": 23,
     "metadata": {},
     "output_type": "execute_result"
    }
   ],
   "source": [
    "objs_CNN = [\n",
    "     (\"Preprocess\", GloveTransform()),\n",
    "        (\"Tokenize\", StanfordTokenizer()),\n",
    "        (\"Fasttext\", FasttextTwitter(transformTo=\"concat\")),\n",
    "        (\"Pad\", Padding()),\n",
    "        (\"net\", CNN_classifier())\n",
    "              ] \n",
    "pipe_CNN = Pipeline(objs_CNN)\n",
    "\n",
    "pipe_CNN.named_steps"
   ]
  },
  {
   "cell_type": "markdown",
   "id": "6ed1497c",
   "metadata": {},
   "source": [
    "### Cross validation"
   ]
  },
  {
   "cell_type": "code",
   "execution_count": 24,
   "id": "70f3b028",
   "metadata": {},
   "outputs": [
    {
     "name": "stderr",
     "output_type": "stream",
     "text": [
      "Warning : `load_model` does not return WordVectorModel or SupervisedModel any more, but a `FastText` object which is very similar.\n",
      "Warning : `load_model` does not return WordVectorModel or SupervisedModel any more, but a `FastText` object which is very similar.\n",
      "Warning : `load_model` does not return WordVectorModel or SupervisedModel any more, but a `FastText` object which is very similar.\n",
      "Warning : `load_model` does not return WordVectorModel or SupervisedModel any more, but a `FastText` object which is very similar.\n",
      "Warning : `load_model` does not return WordVectorModel or SupervisedModel any more, but a `FastText` object which is very similar.\n",
      "Warning : `load_model` does not return WordVectorModel or SupervisedModel any more, but a `FastText` object which is very similar.\n",
      "Warning : `load_model` does not return WordVectorModel or SupervisedModel any more, but a `FastText` object which is very similar.\n",
      "Warning : `load_model` does not return WordVectorModel or SupervisedModel any more, but a `FastText` object which is very similar.\n",
      "Warning : `load_model` does not return WordVectorModel or SupervisedModel any more, but a `FastText` object which is very similar.\n",
      "Warning : `load_model` does not return WordVectorModel or SupervisedModel any more, but a `FastText` object which is very similar.\n"
     ]
    }
   ],
   "source": [
    "cv = LeavePGroupsOut(n_groups=9)\n",
    "pipe_CNN.set_params(net__verbose=0)\n",
    "cv_results_CNN = cross_validate(pipe_CNN, \n",
    "                            x_train, \n",
    "                            y_train,\n",
    "                            groups = groups,\n",
    "                            cv=cv,\n",
    "                            n_jobs=2,\n",
    "                            scoring=[\"average_precision\", \"f1_macro\"])"
   ]
  },
  {
   "cell_type": "code",
   "execution_count": 25,
   "id": "50be8477",
   "metadata": {},
   "outputs": [
    {
     "name": "stdout",
     "output_type": "stream",
     "text": [
      "F1_Macro: Mean-0.834, std-0.034\n",
      "Average Precision: Mean-0.833, std-0.034\n"
     ]
    }
   ],
   "source": [
    "print(\"F1_Macro: Mean-%.3f, std-%.3f\"%(np.mean(cv_results_CNN[\"test_f1_macro\"]), np.std(cv_results_CNN[\"test_f1_macro\"])))\n",
    "print(\"Average Precision: Mean-%.3f, std-%.3f\"%(np.mean(cv_results_CNN[\"test_average_precision\"]), np.std(cv_results_CNN[\"test_average_precision\"])))"
   ]
  },
  {
   "cell_type": "code",
   "execution_count": 26,
   "id": "19db8e27",
   "metadata": {},
   "outputs": [],
   "source": [
    "results = pd.DataFrame(cv_results_CNN)[[\"test_average_precision\", \"test_f1_macro\"]]\n",
    "results.rename(columns={\"test_average_precision\": \"Average Precision\", \"test_f1_macro\": \"F1 Macro\"}, inplace=True)\n",
    "results.to_csv(Path.joinpath(results_dir, \"FastText_Twitter_CNN.csv\"), index=False)"
   ]
  },
  {
   "cell_type": "markdown",
   "id": "9fd9a20a",
   "metadata": {},
   "source": [
    "## C-BiGRU + Glove Twitter Word Embeddings"
   ]
  },
  {
   "cell_type": "markdown",
   "id": "d22e207b",
   "metadata": {},
   "source": [
    "### Pipeline"
   ]
  },
  {
   "cell_type": "code",
   "execution_count": 27,
   "id": "496539e4",
   "metadata": {},
   "outputs": [
    {
     "data": {
      "text/plain": [
       "{'Tokenize': TweetTokenize(),\n",
       " 'W2V': GloveTwitterEmbeddings(transformTo='concat'),\n",
       " 'Pad': Padding(seq_length=150),\n",
       " 'net': CBiGRU_classifier(\n",
       " \tmodel=<function CBiGRU_model at 0x7f97b310daf0>\n",
       " \tbuild_fn=None\n",
       " \twarm_start=False\n",
       " \trandom_state=42\n",
       " \toptimizer=adam\n",
       " \tloss=binary_crossentropy\n",
       " \tmetrics=['accuracy']\n",
       " \tbatch_size=32\n",
       " \tvalidation_batch_size=None\n",
       " \tverbose=1\n",
       " \tcallbacks=[<keras.callbacks.EarlyStopping object at 0x7f97b3111580>]\n",
       " \tvalidation_split=0.1\n",
       " \tshuffle=True\n",
       " \trun_eagerly=False\n",
       " \tepochs=5\n",
       " \tclass_weight=None\n",
       " )}"
      ]
     },
     "execution_count": 27,
     "metadata": {},
     "output_type": "execute_result"
    }
   ],
   "source": [
    "objs_CBiGRU = [(\"Tokenize\", TweetTokenize()),\n",
    "        (\"W2V\", GloveTwitterEmbeddings(transformTo=\"concat\")),\n",
    "        (\"Pad\", Padding(seq_length=150)),\n",
    "        (\"net\", CBiGRU_classifier())\n",
    "              ] \n",
    "pipe_CBiGRU = Pipeline(objs_CBiGRU)\n",
    "\n",
    "pipe_CBiGRU.named_steps"
   ]
  },
  {
   "cell_type": "markdown",
   "id": "48f94bd3",
   "metadata": {},
   "source": [
    "### Cross validation"
   ]
  },
  {
   "cell_type": "code",
   "execution_count": 28,
   "id": "ceb55d17",
   "metadata": {},
   "outputs": [],
   "source": [
    "pipe_CBiGRU.set_params(net__verbose=0)\n",
    "pipe_CBiGRU.set_params(net__class_weight = class_weights)\n",
    "cv = LeavePGroupsOut(n_groups=9)\n",
    "cv_results_CBiGRU = cross_validate(pipe_CBiGRU,\n",
    "                                   x_train,\n",
    "                                   y_train,\n",
    "                                   groups = groups,\n",
    "                                   cv=cv,\n",
    "                                   n_jobs = -1,\n",
    "                                   scoring=[\"average_precision\", \"f1_macro\"])"
   ]
  },
  {
   "cell_type": "code",
   "execution_count": 29,
   "id": "0f1c2099",
   "metadata": {},
   "outputs": [
    {
     "name": "stdout",
     "output_type": "stream",
     "text": [
      "F1_Macro: Mean-0.827, std-0.040\n",
      "Average Precision: Mean-0.820, std-0.033\n"
     ]
    }
   ],
   "source": [
    "print(\"F1_Macro: Mean-%.3f, std-%.3f\"%(np.mean(cv_results_CBiGRU[\"test_f1_macro\"]), np.std(cv_results_CBiGRU[\"test_f1_macro\"])))\n",
    "print(\"Average Precision: Mean-%.3f, std-%.3f\"%(np.mean(cv_results_CBiGRU[\"test_average_precision\"]), np.std(cv_results_CBiGRU[\"test_average_precision\"])))"
   ]
  },
  {
   "cell_type": "code",
   "execution_count": 30,
   "id": "9e9d80da",
   "metadata": {},
   "outputs": [],
   "source": [
    "results = pd.DataFrame(cv_results_CBiGRU)[[\"test_average_precision\", \"test_f1_macro\"]]\n",
    "results.rename(columns={\"test_average_precision\": \"Average Precision\", \"test_f1_macro\": \"F1 Macro\"}, inplace=True)\n",
    "results.to_csv(Path.joinpath(results_dir, \"Glove_Twitter_Embeddings_CBiGRU.csv\"), index=False)"
   ]
  },
  {
   "cell_type": "markdown",
   "id": "da7fab4e",
   "metadata": {},
   "source": [
    "### Hypothesis Test for Comparing CNN+Glove and C-BiGRU+Glove"
   ]
  },
  {
   "cell_type": "code",
   "execution_count": 11,
   "id": "fbfcfa62",
   "metadata": {},
   "outputs": [
    {
     "name": "stdout",
     "output_type": "stream",
     "text": [
      "Algorithms probably have the same performance\n"
     ]
    }
   ],
   "source": [
    "CNN_results = pd.read_csv(Path.joinpath(results_dir, \"Glove_Twitter_Embeddings_CNN.csv\"))\n",
    "CBiGRU_results = pd.read_csv(Path.joinpath(results_dir, \"Glove_Twitter_Embeddings_CBiGRU.csv\"))\n",
    "\n",
    "ttest = stats.ttest_ind(CBiGRU_results[\"Average Precision\"], CNN_results[\"Average Precision\"])\n",
    "\n",
    "# interpret the result\n",
    "if ttest.pvalue <= 0.05:\n",
    "    print('Difference between mean performance is probably real')\n",
    "else:\n",
    "    print('Algorithms probably have the same performance')"
   ]
  },
  {
   "cell_type": "markdown",
   "id": "f9faa771",
   "metadata": {},
   "source": [
    "## C-BiGRU + Glove Common Crawl Word Embeddings"
   ]
  },
  {
   "cell_type": "markdown",
   "id": "0ef703f5",
   "metadata": {},
   "source": [
    "### Pipeline"
   ]
  },
  {
   "cell_type": "code",
   "execution_count": 31,
   "id": "904339c6",
   "metadata": {},
   "outputs": [
    {
     "data": {
      "text/plain": [
       "{'Tokenize': TweetTokenize(),\n",
       " 'W2V': GloveCommomCrawlEmbeddings(transformTo='concat'),\n",
       " 'Pad': Padding(seq_length=150),\n",
       " 'net': CBiGRU_classifier(\n",
       " \tmodel=<function CBiGRU_model at 0x7f97b310daf0>\n",
       " \tbuild_fn=None\n",
       " \twarm_start=False\n",
       " \trandom_state=42\n",
       " \toptimizer=adam\n",
       " \tloss=binary_crossentropy\n",
       " \tmetrics=['accuracy']\n",
       " \tbatch_size=32\n",
       " \tvalidation_batch_size=None\n",
       " \tverbose=1\n",
       " \tcallbacks=[<keras.callbacks.EarlyStopping object at 0x7f97b3111580>]\n",
       " \tvalidation_split=0.1\n",
       " \tshuffle=True\n",
       " \trun_eagerly=False\n",
       " \tepochs=5\n",
       " \tclass_weight=None\n",
       " )}"
      ]
     },
     "execution_count": 31,
     "metadata": {},
     "output_type": "execute_result"
    }
   ],
   "source": [
    "objs_CBiGRU = [(\"Tokenize\", TweetTokenize()),\n",
    "        (\"W2V\", GloveCommomCrawlEmbeddings(transformTo=\"concat\")),\n",
    "        (\"Pad\", Padding(seq_length=150)),\n",
    "        (\"net\", CBiGRU_classifier())\n",
    "              ] \n",
    "pipe_CBiGRU = Pipeline(objs_CBiGRU)\n",
    "\n",
    "pipe_CBiGRU.named_steps"
   ]
  },
  {
   "cell_type": "markdown",
   "id": "8cbfa53c",
   "metadata": {},
   "source": [
    "### Cross validation"
   ]
  },
  {
   "cell_type": "code",
   "execution_count": 32,
   "id": "2ce7e391",
   "metadata": {},
   "outputs": [],
   "source": [
    "pipe_CBiGRU.set_params(net__verbose=0)\n",
    "pipe_CBiGRU.set_params(net__class_weight = class_weights)\n",
    "cv = LeavePGroupsOut(n_groups=9)\n",
    "cv_results_CBiGRU = cross_validate(pipe_CBiGRU,\n",
    "                                   x_train,\n",
    "                                   y_train,\n",
    "                                   groups = groups,\n",
    "                                   cv=cv,\n",
    "                                   n_jobs = -1,\n",
    "                                   scoring=[\"average_precision\", \"f1_macro\"])"
   ]
  },
  {
   "cell_type": "code",
   "execution_count": 33,
   "id": "2382911d",
   "metadata": {},
   "outputs": [
    {
     "name": "stdout",
     "output_type": "stream",
     "text": [
      "F1_Macro: Mean-0.792, std-0.071\n",
      "Average Precision: Mean-0.800, std-0.048\n"
     ]
    }
   ],
   "source": [
    "print(\"F1_Macro: Mean-%.3f, std-%.3f\"%(np.mean(cv_results_CBiGRU[\"test_f1_macro\"]), np.std(cv_results_CBiGRU[\"test_f1_macro\"])))\n",
    "print(\"Average Precision: Mean-%.3f, std-%.3f\"%(np.mean(cv_results_CBiGRU[\"test_average_precision\"]), np.std(cv_results_CBiGRU[\"test_average_precision\"])))"
   ]
  },
  {
   "cell_type": "code",
   "execution_count": 34,
   "id": "2daea2f3",
   "metadata": {},
   "outputs": [],
   "source": [
    "results = pd.DataFrame(cv_results_CBiGRU)[[\"test_average_precision\", \"test_f1_macro\"]]\n",
    "results.rename(columns={\"test_average_precision\": \"Average Precision\", \"test_f1_macro\": \"F1 Macro\"}, inplace=True)\n",
    "results.to_csv(Path.joinpath(results_dir, \"Glove_Common_Crawl_Embeddings_CBiGRU.csv\"), index=False)"
   ]
  },
  {
   "cell_type": "markdown",
   "id": "03ed9d62",
   "metadata": {},
   "source": [
    "## C-BiGRU + Word2Vec Twitter Embeddings"
   ]
  },
  {
   "cell_type": "markdown",
   "id": "3e1cab0f",
   "metadata": {},
   "source": [
    "### Pipeline"
   ]
  },
  {
   "cell_type": "code",
   "execution_count": 35,
   "id": "54703552",
   "metadata": {},
   "outputs": [
    {
     "data": {
      "text/plain": [
       "{'Tokenize': TweetTokenize(),\n",
       " 'W2V': Word2VecTwitter(transformTo='concat'),\n",
       " 'Pad': Padding(seq_length=150),\n",
       " 'net': CBiGRU_classifier(\n",
       " \tmodel=<function CBiGRU_model at 0x7f97b310daf0>\n",
       " \tbuild_fn=None\n",
       " \twarm_start=False\n",
       " \trandom_state=42\n",
       " \toptimizer=adam\n",
       " \tloss=binary_crossentropy\n",
       " \tmetrics=['accuracy']\n",
       " \tbatch_size=32\n",
       " \tvalidation_batch_size=None\n",
       " \tverbose=1\n",
       " \tcallbacks=[<keras.callbacks.EarlyStopping object at 0x7f97b3111580>]\n",
       " \tvalidation_split=0.1\n",
       " \tshuffle=True\n",
       " \trun_eagerly=False\n",
       " \tepochs=5\n",
       " \tclass_weight=None\n",
       " )}"
      ]
     },
     "execution_count": 35,
     "metadata": {},
     "output_type": "execute_result"
    }
   ],
   "source": [
    "objs_CBiGRU = [(\"Tokenize\", TweetTokenize()),\n",
    "        (\"W2V\", Word2VecTwitter(transformTo=\"concat\")),\n",
    "        (\"Pad\", Padding(seq_length=150)),\n",
    "        (\"net\", CBiGRU_classifier())\n",
    "              ] \n",
    "pipe_CBiGRU = Pipeline(objs_CBiGRU)\n",
    "\n",
    "pipe_CBiGRU.named_steps"
   ]
  },
  {
   "cell_type": "markdown",
   "id": "c78d5b11",
   "metadata": {},
   "source": [
    "### Cross validation"
   ]
  },
  {
   "cell_type": "code",
   "execution_count": 37,
   "id": "de4b27dc",
   "metadata": {},
   "outputs": [],
   "source": [
    "pipe_CBiGRU.set_params(net__verbose=0)\n",
    "pipe_CBiGRU.set_params(net__class_weight = class_weights)\n",
    "cv = LeavePGroupsOut(n_groups=9)\n",
    "cv_results_CBiGRU = cross_validate(pipe_CBiGRU,\n",
    "                                   x_train,\n",
    "                                   y_train,\n",
    "                                   groups = groups,\n",
    "                                   cv=cv,\n",
    "                                   scoring=[\"average_precision\", \"f1_macro\"])"
   ]
  },
  {
   "cell_type": "code",
   "execution_count": 38,
   "id": "7b6075c2",
   "metadata": {},
   "outputs": [
    {
     "name": "stdout",
     "output_type": "stream",
     "text": [
      "F1_Macro: Mean-0.842, std-0.029\n",
      "Average Precision: Mean-0.826, std-0.046\n"
     ]
    }
   ],
   "source": [
    "print(\"F1_Macro: Mean-%.3f, std-%.3f\"%(np.mean(cv_results_CBiGRU[\"test_f1_macro\"]), np.std(cv_results_CBiGRU[\"test_f1_macro\"])))\n",
    "print(\"Average Precision: Mean-%.3f, std-%.3f\"%(np.mean(cv_results_CBiGRU[\"test_average_precision\"]), np.std(cv_results_CBiGRU[\"test_average_precision\"])))"
   ]
  },
  {
   "cell_type": "code",
   "execution_count": 39,
   "id": "b6f70a4e",
   "metadata": {},
   "outputs": [],
   "source": [
    "results = pd.DataFrame(cv_results_CBiGRU)[[\"test_average_precision\", \"test_f1_macro\"]]\n",
    "results.rename(columns={\"test_average_precision\": \"Average Precision\", \"test_f1_macro\": \"F1 Macro\"}, inplace=True)\n",
    "results.to_csv(Path.joinpath(results_dir, \"Word2Vec_Twitter_CBiGRU.csv\"), index=False)"
   ]
  },
  {
   "cell_type": "markdown",
   "id": "6be6b6c4",
   "metadata": {},
   "source": [
    "## C-BiGRU + FastText Twitter Embeddings"
   ]
  },
  {
   "cell_type": "markdown",
   "id": "d492a581",
   "metadata": {},
   "source": [
    "### Pipeline"
   ]
  },
  {
   "cell_type": "code",
   "execution_count": 40,
   "id": "5014ab63",
   "metadata": {},
   "outputs": [
    {
     "data": {
      "text/plain": [
       "{'Tokenize': TweetTokenize(),\n",
       " 'W2V': FasttextTwitter(transformTo='concat'),\n",
       " 'Pad': Padding(seq_length=150),\n",
       " 'net': CBiGRU_classifier(\n",
       " \tmodel=<function CBiGRU_model at 0x7f97b310daf0>\n",
       " \tbuild_fn=None\n",
       " \twarm_start=False\n",
       " \trandom_state=42\n",
       " \toptimizer=adam\n",
       " \tloss=binary_crossentropy\n",
       " \tmetrics=['accuracy']\n",
       " \tbatch_size=32\n",
       " \tvalidation_batch_size=None\n",
       " \tverbose=1\n",
       " \tcallbacks=[<keras.callbacks.EarlyStopping object at 0x7f97b3111580>]\n",
       " \tvalidation_split=0.1\n",
       " \tshuffle=True\n",
       " \trun_eagerly=False\n",
       " \tepochs=5\n",
       " \tclass_weight=None\n",
       " )}"
      ]
     },
     "execution_count": 40,
     "metadata": {},
     "output_type": "execute_result"
    }
   ],
   "source": [
    "objs_CBiGRU = [(\"Tokenize\", TweetTokenize()),\n",
    "        (\"W2V\", FasttextTwitter(transformTo=\"concat\")),\n",
    "        (\"Pad\", Padding(seq_length=150)),\n",
    "        (\"net\", CBiGRU_classifier())\n",
    "              ] \n",
    "pipe_CBiGRU = Pipeline(objs_CBiGRU)\n",
    "\n",
    "pipe_CBiGRU.named_steps"
   ]
  },
  {
   "cell_type": "markdown",
   "id": "6b382641",
   "metadata": {},
   "source": [
    "### Cross validation"
   ]
  },
  {
   "cell_type": "code",
   "execution_count": 41,
   "id": "f3b580c7",
   "metadata": {},
   "outputs": [
    {
     "name": "stderr",
     "output_type": "stream",
     "text": [
      "Warning : `load_model` does not return WordVectorModel or SupervisedModel any more, but a `FastText` object which is very similar.\n",
      "Warning : `load_model` does not return WordVectorModel or SupervisedModel any more, but a `FastText` object which is very similar.\n",
      "Warning : `load_model` does not return WordVectorModel or SupervisedModel any more, but a `FastText` object which is very similar.\n",
      "Warning : `load_model` does not return WordVectorModel or SupervisedModel any more, but a `FastText` object which is very similar.\n",
      "Warning : `load_model` does not return WordVectorModel or SupervisedModel any more, but a `FastText` object which is very similar.\n",
      "Warning : `load_model` does not return WordVectorModel or SupervisedModel any more, but a `FastText` object which is very similar.\n",
      "Warning : `load_model` does not return WordVectorModel or SupervisedModel any more, but a `FastText` object which is very similar.\n",
      "Warning : `load_model` does not return WordVectorModel or SupervisedModel any more, but a `FastText` object which is very similar.\n",
      "Warning : `load_model` does not return WordVectorModel or SupervisedModel any more, but a `FastText` object which is very similar.\n",
      "Warning : `load_model` does not return WordVectorModel or SupervisedModel any more, but a `FastText` object which is very similar.\n"
     ]
    }
   ],
   "source": [
    "pipe_CBiGRU.set_params(net__verbose=0)\n",
    "pipe_CBiGRU.set_params(net__class_weight = class_weights)\n",
    "cv = LeavePGroupsOut(n_groups=9)\n",
    "cv_results_CBiGRU = cross_validate(pipe_CBiGRU,\n",
    "                                   x_train,\n",
    "                                   y_train,\n",
    "                                   groups = groups,\n",
    "                                   cv=cv,\n",
    "                                   scoring=[\"average_precision\", \"f1_macro\"])"
   ]
  },
  {
   "cell_type": "code",
   "execution_count": 42,
   "id": "835759bb",
   "metadata": {},
   "outputs": [
    {
     "name": "stdout",
     "output_type": "stream",
     "text": [
      "F1_Macro: Mean-0.815, std-0.067\n",
      "Average Precision: Mean-0.812, std-0.056\n"
     ]
    }
   ],
   "source": [
    "print(\"F1_Macro: Mean-%.3f, std-%.3f\"%(np.mean(cv_results_CBiGRU[\"test_f1_macro\"]), np.std(cv_results_CBiGRU[\"test_f1_macro\"])))\n",
    "print(\"Average Precision: Mean-%.3f, std-%.3f\"%(np.mean(cv_results_CBiGRU[\"test_average_precision\"]), np.std(cv_results_CBiGRU[\"test_average_precision\"])))"
   ]
  },
  {
   "cell_type": "code",
   "execution_count": 43,
   "id": "4f8194aa",
   "metadata": {},
   "outputs": [],
   "source": [
    "results = pd.DataFrame(cv_results_CBiGRU)[[\"test_average_precision\", \"test_f1_macro\"]]\n",
    "results.rename(columns={\"test_average_precision\": \"Average Precision\", \"test_f1_macro\": \"F1 Macro\"}, inplace=True)\n",
    "results.to_csv(Path.joinpath(results_dir, \"FastText_Twitter_CBiGRU.csv\"), index=False)"
   ]
  },
  {
   "cell_type": "markdown",
   "id": "cea8e1ea",
   "metadata": {},
   "source": [
    "# Hypothesis Test"
   ]
  },
  {
   "cell_type": "markdown",
   "id": "4e4257ce",
   "metadata": {},
   "source": [
    "## Average Precision"
   ]
  },
  {
   "cell_type": "code",
   "execution_count": 5,
   "id": "2f8acd00",
   "metadata": {},
   "outputs": [
    {
     "name": "stdout",
     "output_type": "stream",
     "text": [
      "FastText_Twitter_CNN\n",
      "P Value: 0.18833058585172696\n",
      "Algorithms probably have the same performance\n",
      "------------------------------------------------------\n",
      "FastText_Twitter_CBiGRU\n",
      "P Value: 0.8039747628227983\n",
      "Algorithms probably have the same performance\n",
      "------------------------------------------------------\n",
      "Glove_Twitter_Embeddings_CBiGRU\n",
      "P Value: 0.47011831013951333\n",
      "Algorithms probably have the same performance\n",
      "------------------------------------------------------\n",
      "Glove_Common_Crawl_Embeddings_CBiGRU\n",
      "P Value: 0.8262423506133404\n",
      "Algorithms probably have the same performance\n",
      "------------------------------------------------------\n",
      "Word2Vec_Twitter_CBiGRU\n",
      "P Value: 0.3778823748797264\n",
      "Algorithms probably have the same performance\n",
      "------------------------------------------------------\n",
      "Glove_Twitter_Embeddings_CNN\n",
      "P Value: 0.4374815498777763\n",
      "Algorithms probably have the same performance\n",
      "------------------------------------------------------\n",
      "Word2Vec_Twitter_CNN\n",
      "P Value: 0.14544212091006267\n",
      "Algorithms probably have the same performance\n",
      "------------------------------------------------------\n",
      "Glove_Common_Crawl_Embeddings_CNN\n",
      "P Value: 0.5878548754128569\n",
      "Algorithms probably have the same performance\n",
      "------------------------------------------------------\n"
     ]
    }
   ],
   "source": [
    "SVM_results = pd.read_csv(Path.joinpath(results_dir, \"SVM_TFIDF.csv\"))\n",
    "\n",
    "for i, file in enumerate(os.listdir(results_dir)):\n",
    "    if \"SVM\" not in file:\n",
    "        other_results = pd.read_csv(Path.joinpath(results_dir, file))\n",
    "        print(file.replace(\".csv\",\"\"))\n",
    "\n",
    "        ttest = stats.ttest_ind(SVM_results[\"Average Precision\"], other_results[\"Average Precision\"])\n",
    "        print(\"P Value:\", ttest.pvalue)\n",
    "\n",
    "        # interpret the result\n",
    "        if ttest.pvalue <= 0.05:\n",
    "            print('Difference between mean performance is probably real')\n",
    "        else:\n",
    "            print('Algorithms probably have the same performance')\n",
    "        print(\"------------------------------------------------------\")"
   ]
  },
  {
   "cell_type": "markdown",
   "id": "bb79c437",
   "metadata": {},
   "source": [
    "## F1 Macro"
   ]
  },
  {
   "cell_type": "code",
   "execution_count": 6,
   "id": "5db08e87",
   "metadata": {},
   "outputs": [
    {
     "name": "stdout",
     "output_type": "stream",
     "text": [
      "FastText_Twitter_CNN\n",
      "P Value: 0.3860461337721852\n",
      "Algorithms probably have the same performance\n",
      "------------------------------------------------------\n",
      "FastText_Twitter_CBiGRU\n",
      "P Value: 0.8616983602541771\n",
      "Algorithms probably have the same performance\n",
      "------------------------------------------------------\n",
      "Glove_Twitter_Embeddings_CBiGRU\n",
      "P Value: 0.6715120731244313\n",
      "Algorithms probably have the same performance\n",
      "------------------------------------------------------\n",
      "Glove_Common_Crawl_Embeddings_CBiGRU\n",
      "P Value: 0.3030165684319402\n",
      "Algorithms probably have the same performance\n",
      "------------------------------------------------------\n",
      "Word2Vec_Twitter_CBiGRU\n",
      "P Value: 0.14985629149093974\n",
      "Algorithms probably have the same performance\n",
      "------------------------------------------------------\n",
      "Glove_Twitter_Embeddings_CNN\n",
      "P Value: 0.6648123501952206\n",
      "Algorithms probably have the same performance\n",
      "------------------------------------------------------\n",
      "Word2Vec_Twitter_CNN\n",
      "P Value: 0.3095215230762392\n",
      "Algorithms probably have the same performance\n",
      "------------------------------------------------------\n",
      "Glove_Common_Crawl_Embeddings_CNN\n",
      "P Value: 0.8424802093968796\n",
      "Algorithms probably have the same performance\n",
      "------------------------------------------------------\n"
     ]
    }
   ],
   "source": [
    "SVM_results = pd.read_csv(Path.joinpath(results_dir, \"SVM_TFIDF.csv\"))\n",
    "\n",
    "for i, file in enumerate(os.listdir(results_dir)):\n",
    "    if \"SVM\" not in file:\n",
    "        other_results = pd.read_csv(Path.joinpath(results_dir, file))\n",
    "        print(file.replace(\".csv\",\"\"))\n",
    "\n",
    "        ttest = stats.ttest_ind(SVM_results[\"F1 Macro\"], other_results[\"F1 Macro\"])\n",
    "        print(\"P Value:\", ttest.pvalue)\n",
    "\n",
    "        # interpret the result\n",
    "        if ttest.pvalue <= 0.05:\n",
    "            print('Difference between mean performance is probably real')\n",
    "        else:\n",
    "            print('Algorithms probably have the same performance')\n",
    "        print(\"------------------------------------------------------\")"
   ]
  },
  {
   "cell_type": "markdown",
   "id": "af59231c",
   "metadata": {},
   "source": [
    "# Plots"
   ]
  },
  {
   "cell_type": "code",
   "execution_count": 4,
   "id": "cf5fdc54",
   "metadata": {},
   "outputs": [],
   "source": [
    "data = pd.DataFrame(columns=[\"x_axis\", \"Average Precision\", \"F1 Macro\", \"Experiments\", \"Model\"])\n",
    "for i, file in enumerate(os.listdir(results_dir)):\n",
    "        data_sample = pd.read_csv(Path.joinpath(results_dir, file))\n",
    "        if \"CNN\" in file:\n",
    "            data_sample[\"Model\"] = \"CNN\"\n",
    "            file = file.replace(\"CNN\", \"\")\n",
    "        elif \"CBiGRU\" in file:\n",
    "            data_sample[\"Model\"] = \"C-BiGRU\"\n",
    "            file = file.replace(\"CBiGRU\", \"\")\n",
    "        else: data_sample[\"Model\"] = \"SVM\"\n",
    "        data_sample[\"Experiments\"] = file.replace(\"_\", \"\\n\").replace(\".csv\",\"\")\n",
    "        data_sample[\"x_axis\"]=i\n",
    "        data = pd.concat([data, data_sample[[\"x_axis\",\"Average Precision\", \"F1 Macro\", \"Experiments\", \"Model\"]]])\n",
    "        \n",
    "data = data.astype({\"Experiments\":\"category\", \"Model\":\"category\", \"x_axis\": \"category\", \"F1 Macro\":\"float64\", \"Average Precision\":\"float64\"})"
   ]
  },
  {
   "cell_type": "code",
   "execution_count": 5,
   "id": "66ef5414",
   "metadata": {},
   "outputs": [],
   "source": [
    "grp = data.groupby(['Model', 'Experiments'])['Average Precision'].mean().sort_values().iloc[::-1]\n",
    "grp_index = grp[~grp.isna()].index \n",
    "seen = set()\n",
    "seen_add = seen.add\n",
    "order = [x[1] for x in grp_index if not (x[1] in seen or seen_add(x[1]))][::-1]"
   ]
  },
  {
   "cell_type": "code",
   "execution_count": 6,
   "id": "b2949590",
   "metadata": {},
   "outputs": [
    {
     "data": {
      "image/png": "[encoded data removed]",
      "text/plain": [
       "<Figure size 437.875x360 with 1 Axes>"
      ]
     },
     "metadata": {},
     "output_type": "display_data"
    }
   ],
   "source": [
    "sns.set_style(\"darkgrid\")\n",
    " \n",
    "g = sns.catplot(x=\"Experiments\", y=\"Average Precision\",\n",
    "               data=data, kind=\"violin\", hue=\"Model\", order=order)\n",
    "\n",
    "for ax in g.axes.flat:\n",
    "    ax.get_xaxis().set_minor_locator(AutoMinorLocator())\n",
    "    ax.get_yaxis().set_minor_locator(AutoMinorLocator())\n",
    "    ax.grid(visible=True, which='major', color='w', linewidth=1.0)\n",
    "    ax.grid(visible=True, which='minor', color='w', linewidth=0.5)\n",
    "\n",
    "xlabel('Dataset', fontsize=12, fontweight='bold')\n",
    "ylabel('Average Precision', fontsize=12, fontweight='bold')\n",
    "plt.savefig(Path.joinpath(results_plot, \"Incidence detection on different cities - Binary.pdf\"))\n",
    "plt.show()"
   ]
  },
  {
   "cell_type": "code",
   "execution_count": null,
   "id": "66b2d9e6",
   "metadata": {},
   "outputs": [],
   "source": []
  }
 ],
 "metadata": {
  "kernelspec": {
   "display_name": "Python 3 (ipykernel)",
   "language": "python",
   "name": "python3"
  },
  "language_info": {
   "codemirror_mode": {
    "name": "ipython",
    "version": 3
   },
   "file_extension": ".py",
   "mimetype": "text/x-python",
   "name": "python",
   "nbconvert_exporter": "python",
   "pygments_lexer": "ipython3",
   "version": "3.9.12"
  },
  "toc": {
   "base_numbering": 1,
   "nav_menu": {},
   "number_sections": true,
   "sideBar": true,
   "skip_h1_title": false,
   "title_cell": "Table of Contents",
   "title_sidebar": "Contents",
   "toc_cell": false,
   "toc_position": {},
   "toc_section_display": true,
   "toc_window_display": true
  }
 },
 "nbformat": 4,
 "nbformat_minor": 5
}
