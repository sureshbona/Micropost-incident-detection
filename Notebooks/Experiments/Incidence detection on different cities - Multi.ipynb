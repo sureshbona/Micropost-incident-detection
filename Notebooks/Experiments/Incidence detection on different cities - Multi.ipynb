{
 "cells": [
  {
   "cell_type": "markdown",
   "id": "dd120ede",
   "metadata": {},
   "source": [
    "# Imports"
   ]
  },
  {
   "cell_type": "markdown",
   "id": "5a4119c2",
   "metadata": {},
   "source": [
    "## Packages"
   ]
  },
  {
   "cell_type": "code",
   "execution_count": 3,
   "id": "75601799",
   "metadata": {},
   "outputs": [],
   "source": [
    "import os\n",
    "import pandas as pd\n",
    "import numpy as np\n",
    "import random\n",
    "import importlib\n",
    "from pathlib import Path\n",
    "from sklearn.model_selection import StratifiedKFold, LeavePGroupsOut, GridSearchCV, cross_validate\n",
    "from sklearn.pipeline import Pipeline\n",
    "from sklearn.preprocessing import LabelEncoder\n",
    "from sklearn.utils.class_weight import compute_class_weight\n",
    "from sklearn.feature_extraction.text import TfidfVectorizer\n",
    "from sklearn.svm import SVC\n",
    "import matplotlib.pyplot as plt\n",
    "from matplotlib.ticker import AutoMinorLocator\n",
    "from pylab import *\n",
    "import seaborn as sns\n",
    "import tensorflow as tf\n",
    "from scipy import stats\n",
    "from mlxtend.evaluate import paired_ttest_5x2cv\n",
    "\n",
    "pd.set_option(\"display.max_rows\", None, \"display.max_columns\", None)\n",
    "plt.rcParams['figure.facecolor']='white'\n",
    "os.environ['TF_CPP_MIN_LOG_LEVEL'] = '3'"
   ]
  },
  {
   "cell_type": "markdown",
   "id": "bca1c0a2",
   "metadata": {},
   "source": [
    "## Helpers"
   ]
  },
  {
   "cell_type": "code",
   "execution_count": 4,
   "id": "f31518e4",
   "metadata": {},
   "outputs": [],
   "source": [
    "import sys\n",
    "sys.path.append(\"../\")\n",
    "\n",
    "# glove preprocessings\n",
    "import Helpers.Glove_transform\n",
    "importlib.reload(Helpers.Glove_transform)\n",
    "from Helpers.Glove_transform import GloveTransform\n",
    "\n",
    "# Stanford tokenizer\n",
    "import Helpers.Stanford_Tokenizer\n",
    "importlib.reload(Helpers.Stanford_Tokenizer)\n",
    "from Helpers.Stanford_Tokenizer import StanfordTokenizer\n",
    "\n",
    "# Tweet tokenizer(from C-BiGRU paper)\n",
    "import Helpers.Tweet_Tokenizer\n",
    "importlib.reload(Helpers.Tweet_Tokenizer)\n",
    "from Helpers.Tweet_Tokenizer import TweetTokenize\n",
    "\n",
    "# glove embeddings\n",
    "import Helpers.Glove_twitter_embeddings\n",
    "importlib.reload(Helpers.Glove_twitter_embeddings)\n",
    "from Helpers.Glove_twitter_embeddings import GloveTwitterEmbeddings\n",
    "\n",
    "# glove common crawl\n",
    "import Helpers.Glove_CommonCrawl_embeddings\n",
    "importlib.reload(Helpers.Glove_CommonCrawl_embeddings)\n",
    "from Helpers.Glove_CommonCrawl_embeddings import GloveCommomCrawlEmbeddings\n",
    "\n",
    "# Word embedding(from C-BiGRU paper)\n",
    "import Helpers.Word2Vec_Twitter\n",
    "importlib.reload(Helpers.Word2Vec_Twitter)\n",
    "from Helpers.Word2Vec_Twitter import Word2VecTwitter\n",
    "\n",
    "# Fasttext embedding\n",
    "import Helpers.Fasttext_Twitter\n",
    "importlib.reload(Helpers.Fasttext_Twitter)\n",
    "from Helpers.Fasttext_Twitter import FasttextTwitter\n",
    "\n",
    "# Padding\n",
    "import Helpers.Padding\n",
    "importlib.reload(Helpers.Padding)\n",
    "from Helpers.Padding import Padding\n",
    "\n",
    "# Kears sklearn CNN classifier\n",
    "import Helpers.CNN_SciKeras_Classifier\n",
    "importlib.reload(Helpers.CNN_SciKeras_Classifier)\n",
    "from Helpers.CNN_SciKeras_Classifier import CNN_classifier\n",
    "\n",
    "# Kears sklearn CBiGRU classifier\n",
    "import Helpers.CBiGRU_SciKeras_Classifier\n",
    "importlib.reload(Helpers.CBiGRU_SciKeras_Classifier)\n",
    "from Helpers.CBiGRU_SciKeras_Classifier import CBiGRU_classifier"
   ]
  },
  {
   "cell_type": "markdown",
   "id": "e7b5372a",
   "metadata": {},
   "source": [
    "# Directory to store results"
   ]
  },
  {
   "cell_type": "code",
   "execution_count": 5,
   "id": "9cc2c4de",
   "metadata": {},
   "outputs": [],
   "source": [
    "results_dir = Path('../../results/iddc_multi')\n",
    "results_dir.mkdir(parents=True, exist_ok=True)\n",
    "\n",
    "results_plot = Path('../../results/plots')\n",
    "results_plot.mkdir(parents=True, exist_ok=True)"
   ]
  },
  {
   "cell_type": "markdown",
   "id": "fbc867ee",
   "metadata": {},
   "source": [
    "# Dataset"
   ]
  },
  {
   "cell_type": "code",
   "execution_count": 3,
   "id": "c85dd213",
   "metadata": {},
   "outputs": [
    {
     "name": "stdout",
     "output_type": "stream",
     "text": [
      "Total number of datapoints in train set: 20457\n"
     ]
    }
   ],
   "source": [
    "FourCVTweets = \"../../Datasets/Incident-Related-Twitters/4CVTweets/\"\n",
    "data = pd.DataFrame(columns=[\"text\", \"label\", \"groups\"])\n",
    "\n",
    "for i, data_file in enumerate(os.listdir(FourCVTweets)):\n",
    "    data_sample = pd.read_csv(FourCVTweets + data_file, delimiter=\";\", names=[\"text\", \"label\"], encoding=\"ISO-8859-1\")\n",
    "    data_sample[\"groups\"] = i\n",
    "    data = pd.concat([data, data_sample], ignore_index=True)\n",
    "\n",
    "x_train, y_train = data.text, data.label\n",
    "groups = data.groups\n",
    "\n",
    "print(\"Total number of datapoints in train set:\",len(x_train))"
   ]
  },
  {
   "cell_type": "code",
   "execution_count": 4,
   "id": "209f7141",
   "metadata": {},
   "outputs": [],
   "source": [
    "# label encoder\n",
    "le = LabelEncoder()\n",
    "y_train = le.fit_transform(y_train.values)"
   ]
  },
  {
   "cell_type": "markdown",
   "id": "f0341489",
   "metadata": {},
   "source": [
    "## Class weights"
   ]
  },
  {
   "cell_type": "code",
   "execution_count": 5,
   "id": "97157a24",
   "metadata": {},
   "outputs": [
    {
     "data": {
      "text/plain": [
       "{0: 0.3136037527593819,\n",
       " 1: 2.0539156626506023,\n",
       " 2: 4.07834928229665,\n",
       " 3: 12.627777777777778}"
      ]
     },
     "execution_count": 5,
     "metadata": {},
     "output_type": "execute_result"
    }
   ],
   "source": [
    "class_weights = compute_class_weight(\n",
    "                                        class_weight = \"balanced\",\n",
    "                                        classes = np.unique(y_train),\n",
    "                                        y = y_train      \n",
    "                                    )\n",
    "\n",
    "class_weights = dict(enumerate(class_weights))\n",
    "class_weights"
   ]
  },
  {
   "cell_type": "markdown",
   "id": "d1a5165e",
   "metadata": {},
   "source": [
    "# Experiments"
   ]
  },
  {
   "cell_type": "markdown",
   "id": "e685d086",
   "metadata": {},
   "source": [
    "## SVM + TF-IDF"
   ]
  },
  {
   "cell_type": "markdown",
   "id": "4a15063f",
   "metadata": {},
   "source": [
    "### Pipeline"
   ]
  },
  {
   "cell_type": "code",
   "execution_count": 7,
   "id": "e9a35755",
   "metadata": {},
   "outputs": [
    {
     "data": {
      "text/plain": [
       "{'tfidf': TfidfVectorizer(), 'svm': SVC(kernel='linear')}"
      ]
     },
     "execution_count": 7,
     "metadata": {},
     "output_type": "execute_result"
    }
   ],
   "source": [
    "# Define component objects of our pipeline then create it!\n",
    "objs = [(\"tfidf\", TfidfVectorizer()),\n",
    "        (\"svm\", SVC(kernel=\"linear\"))]\n",
    "pipe = Pipeline(objs)\n",
    "pipe.named_steps"
   ]
  },
  {
   "cell_type": "markdown",
   "id": "c605dcb5",
   "metadata": {},
   "source": [
    "### Cross validation"
   ]
  },
  {
   "cell_type": "code",
   "execution_count": 8,
   "id": "aa250eb6",
   "metadata": {},
   "outputs": [],
   "source": [
    "cv = LeavePGroupsOut(n_groups=9)\n",
    "pipe.set_params(svm__C=10.0)\n",
    "pipe.set_params(tfidf__ngram_range=(1, 2))\n",
    "cv_results = cross_validate(pipe, \n",
    "                                x_train, y_train,\n",
    "                                groups=groups,\n",
    "                                cv=cv, \n",
    "                                n_jobs = -1,\n",
    "                                scoring= \"f1_macro\")"
   ]
  },
  {
   "cell_type": "code",
   "execution_count": 9,
   "id": "730c97c7",
   "metadata": {},
   "outputs": [
    {
     "name": "stdout",
     "output_type": "stream",
     "text": [
      "F1_Macro: Mean-0.583, std-0.083\n"
     ]
    }
   ],
   "source": [
    "print(\"F1_Macro: Mean-%.3f, std-%.3f\"%(np.mean(cv_results[\"test_score\"]), np.std(cv_results[\"test_score\"])))"
   ]
  },
  {
   "cell_type": "code",
   "execution_count": 10,
   "id": "fca7157d",
   "metadata": {},
   "outputs": [],
   "source": [
    "results = pd.DataFrame(cv_results)[\"test_score\"]\n",
    "results.rename(\"F1 Macro\", inplace=True)\n",
    "results.to_csv(Path.joinpath(results_dir, \"SVM_TFIDF.csv\"), index=False)"
   ]
  },
  {
   "cell_type": "markdown",
   "id": "9ec2b0cb",
   "metadata": {},
   "source": [
    "## CNN + Glove Twitter Word Embeddings"
   ]
  },
  {
   "cell_type": "markdown",
   "id": "41023cf4",
   "metadata": {},
   "source": [
    "### Pipeline"
   ]
  },
  {
   "cell_type": "code",
   "execution_count": 11,
   "id": "9b9b034e",
   "metadata": {},
   "outputs": [
    {
     "data": {
      "text/plain": [
       "{'Preprocess': GloveTransform(),\n",
       " 'Tokenize': StanfordTokenizer(),\n",
       " 'W2V': GloveTwitterEmbeddings(transformTo='concat'),\n",
       " 'Pad': Padding(),\n",
       " 'net': CNN_classifier(\n",
       " \tmodel=<function CNN_model at 0x7f0615fdf310>\n",
       " \tbuild_fn=None\n",
       " \twarm_start=False\n",
       " \trandom_state=42\n",
       " \toptimizer=<keras.optimizer_v2.adadelta.Adadelta object at 0x7f06160045b0>\n",
       " \tloss=binary_crossentropy\n",
       " \tmetrics=['accuracy']\n",
       " \tbatch_size=50\n",
       " \tvalidation_batch_size=None\n",
       " \tverbose=1\n",
       " \tcallbacks=None\n",
       " \tvalidation_split=0.1\n",
       " \tshuffle=True\n",
       " \trun_eagerly=False\n",
       " \tepochs=40\n",
       " \tclass_weight=None\n",
       " )}"
      ]
     },
     "execution_count": 11,
     "metadata": {},
     "output_type": "execute_result"
    }
   ],
   "source": [
    "objs_CNN = [\n",
    "     (\"Preprocess\", GloveTransform()),\n",
    "        (\"Tokenize\", StanfordTokenizer()),\n",
    "        (\"W2V\", GloveTwitterEmbeddings(transformTo=\"concat\")),\n",
    "        (\"Pad\", Padding()),\n",
    "        (\"net\", CNN_classifier())\n",
    "              ] \n",
    "pipe_CNN = Pipeline(objs_CNN)\n",
    "\n",
    "pipe_CNN.named_steps"
   ]
  },
  {
   "cell_type": "markdown",
   "id": "a2dcb3d1",
   "metadata": {},
   "source": [
    "### Cross validation"
   ]
  },
  {
   "cell_type": "code",
   "execution_count": 12,
   "id": "be96a86e",
   "metadata": {},
   "outputs": [],
   "source": [
    "pipe_CNN.set_params(net__model__output_size=4) \n",
    "pipe_CNN.set_params(net__model__dense_layer_activation_fn=\"softmax\") \n",
    "pipe_CNN.set_params(net__loss=\"sparse_categorical_crossentropy\") \n",
    "pipe_CNN.set_params(net__verbose=0)\n",
    "cv = LeavePGroupsOut(n_groups=9)\n",
    "\n",
    "cv_results_CNN = cross_validate(pipe_CNN, \n",
    "                                x_train, y_train,\n",
    "                                groups = groups,\n",
    "                                cv=cv, \n",
    "                                n_jobs = -1,\n",
    "                                scoring= \"f1_macro\")"
   ]
  },
  {
   "cell_type": "code",
   "execution_count": 13,
   "id": "b277a181",
   "metadata": {},
   "outputs": [
    {
     "name": "stdout",
     "output_type": "stream",
     "text": [
      "F1_Macro: Mean-0.583, std-0.099\n"
     ]
    }
   ],
   "source": [
    "print(\"F1_Macro: Mean-%.3f, std-%.3f\"%(np.mean(cv_results_CNN[\"test_score\"]), np.std(cv_results_CNN[\"test_score\"])))"
   ]
  },
  {
   "cell_type": "code",
   "execution_count": 14,
   "id": "00214a95",
   "metadata": {},
   "outputs": [],
   "source": [
    "results = pd.DataFrame(cv_results_CNN)[\"test_score\"]\n",
    "results.rename(\"F1 Macro\", inplace=True)\n",
    "results.to_csv(Path.joinpath(results_dir, \"Glove_Twitter_Embeddings_CNN.csv\"), index=False)"
   ]
  },
  {
   "cell_type": "markdown",
   "id": "94981698",
   "metadata": {},
   "source": [
    "## CNN + Glove Common Crawl Word Embeddings"
   ]
  },
  {
   "cell_type": "markdown",
   "id": "3051851c",
   "metadata": {},
   "source": [
    "### Pipeline"
   ]
  },
  {
   "cell_type": "code",
   "execution_count": 15,
   "id": "83cad5f3",
   "metadata": {},
   "outputs": [
    {
     "data": {
      "text/plain": [
       "{'Preprocess': GloveTransform(),\n",
       " 'Tokenize': StanfordTokenizer(),\n",
       " 'W2V': GloveCommomCrawlEmbeddings(transformTo='concat'),\n",
       " 'Pad': Padding(),\n",
       " 'net': CNN_classifier(\n",
       " \tmodel=<function CNN_model at 0x7f0615fdf310>\n",
       " \tbuild_fn=None\n",
       " \twarm_start=False\n",
       " \trandom_state=42\n",
       " \toptimizer=<keras.optimizer_v2.adadelta.Adadelta object at 0x7f06160045b0>\n",
       " \tloss=binary_crossentropy\n",
       " \tmetrics=['accuracy']\n",
       " \tbatch_size=50\n",
       " \tvalidation_batch_size=None\n",
       " \tverbose=1\n",
       " \tcallbacks=None\n",
       " \tvalidation_split=0.1\n",
       " \tshuffle=True\n",
       " \trun_eagerly=False\n",
       " \tepochs=40\n",
       " \tclass_weight=None\n",
       " )}"
      ]
     },
     "execution_count": 15,
     "metadata": {},
     "output_type": "execute_result"
    }
   ],
   "source": [
    "objs_CNN = [\n",
    "     (\"Preprocess\", GloveTransform()),\n",
    "        (\"Tokenize\", StanfordTokenizer()),\n",
    "        (\"W2V\", GloveCommomCrawlEmbeddings(transformTo=\"concat\")),\n",
    "        (\"Pad\", Padding()),\n",
    "        (\"net\", CNN_classifier())\n",
    "              ] \n",
    "pipe_CNN = Pipeline(objs_CNN)\n",
    "\n",
    "pipe_CNN.named_steps"
   ]
  },
  {
   "cell_type": "markdown",
   "id": "f1f7c941",
   "metadata": {},
   "source": [
    "### Cross validation"
   ]
  },
  {
   "cell_type": "code",
   "execution_count": 16,
   "id": "c67ae2ce",
   "metadata": {},
   "outputs": [],
   "source": [
    "pipe_CNN.set_params(net__model__output_size=4) \n",
    "pipe_CNN.set_params(net__model__dense_layer_activation_fn=\"softmax\") \n",
    "pipe_CNN.set_params(net__loss=\"sparse_categorical_crossentropy\") \n",
    "pipe_CNN.set_params(net__verbose=0)\n",
    "cv = LeavePGroupsOut(n_groups=9)\n",
    "\n",
    "cv_results_CNN = cross_validate(pipe_CNN, \n",
    "                                x_train, y_train,\n",
    "                                groups = groups,\n",
    "                                cv=cv, \n",
    "                                n_jobs = -1,\n",
    "                                scoring= \"f1_macro\")"
   ]
  },
  {
   "cell_type": "code",
   "execution_count": 17,
   "id": "4555d234",
   "metadata": {},
   "outputs": [
    {
     "name": "stdout",
     "output_type": "stream",
     "text": [
      "F1_Macro: Mean-0.591, std-0.103\n"
     ]
    }
   ],
   "source": [
    "print(\"F1_Macro: Mean-%.3f, std-%.3f\"%(np.mean(cv_results_CNN[\"test_score\"]), np.std(cv_results_CNN[\"test_score\"])))"
   ]
  },
  {
   "cell_type": "code",
   "execution_count": 18,
   "id": "32458b59",
   "metadata": {},
   "outputs": [],
   "source": [
    "results = pd.DataFrame(cv_results_CNN)[\"test_score\"]\n",
    "results.rename(\"F1 Macro\", inplace=True)\n",
    "results.to_csv(Path.joinpath(results_dir, \"Glove_Common_Crawl_Embeddings_CNN.csv\"), index=False)"
   ]
  },
  {
   "cell_type": "markdown",
   "id": "62f6db4b",
   "metadata": {},
   "source": [
    "## CNN + Word2Vec Twitter Embeddings"
   ]
  },
  {
   "cell_type": "markdown",
   "id": "4954297e",
   "metadata": {},
   "source": [
    "### Pipeline"
   ]
  },
  {
   "cell_type": "code",
   "execution_count": 19,
   "id": "e1a20eec",
   "metadata": {},
   "outputs": [
    {
     "data": {
      "text/plain": [
       "{'Preprocess': GloveTransform(),\n",
       " 'Tokenize': StanfordTokenizer(),\n",
       " 'W2V': Word2VecTwitter(transformTo='concat'),\n",
       " 'Pad': Padding(),\n",
       " 'net': CNN_classifier(\n",
       " \tmodel=<function CNN_model at 0x7f0615fdf310>\n",
       " \tbuild_fn=None\n",
       " \twarm_start=False\n",
       " \trandom_state=42\n",
       " \toptimizer=<keras.optimizer_v2.adadelta.Adadelta object at 0x7f06160045b0>\n",
       " \tloss=binary_crossentropy\n",
       " \tmetrics=['accuracy']\n",
       " \tbatch_size=50\n",
       " \tvalidation_batch_size=None\n",
       " \tverbose=1\n",
       " \tcallbacks=None\n",
       " \tvalidation_split=0.1\n",
       " \tshuffle=True\n",
       " \trun_eagerly=False\n",
       " \tepochs=40\n",
       " \tclass_weight=None\n",
       " )}"
      ]
     },
     "execution_count": 19,
     "metadata": {},
     "output_type": "execute_result"
    }
   ],
   "source": [
    "objs_CNN = [\n",
    "     (\"Preprocess\", GloveTransform()),\n",
    "        (\"Tokenize\", StanfordTokenizer()),\n",
    "        (\"W2V\", Word2VecTwitter(transformTo=\"concat\")),\n",
    "        (\"Pad\", Padding()),\n",
    "        (\"net\", CNN_classifier())\n",
    "              ] \n",
    "pipe_CNN = Pipeline(objs_CNN)\n",
    "\n",
    "pipe_CNN.named_steps"
   ]
  },
  {
   "cell_type": "markdown",
   "id": "b8579482",
   "metadata": {},
   "source": [
    "### Cross validation"
   ]
  },
  {
   "cell_type": "code",
   "execution_count": 20,
   "id": "5383fb3b",
   "metadata": {},
   "outputs": [],
   "source": [
    "pipe_CNN.set_params(net__model__output_size=4) \n",
    "pipe_CNN.set_params(net__model__dense_layer_activation_fn=\"softmax\") \n",
    "pipe_CNN.set_params(net__loss=\"sparse_categorical_crossentropy\") \n",
    "pipe_CNN.set_params(net__verbose=0)\n",
    "cv = LeavePGroupsOut(n_groups=9)\n",
    "\n",
    "cv_results_CNN = cross_validate(pipe_CNN, \n",
    "                            x_train, \n",
    "                            y_train,\n",
    "                            groups = groups,\n",
    "                            cv=cv,\n",
    "                            n_jobs=-1,\n",
    "                            scoring= \"f1_macro\")"
   ]
  },
  {
   "cell_type": "code",
   "execution_count": 21,
   "id": "404e8f09",
   "metadata": {},
   "outputs": [
    {
     "name": "stdout",
     "output_type": "stream",
     "text": [
      "F1_Macro: Mean-0.611, std-0.098\n"
     ]
    }
   ],
   "source": [
    "print(\"F1_Macro: Mean-%.3f, std-%.3f\"%(np.mean(cv_results_CNN[\"test_score\"]), np.std(cv_results_CNN[\"test_score\"])))"
   ]
  },
  {
   "cell_type": "code",
   "execution_count": 22,
   "id": "a467d7b6",
   "metadata": {},
   "outputs": [],
   "source": [
    "results = pd.DataFrame(cv_results_CNN)[\"test_score\"]\n",
    "results.rename(\"F1 Macro\", inplace=True)\n",
    "results.to_csv(Path.joinpath(results_dir, \"Word2Vec_Twitter_CNN.csv\"), index=False)"
   ]
  },
  {
   "cell_type": "markdown",
   "id": "30ca9d10",
   "metadata": {},
   "source": [
    "## CNN + FastText Twitter Embeddings"
   ]
  },
  {
   "cell_type": "markdown",
   "id": "87eb8f4f",
   "metadata": {},
   "source": [
    "### Pipeline"
   ]
  },
  {
   "cell_type": "code",
   "execution_count": 23,
   "id": "d14814f2",
   "metadata": {},
   "outputs": [
    {
     "data": {
      "text/plain": [
       "{'Preprocess': GloveTransform(),\n",
       " 'Tokenize': StanfordTokenizer(),\n",
       " 'Fasttext': FasttextTwitter(transformTo='concat'),\n",
       " 'Pad': Padding(),\n",
       " 'net': CNN_classifier(\n",
       " \tmodel=<function CNN_model at 0x7f0615fdf310>\n",
       " \tbuild_fn=None\n",
       " \twarm_start=False\n",
       " \trandom_state=42\n",
       " \toptimizer=<keras.optimizer_v2.adadelta.Adadelta object at 0x7f06160045b0>\n",
       " \tloss=binary_crossentropy\n",
       " \tmetrics=['accuracy']\n",
       " \tbatch_size=50\n",
       " \tvalidation_batch_size=None\n",
       " \tverbose=1\n",
       " \tcallbacks=None\n",
       " \tvalidation_split=0.1\n",
       " \tshuffle=True\n",
       " \trun_eagerly=False\n",
       " \tepochs=40\n",
       " \tclass_weight=None\n",
       " )}"
      ]
     },
     "execution_count": 23,
     "metadata": {},
     "output_type": "execute_result"
    }
   ],
   "source": [
    "objs_CNN = [\n",
    "     (\"Preprocess\", GloveTransform()),\n",
    "        (\"Tokenize\", StanfordTokenizer()),\n",
    "        (\"Fasttext\", FasttextTwitter(transformTo=\"concat\")),\n",
    "        (\"Pad\", Padding()),\n",
    "        (\"net\", CNN_classifier())\n",
    "              ] \n",
    "pipe_CNN = Pipeline(objs_CNN)\n",
    "\n",
    "pipe_CNN.named_steps"
   ]
  },
  {
   "cell_type": "markdown",
   "id": "1b7d9498",
   "metadata": {},
   "source": [
    "### Cross validation"
   ]
  },
  {
   "cell_type": "code",
   "execution_count": 24,
   "id": "02371e88",
   "metadata": {},
   "outputs": [
    {
     "name": "stderr",
     "output_type": "stream",
     "text": [
      "Warning : `load_model` does not return WordVectorModel or SupervisedModel any more, but a `FastText` object which is very similar.\n",
      "Warning : `load_model` does not return WordVectorModel or SupervisedModel any more, but a `FastText` object which is very similar.\n",
      "Warning : `load_model` does not return WordVectorModel or SupervisedModel any more, but a `FastText` object which is very similar.\n",
      "Warning : `load_model` does not return WordVectorModel or SupervisedModel any more, but a `FastText` object which is very similar.\n",
      "Warning : `load_model` does not return WordVectorModel or SupervisedModel any more, but a `FastText` object which is very similar.\n",
      "Warning : `load_model` does not return WordVectorModel or SupervisedModel any more, but a `FastText` object which is very similar.\n",
      "Warning : `load_model` does not return WordVectorModel or SupervisedModel any more, but a `FastText` object which is very similar.\n",
      "Warning : `load_model` does not return WordVectorModel or SupervisedModel any more, but a `FastText` object which is very similar.\n",
      "Warning : `load_model` does not return WordVectorModel or SupervisedModel any more, but a `FastText` object which is very similar.\n",
      "Warning : `load_model` does not return WordVectorModel or SupervisedModel any more, but a `FastText` object which is very similar.\n"
     ]
    }
   ],
   "source": [
    "cv = LeavePGroupsOut(n_groups=9)\n",
    "pipe_CNN.set_params(net__model__output_size=4) \n",
    "pipe_CNN.set_params(net__model__dense_layer_activation_fn=\"softmax\") \n",
    "pipe_CNN.set_params(net__loss=\"sparse_categorical_crossentropy\") \n",
    "pipe_CNN.set_params(net__verbose=0)\n",
    "cv_results_CNN = cross_validate(pipe_CNN, \n",
    "                            x_train, \n",
    "                            y_train,\n",
    "                            groups = groups,\n",
    "                            cv=cv,\n",
    "                            n_jobs=2,\n",
    "                            scoring= \"f1_macro\")"
   ]
  },
  {
   "cell_type": "code",
   "execution_count": 25,
   "id": "74a277ec",
   "metadata": {},
   "outputs": [
    {
     "name": "stdout",
     "output_type": "stream",
     "text": [
      "F1_Macro: Mean-0.613, std-0.098\n"
     ]
    }
   ],
   "source": [
    "print(\"F1_Macro: Mean-%.3f, std-%.3f\"%(np.mean(cv_results_CNN[\"test_score\"]), np.std(cv_results_CNN[\"test_score\"])))"
   ]
  },
  {
   "cell_type": "code",
   "execution_count": 26,
   "id": "ec8bd37c",
   "metadata": {},
   "outputs": [],
   "source": [
    "results = pd.DataFrame(cv_results_CNN)[\"test_score\"]\n",
    "results.rename(\"F1 Macro\", inplace=True)\n",
    "results.to_csv(Path.joinpath(results_dir, \"FastText_Twitter_CNN.csv\"), index=False)"
   ]
  },
  {
   "cell_type": "markdown",
   "id": "58511f2d",
   "metadata": {},
   "source": [
    "## C-BiGRU + Glove Twitter Word Embeddings"
   ]
  },
  {
   "cell_type": "markdown",
   "id": "cd543f4f",
   "metadata": {},
   "source": [
    "### Pipeline"
   ]
  },
  {
   "cell_type": "code",
   "execution_count": 27,
   "id": "e01989fe",
   "metadata": {},
   "outputs": [
    {
     "data": {
      "text/plain": [
       "{'Tokenize': TweetTokenize(),\n",
       " 'W2V': GloveTwitterEmbeddings(transformTo='concat'),\n",
       " 'Pad': Padding(seq_length=150),\n",
       " 'net': CBiGRU_classifier(\n",
       " \tmodel=<function CBiGRU_model at 0x7f0616003dc0>\n",
       " \tbuild_fn=None\n",
       " \twarm_start=False\n",
       " \trandom_state=42\n",
       " \toptimizer=adam\n",
       " \tloss=binary_crossentropy\n",
       " \tmetrics=['accuracy']\n",
       " \tbatch_size=32\n",
       " \tvalidation_batch_size=None\n",
       " \tverbose=1\n",
       " \tcallbacks=[<keras.callbacks.EarlyStopping object at 0x7f06160048e0>]\n",
       " \tvalidation_split=0.1\n",
       " \tshuffle=True\n",
       " \trun_eagerly=False\n",
       " \tepochs=5\n",
       " \tclass_weight=None\n",
       " )}"
      ]
     },
     "execution_count": 27,
     "metadata": {},
     "output_type": "execute_result"
    }
   ],
   "source": [
    "objs_CBiGRU = [(\"Tokenize\", TweetTokenize()),\n",
    "        (\"W2V\", GloveTwitterEmbeddings(transformTo=\"concat\")),\n",
    "        (\"Pad\", Padding(seq_length=150)),\n",
    "        (\"net\", CBiGRU_classifier())\n",
    "              ] \n",
    "pipe_CBiGRU = Pipeline(objs_CBiGRU)\n",
    "\n",
    "pipe_CBiGRU.named_steps"
   ]
  },
  {
   "cell_type": "markdown",
   "id": "2661a294",
   "metadata": {},
   "source": [
    "### Cross validation"
   ]
  },
  {
   "cell_type": "code",
   "execution_count": 28,
   "id": "c4e1d161",
   "metadata": {},
   "outputs": [],
   "source": [
    "pipe_CBiGRU.set_params(net__verbose=0) \n",
    "pipe_CBiGRU.set_params(net__class_weight = class_weights) \n",
    "pipe_CBiGRU.set_params(net__model__output_size=4) \n",
    "pipe_CBiGRU.set_params(net__model__dense_layer_activation_fn=\"softmax\") \n",
    "pipe_CBiGRU.set_params(net__loss=\"sparse_categorical_crossentropy\")\n",
    "pipe_CBiGRU.set_params(net__class_weight = class_weights)\n",
    "cv = LeavePGroupsOut(n_groups=9)\n",
    "cv_results_CBiGRU = cross_validate(pipe_CBiGRU,\n",
    "                                   x_train,\n",
    "                                   y_train,\n",
    "                                   groups = groups,\n",
    "                                   cv=cv,\n",
    "                                   n_jobs = -1,\n",
    "                                   scoring= \"f1_macro\")"
   ]
  },
  {
   "cell_type": "code",
   "execution_count": 29,
   "id": "f9a33a6c",
   "metadata": {},
   "outputs": [
    {
     "name": "stdout",
     "output_type": "stream",
     "text": [
      "F1_Macro: Mean-0.569, std-0.131\n"
     ]
    }
   ],
   "source": [
    "print(\"F1_Macro: Mean-%.3f, std-%.3f\"%(np.mean(cv_results_CBiGRU[\"test_score\"]), np.std(cv_results_CBiGRU[\"test_score\"])))"
   ]
  },
  {
   "cell_type": "code",
   "execution_count": 30,
   "id": "219fe9fc",
   "metadata": {},
   "outputs": [],
   "source": [
    "results = pd.DataFrame(cv_results_CBiGRU)[\"test_score\"]\n",
    "results.rename(\"F1 Macro\", inplace=True)\n",
    "results.to_csv(Path.joinpath(results_dir, \"Glove_Twitter_Embeddings_CBiGRU.csv\"), index=False)"
   ]
  },
  {
   "cell_type": "markdown",
   "id": "41bbced9",
   "metadata": {},
   "source": [
    "## C-BiGRU + Glove Common Crawl Word Embeddings"
   ]
  },
  {
   "cell_type": "markdown",
   "id": "439d9b30",
   "metadata": {},
   "source": [
    "### Pipeline"
   ]
  },
  {
   "cell_type": "code",
   "execution_count": 31,
   "id": "f98e063d",
   "metadata": {},
   "outputs": [
    {
     "data": {
      "text/plain": [
       "{'Tokenize': TweetTokenize(),\n",
       " 'W2V': GloveCommomCrawlEmbeddings(transformTo='concat'),\n",
       " 'Pad': Padding(seq_length=150),\n",
       " 'net': CBiGRU_classifier(\n",
       " \tmodel=<function CBiGRU_model at 0x7f0616003dc0>\n",
       " \tbuild_fn=None\n",
       " \twarm_start=False\n",
       " \trandom_state=42\n",
       " \toptimizer=adam\n",
       " \tloss=binary_crossentropy\n",
       " \tmetrics=['accuracy']\n",
       " \tbatch_size=32\n",
       " \tvalidation_batch_size=None\n",
       " \tverbose=1\n",
       " \tcallbacks=[<keras.callbacks.EarlyStopping object at 0x7f06160048e0>]\n",
       " \tvalidation_split=0.1\n",
       " \tshuffle=True\n",
       " \trun_eagerly=False\n",
       " \tepochs=5\n",
       " \tclass_weight=None\n",
       " )}"
      ]
     },
     "execution_count": 31,
     "metadata": {},
     "output_type": "execute_result"
    }
   ],
   "source": [
    "objs_CBiGRU = [(\"Tokenize\", TweetTokenize()),\n",
    "        (\"W2V\", GloveCommomCrawlEmbeddings(transformTo=\"concat\")),\n",
    "        (\"Pad\", Padding(seq_length=150)),\n",
    "        (\"net\", CBiGRU_classifier())\n",
    "              ] \n",
    "pipe_CBiGRU = Pipeline(objs_CBiGRU)\n",
    "\n",
    "pipe_CBiGRU.named_steps"
   ]
  },
  {
   "cell_type": "markdown",
   "id": "e3aee647",
   "metadata": {},
   "source": [
    "### Cross validation"
   ]
  },
  {
   "cell_type": "code",
   "execution_count": 32,
   "id": "a454e82a",
   "metadata": {},
   "outputs": [],
   "source": [
    "pipe_CBiGRU.set_params(net__verbose=0) \n",
    "pipe_CBiGRU.set_params(net__class_weight = class_weights) \n",
    "pipe_CBiGRU.set_params(net__model__output_size=4) \n",
    "pipe_CBiGRU.set_params(net__model__dense_layer_activation_fn=\"softmax\") \n",
    "pipe_CBiGRU.set_params(net__loss=\"sparse_categorical_crossentropy\")\n",
    "pipe_CBiGRU.set_params(net__class_weight = class_weights)\n",
    "cv = LeavePGroupsOut(n_groups=9)\n",
    "cv_results_CBiGRU = cross_validate(pipe_CBiGRU,\n",
    "                                   x_train,\n",
    "                                   y_train,\n",
    "                                   groups = groups,\n",
    "                                   cv=cv,\n",
    "                                   n_jobs = -1,\n",
    "                                   scoring= \"f1_macro\")"
   ]
  },
  {
   "cell_type": "code",
   "execution_count": 33,
   "id": "612ad23b",
   "metadata": {},
   "outputs": [
    {
     "name": "stdout",
     "output_type": "stream",
     "text": [
      "F1_Macro: Mean-0.611, std-0.092\n"
     ]
    }
   ],
   "source": [
    "print(\"F1_Macro: Mean-%.3f, std-%.3f\"%(np.mean(cv_results_CBiGRU[\"test_score\"]), np.std(cv_results_CBiGRU[\"test_score\"])))"
   ]
  },
  {
   "cell_type": "code",
   "execution_count": 34,
   "id": "386bdb71",
   "metadata": {},
   "outputs": [],
   "source": [
    "results = pd.DataFrame(cv_results_CBiGRU)[\"test_score\"]\n",
    "results.rename(\"F1 Macro\", inplace=True)\n",
    "results.to_csv(Path.joinpath(results_dir, \"Glove_Common_Crawl_Embeddings_CBiGRU.csv\"), index=False)"
   ]
  },
  {
   "cell_type": "markdown",
   "id": "b0e7a2d0",
   "metadata": {},
   "source": [
    "## C-BiGRU + Word2Vec Twitter Embeddings"
   ]
  },
  {
   "cell_type": "markdown",
   "id": "e5bdcba0",
   "metadata": {},
   "source": [
    "### Pipeline"
   ]
  },
  {
   "cell_type": "code",
   "execution_count": 35,
   "id": "c27db34b",
   "metadata": {},
   "outputs": [
    {
     "data": {
      "text/plain": [
       "{'Tokenize': TweetTokenize(),\n",
       " 'W2V': Word2VecTwitter(transformTo='concat'),\n",
       " 'Pad': Padding(seq_length=150),\n",
       " 'net': CBiGRU_classifier(\n",
       " \tmodel=<function CBiGRU_model at 0x7f0616003dc0>\n",
       " \tbuild_fn=None\n",
       " \twarm_start=False\n",
       " \trandom_state=42\n",
       " \toptimizer=adam\n",
       " \tloss=binary_crossentropy\n",
       " \tmetrics=['accuracy']\n",
       " \tbatch_size=32\n",
       " \tvalidation_batch_size=None\n",
       " \tverbose=1\n",
       " \tcallbacks=[<keras.callbacks.EarlyStopping object at 0x7f06160048e0>]\n",
       " \tvalidation_split=0.1\n",
       " \tshuffle=True\n",
       " \trun_eagerly=False\n",
       " \tepochs=5\n",
       " \tclass_weight=None\n",
       " )}"
      ]
     },
     "execution_count": 35,
     "metadata": {},
     "output_type": "execute_result"
    }
   ],
   "source": [
    "objs_CBiGRU = [(\"Tokenize\", TweetTokenize()),\n",
    "        (\"W2V\", Word2VecTwitter(transformTo=\"concat\")),\n",
    "        (\"Pad\", Padding(seq_length=150)),\n",
    "        (\"net\", CBiGRU_classifier())\n",
    "              ] \n",
    "pipe_CBiGRU = Pipeline(objs_CBiGRU)\n",
    "\n",
    "pipe_CBiGRU.named_steps"
   ]
  },
  {
   "cell_type": "markdown",
   "id": "90ba7eae",
   "metadata": {},
   "source": [
    "### Cross validation"
   ]
  },
  {
   "cell_type": "code",
   "execution_count": 36,
   "id": "91e9b724",
   "metadata": {},
   "outputs": [],
   "source": [
    "pipe_CBiGRU.set_params(net__verbose=0) \n",
    "pipe_CBiGRU.set_params(net__class_weight = class_weights) \n",
    "pipe_CBiGRU.set_params(net__model__output_size=4) \n",
    "pipe_CBiGRU.set_params(net__model__dense_layer_activation_fn=\"softmax\") \n",
    "pipe_CBiGRU.set_params(net__loss=\"sparse_categorical_crossentropy\")\n",
    "pipe_CBiGRU.set_params(net__class_weight = class_weights)\n",
    "cv = LeavePGroupsOut(n_groups=9)\n",
    "cv_results_CBiGRU = cross_validate(pipe_CBiGRU,\n",
    "                                   x_train,\n",
    "                                   y_train,\n",
    "                                   groups = groups,\n",
    "                                   cv=cv,\n",
    "                                   n_jobs = -1,\n",
    "                                   scoring= \"f1_macro\")"
   ]
  },
  {
   "cell_type": "code",
   "execution_count": 37,
   "id": "b5583326",
   "metadata": {},
   "outputs": [
    {
     "name": "stdout",
     "output_type": "stream",
     "text": [
      "F1_Macro: Mean-0.622, std-0.092\n"
     ]
    }
   ],
   "source": [
    "print(\"F1_Macro: Mean-%.3f, std-%.3f\"%(np.mean(cv_results_CBiGRU[\"test_score\"]), np.std(cv_results_CBiGRU[\"test_score\"])))"
   ]
  },
  {
   "cell_type": "code",
   "execution_count": 38,
   "id": "86c1ee3c",
   "metadata": {},
   "outputs": [],
   "source": [
    "results = pd.DataFrame(cv_results_CBiGRU)[\"test_score\"]\n",
    "results.rename(\"F1 Macro\", inplace=True)\n",
    "results.to_csv(Path.joinpath(results_dir, \"Word2Vec_Twitter_CBiGRU.csv\"), index=False)"
   ]
  },
  {
   "cell_type": "markdown",
   "id": "4d641684",
   "metadata": {},
   "source": [
    "## C-BiGRU + FastText Twitter Embeddings"
   ]
  },
  {
   "cell_type": "markdown",
   "id": "466a8c20",
   "metadata": {},
   "source": [
    "### Pipeline"
   ]
  },
  {
   "cell_type": "code",
   "execution_count": 39,
   "id": "d696c339",
   "metadata": {},
   "outputs": [
    {
     "data": {
      "text/plain": [
       "{'Tokenize': TweetTokenize(),\n",
       " 'W2V': FasttextTwitter(transformTo='concat'),\n",
       " 'Pad': Padding(seq_length=150),\n",
       " 'net': CBiGRU_classifier(\n",
       " \tmodel=<function CBiGRU_model at 0x7f0616003dc0>\n",
       " \tbuild_fn=None\n",
       " \twarm_start=False\n",
       " \trandom_state=42\n",
       " \toptimizer=adam\n",
       " \tloss=binary_crossentropy\n",
       " \tmetrics=['accuracy']\n",
       " \tbatch_size=32\n",
       " \tvalidation_batch_size=None\n",
       " \tverbose=1\n",
       " \tcallbacks=[<keras.callbacks.EarlyStopping object at 0x7f06160048e0>]\n",
       " \tvalidation_split=0.1\n",
       " \tshuffle=True\n",
       " \trun_eagerly=False\n",
       " \tepochs=5\n",
       " \tclass_weight=None\n",
       " )}"
      ]
     },
     "execution_count": 39,
     "metadata": {},
     "output_type": "execute_result"
    }
   ],
   "source": [
    "objs_CBiGRU = [(\"Tokenize\", TweetTokenize()),\n",
    "        (\"W2V\", FasttextTwitter(transformTo=\"concat\")),\n",
    "        (\"Pad\", Padding(seq_length=150)),\n",
    "        (\"net\", CBiGRU_classifier())\n",
    "              ] \n",
    "pipe_CBiGRU = Pipeline(objs_CBiGRU)\n",
    "\n",
    "pipe_CBiGRU.named_steps"
   ]
  },
  {
   "cell_type": "markdown",
   "id": "1f29e18f",
   "metadata": {},
   "source": [
    "### Cross validation"
   ]
  },
  {
   "cell_type": "code",
   "execution_count": 40,
   "id": "f0cdb570",
   "metadata": {},
   "outputs": [
    {
     "name": "stderr",
     "output_type": "stream",
     "text": [
      "Warning : `load_model` does not return WordVectorModel or SupervisedModel any more, but a `FastText` object which is very similar.\n",
      "Warning : `load_model` does not return WordVectorModel or SupervisedModel any more, but a `FastText` object which is very similar.\n",
      "Warning : `load_model` does not return WordVectorModel or SupervisedModel any more, but a `FastText` object which is very similar.\n",
      "Warning : `load_model` does not return WordVectorModel or SupervisedModel any more, but a `FastText` object which is very similar.\n",
      "Warning : `load_model` does not return WordVectorModel or SupervisedModel any more, but a `FastText` object which is very similar.\n",
      "Warning : `load_model` does not return WordVectorModel or SupervisedModel any more, but a `FastText` object which is very similar.\n",
      "Warning : `load_model` does not return WordVectorModel or SupervisedModel any more, but a `FastText` object which is very similar.\n",
      "Warning : `load_model` does not return WordVectorModel or SupervisedModel any more, but a `FastText` object which is very similar.\n",
      "Warning : `load_model` does not return WordVectorModel or SupervisedModel any more, but a `FastText` object which is very similar.\n",
      "Warning : `load_model` does not return WordVectorModel or SupervisedModel any more, but a `FastText` object which is very similar.\n"
     ]
    }
   ],
   "source": [
    "pipe_CBiGRU.set_params(net__verbose=0) \n",
    "pipe_CBiGRU.set_params(net__class_weight = class_weights) \n",
    "pipe_CBiGRU.set_params(net__model__output_size=4) \n",
    "pipe_CBiGRU.set_params(net__model__dense_layer_activation_fn=\"softmax\") \n",
    "pipe_CBiGRU.set_params(net__loss=\"sparse_categorical_crossentropy\")\n",
    "pipe_CBiGRU.set_params(net__class_weight = class_weights)\n",
    "cv = LeavePGroupsOut(n_groups=9)\n",
    "cv_results_CBiGRU = cross_validate(pipe_CBiGRU,\n",
    "                                   x_train,\n",
    "                                   y_train,\n",
    "                                   groups = groups,\n",
    "                                   cv=cv,\n",
    "                                   scoring= \"f1_macro\")"
   ]
  },
  {
   "cell_type": "code",
   "execution_count": 41,
   "id": "0633aaab",
   "metadata": {},
   "outputs": [
    {
     "name": "stdout",
     "output_type": "stream",
     "text": [
      "F1_Macro: Mean-0.614, std-0.117\n"
     ]
    }
   ],
   "source": [
    "print(\"F1_Macro: Mean-%.3f, std-%.3f\"%(np.mean(cv_results_CBiGRU[\"test_score\"]), np.std(cv_results_CBiGRU[\"test_score\"])))"
   ]
  },
  {
   "cell_type": "code",
   "execution_count": 42,
   "id": "c84db2a6",
   "metadata": {},
   "outputs": [],
   "source": [
    "results = pd.DataFrame(cv_results_CBiGRU)[\"test_score\"]\n",
    "results.rename(\"F1 Macro\", inplace=True)\n",
    "results.to_csv(Path.joinpath(results_dir, \"FastText_Twitter_CBiGRU.csv\"), index=False)"
   ]
  },
  {
   "cell_type": "code",
   "execution_count": 43,
   "id": "d462e6a6",
   "metadata": {},
   "outputs": [],
   "source": [
    "data_sample = pd.read_csv(Path.joinpath(results_dir, \"FastText_Twitter_CBiGRU.csv\"))"
   ]
  },
  {
   "cell_type": "markdown",
   "id": "c3d0dcae",
   "metadata": {},
   "source": [
    "# Hypothesis Test"
   ]
  },
  {
   "cell_type": "code",
   "execution_count": 10,
   "id": "5702f419",
   "metadata": {},
   "outputs": [
    {
     "name": "stdout",
     "output_type": "stream",
     "text": [
      "Glove_Common_Crawl_Embeddings_CNN\n",
      "0.5831430811716192 0.08741800764716927\n",
      "0.5911244550133661 0.10842258126004028\n",
      "P Value: 0.8582198004489874\n",
      "Algorithms probably have the same performance\n",
      "------------------------------------------------------\n",
      "Glove_Common_Crawl_Embeddings_CBiGRU\n",
      "0.5831430811716192 0.08741800764716927\n",
      "0.6107860474249045 0.09742850538012261\n",
      "P Value: 0.5127276141796485\n",
      "Algorithms probably have the same performance\n",
      "------------------------------------------------------\n",
      "Glove_Twitter_Embeddings_CNN\n",
      "0.5831430811716192 0.08741800764716927\n",
      "0.583168733857754 0.10411463504523501\n",
      "P Value: 0.9995304602330111\n",
      "Algorithms probably have the same performance\n",
      "------------------------------------------------------\n",
      "FastText_Twitter_CNN\n",
      "0.5831430811716192 0.08741800764716927\n",
      "0.6127187224877285 0.1032684182683102\n",
      "P Value: 0.498228430284424\n",
      "Algorithms probably have the same performance\n",
      "------------------------------------------------------\n",
      "FastText_Twitter_CBiGRU\n",
      "0.5831430811716192 0.08741800764716927\n",
      "0.6140521312718514 0.1228792133138845\n",
      "P Value: 0.5250673120375383\n",
      "Algorithms probably have the same performance\n",
      "------------------------------------------------------\n",
      "Word2Vec_Twitter_CBiGRU\n",
      "0.5831430811716192 0.08741800764716927\n",
      "0.6221414748720207 0.09722188499219137\n",
      "P Value: 0.35804447404588424\n",
      "Algorithms probably have the same performance\n",
      "------------------------------------------------------\n",
      "Word2Vec_Twitter_CNN\n",
      "0.5831430811716192 0.08741800764716927\n",
      "0.6107411388316482 0.10331127500222001\n",
      "P Value: 0.5271444667250245\n",
      "Algorithms probably have the same performance\n",
      "------------------------------------------------------\n",
      "Glove_Twitter_Embeddings_CBiGRU\n",
      "0.5831430811716192 0.08741800764716927\n",
      "0.5693315004578483 0.13758701844385046\n",
      "P Value: 0.7917951294762842\n",
      "Algorithms probably have the same performance\n",
      "------------------------------------------------------\n"
     ]
    }
   ],
   "source": [
    "SVM_results = pd.read_csv(Path.joinpath(results_dir, \"SVM_TFIDF.csv\"))\n",
    "\n",
    "for i, file in enumerate(os.listdir(results_dir)):\n",
    "    if \"SVM\" not in file:\n",
    "        other_results = pd.read_csv(Path.joinpath(results_dir, file))\n",
    "        print(file.replace(\".csv\",\"\"))\n",
    "        \n",
    "        print(SVM_results[\"F1 Macro\"].mean(), SVM_results[\"F1 Macro\"].std())\n",
    "        print(other_results[\"F1 Macro\"].mean(), other_results[\"F1 Macro\"].std())\n",
    "        \n",
    "        ttest = stats.ttest_ind(SVM_results[\"F1 Macro\"], other_results[\"F1 Macro\"])\n",
    "        print(\"P Value:\", ttest.pvalue)\n",
    "\n",
    "        # interpret the result\n",
    "        if ttest.pvalue <= 0.05:\n",
    "            print('Difference between mean performance is probably real')\n",
    "        else:\n",
    "            print('Algorithms probably have the same performance')\n",
    "        print(\"------------------------------------------------------\")"
   ]
  },
  {
   "cell_type": "markdown",
   "id": "2d02e8ab",
   "metadata": {},
   "source": [
    "# Plots"
   ]
  },
  {
   "cell_type": "code",
   "execution_count": 6,
   "id": "ccf0fc37",
   "metadata": {},
   "outputs": [],
   "source": [
    "data = pd.DataFrame(columns=[\"x_axis\", \"F1 Macro\", \"Experiments\", \"Model\"])\n",
    "for i, file in enumerate(os.listdir(results_dir)):\n",
    "        data_sample = pd.read_csv(Path.joinpath(results_dir, file))\n",
    "        if \"CNN\" in file:\n",
    "            data_sample[\"Model\"] = \"CNN\"\n",
    "            file = file.replace(\"CNN\", \"\")\n",
    "        elif \"CBiGRU\" in file:\n",
    "            data_sample[\"Model\"] = \"C-BiGRU\"\n",
    "            file = file.replace(\"CBiGRU\", \"\")\n",
    "        else: data_sample[\"Model\"] = \"SVM\"\n",
    "        data_sample[\"Experiments\"] = file.replace(\"_\", \"\\n\").replace(\".csv\",\"\")\n",
    "        data_sample[\"x_axis\"]=i\n",
    "        data = pd.concat([data, data_sample[[\"x_axis\", \"F1 Macro\", \"Experiments\", \"Model\"]]])\n",
    "        \n",
    "data = data.astype({\"Experiments\":\"category\", \"Model\":\"category\", \"x_axis\": \"category\", \"F1 Macro\":\"float64\"})"
   ]
  },
  {
   "cell_type": "code",
   "execution_count": 7,
   "id": "4064d72d",
   "metadata": {},
   "outputs": [],
   "source": [
    "grp = data.groupby(['Model', 'Experiments'])['F1 Macro'].mean().sort_values().iloc[::-1]\n",
    "grp_index = grp[~grp.isna()].index \n",
    "seen = set()\n",
    "seen_add = seen.add\n",
    "order = [x[1] for x in grp_index if not (x[1] in seen or seen_add(x[1]))][::-1]"
   ]
  },
  {
   "cell_type": "code",
   "execution_count": 8,
   "id": "10e4875e",
   "metadata": {},
   "outputs": [
    {
     "data": {
      "image/png": "[encoded data removed]",
      "text/plain": [
       "<Figure size 437.875x360 with 1 Axes>"
      ]
     },
     "metadata": {},
     "output_type": "display_data"
    }
   ],
   "source": [
    "sns.set_style(\"darkgrid\")\n",
    " \n",
    "g = sns.catplot(x=\"Experiments\", y=\"F1 Macro\",\n",
    "               data=data, kind=\"violin\", hue=\"Model\", order=order)\n",
    "\n",
    "for ax in g.axes.flat:\n",
    "    ax.get_xaxis().set_minor_locator(AutoMinorLocator())\n",
    "    ax.get_yaxis().set_minor_locator(AutoMinorLocator())\n",
    "    ax.grid(visible=True, which='major', color='w', linewidth=1.0)\n",
    "    ax.grid(visible=True, which='minor', color='w', linewidth=0.5)\n",
    "\n",
    "xlabel('Dataset', fontsize=12, fontweight='bold')\n",
    "ylabel('F1 Macro', fontsize=12, fontweight='bold')\n",
    "plt.savefig(Path.joinpath(results_plot, \"Incidence detection on different cities - Multi.pdf\"))\n",
    "plt.show()"
   ]
  }
 ],
 "metadata": {
  "kernelspec": {
   "display_name": "Python 3 (ipykernel)",
   "language": "python",
   "name": "python3"
  },
  "language_info": {
   "codemirror_mode": {
    "name": "ipython",
    "version": 3
   },
   "file_extension": ".py",
   "mimetype": "text/x-python",
   "name": "python",
   "nbconvert_exporter": "python",
   "pygments_lexer": "ipython3",
   "version": "3.9.12"
  },
  "toc": {
   "base_numbering": 1,
   "nav_menu": {},
   "number_sections": true,
   "sideBar": true,
   "skip_h1_title": false,
   "title_cell": "Table of Contents",
   "title_sidebar": "Contents",
   "toc_cell": false,
   "toc_position": {},
   "toc_section_display": true,
   "toc_window_display": true
  }
 },
 "nbformat": 4,
 "nbformat_minor": 5
}
